{
 "metadata": {
  "language_info": {
   "codemirror_mode": {
    "name": "ipython",
    "version": 3
   },
   "file_extension": ".py",
   "mimetype": "text/x-python",
   "name": "python",
   "nbconvert_exporter": "python",
   "pygments_lexer": "ipython3",
   "version": "3.7.3"
  },
  "orig_nbformat": 2,
  "kernelspec": {
   "name": "python3",
   "display_name": "Python 3.7.3 64-bit",
   "metadata": {
    "interpreter": {
     "hash": "31f2aee4e71d21fbe5cf8b01ff0e069b9275f58929596ceb00d14d90e3e16cd6"
    }
   }
  }
 },
 "nbformat": 4,
 "nbformat_minor": 2,
 "cells": [
  {
   "cell_type": "code",
   "execution_count": 1,
   "metadata": {},
   "outputs": [],
   "source": [
    "import plotly\n",
    "import math\n",
    "import string\n",
    "import random\n",
    "import plotly.graph_objs as go\n",
    "import plotly.express as px\n",
    "import matplotlib.pyplot as plt\n",
    "from plotly.subplots import make_subplots\n",
    "import pandas as pd\n",
    "import numpy as np\n",
    "from sklearn.linear_model import LinearRegression\n",
    "from sklearn.linear_model import Ridge\n",
    "import warnings\n",
    "warnings.filterwarnings('ignore')\n",
    "from collections import Counter, OrderedDict, defaultdict\n",
    "from nltk.tokenize import RegexpTokenizer\n",
    "from nltk.probability import FreqDist\n",
    "LETTERS = \"абвгдеёжзийклмнопрстуфхцчшщъыьэюя \""
   ]
  },
  {
   "source": [
    "## Реализуйте базовый частотный метод по Шерлоку Холмсу:\n",
    "    подсчитайте частоты букв по корпусам (пунктуацию и капитализацию можно просто опустить, а вот пробелы лучше оставить);\n"
   ],
   "cell_type": "markdown",
   "metadata": {}
  },
  {
   "cell_type": "code",
   "execution_count": 2,
   "metadata": {},
   "outputs": [],
   "source": [
    "with open('corpora/WarAndPeace.txt', 'r') as iofile:\n",
    "    ru_text = iofile.readlines()"
   ]
  },
  {
   "source": [
    "Функция убирающая лишние симфолы, и убираующая пунктуацию, подсчитывающая частоту встречаемости букв"
   ],
   "cell_type": "markdown",
   "metadata": {}
  },
  {
   "cell_type": "code",
   "execution_count": 3,
   "metadata": {},
   "outputs": [],
   "source": [
    "def frequency(text):\n",
    "    st = []\n",
    "    ru_string = []\n",
    "    tota = OrderedDict()\n",
    "    tokenizer = RegexpTokenizer(r'\\w+')\n",
    "    for i in range(len(text)):\n",
    "        total = tokenizer.tokenize(text[i])\n",
    "        st.append(\" \".join(total).lower())\n",
    "    totalstr = \" \".join(st)\n",
    "    for i in totalstr:\n",
    "        if i in \"абвгдеёжзийклмнопрстуфхцчшщъыьэюя \":\n",
    "            ru_string.append(i)\n",
    "    res = FreqDist(ru_string)\n",
    "    return (res)\n",
    "fdist = frequency(ru_text)"
   ]
  },
  {
   "source": [
    "Посмотрим на распреледение букв в тесте, в целом, очень похоже на частоту встречаемости букв в той же википедии (https://ru.wikipedia.org/wiki/Русский_алфавит)"
   ],
   "cell_type": "markdown",
   "metadata": {}
  },
  {
   "cell_type": "code",
   "execution_count": 4,
   "metadata": {},
   "outputs": [
    {
     "output_type": "display_data",
     "data": {
      "text/plain": "<Figure size 432x288 with 1 Axes>",
      "image/svg+xml": "<?xml version=\"1.0\" encoding=\"utf-8\" standalone=\"no\"?>\n<!DOCTYPE svg PUBLIC \"-//W3C//DTD SVG 1.1//EN\"\n  \"http://www.w3.org/Graphics/SVG/1.1/DTD/svg11.dtd\">\n<!-- Created with matplotlib (https://matplotlib.org/) -->\n<svg height=\"264.992744pt\" version=\"1.1\" viewBox=\"0 0 408.053125 264.992744\" width=\"408.053125pt\" xmlns=\"http://www.w3.org/2000/svg\" xmlns:xlink=\"http://www.w3.org/1999/xlink\">\n <metadata>\n  <rdf:RDF xmlns:cc=\"http://creativecommons.org/ns#\" xmlns:dc=\"http://purl.org/dc/elements/1.1/\" xmlns:rdf=\"http://www.w3.org/1999/02/22-rdf-syntax-ns#\">\n   <cc:Work>\n    <dc:type rdf:resource=\"http://purl.org/dc/dcmitype/StillImage\"/>\n    <dc:date>2021-05-22T19:00:08.224024</dc:date>\n    <dc:format>image/svg+xml</dc:format>\n    <dc:creator>\n     <cc:Agent>\n      <dc:title>Matplotlib v3.3.1, https://matplotlib.org/</dc:title>\n     </cc:Agent>\n    </dc:creator>\n   </cc:Work>\n  </rdf:RDF>\n </metadata>\n <defs>\n  <style type=\"text/css\">*{stroke-linecap:butt;stroke-linejoin:round;}</style>\n </defs>\n <g id=\"figure_1\">\n  <g id=\"patch_1\">\n   <path d=\"M 0 264.992744 \nL 408.053125 264.992744 \nL 408.053125 0 \nL 0 0 \nz\n\" style=\"fill:none;\"/>\n  </g>\n  <g id=\"axes_1\">\n   <g id=\"patch_2\">\n    <path d=\"M 66.053125 227.695869 \nL 400.853125 227.695869 \nL 400.853125 10.255869 \nL 66.053125 10.255869 \nz\n\" style=\"fill:#ffffff;\"/>\n   </g>\n   <g id=\"matplotlib.axis_1\">\n    <g id=\"xtick_1\">\n     <g id=\"line2d_1\">\n      <path clip-path=\"url(#p19325c5869)\" d=\"M 81.271307 227.695869 \nL 81.271307 10.255869 \n\" style=\"fill:none;stroke:#c0c0c0;stroke-linecap:square;stroke-width:0.8;\"/>\n     </g>\n     <g id=\"line2d_2\">\n      <defs>\n       <path d=\"M 0 0 \nL 0 3.5 \n\" id=\"m1da3d7553c\" style=\"stroke:#000000;stroke-width:0.8;\"/>\n      </defs>\n      <g>\n       <use style=\"stroke:#000000;stroke-width:0.8;\" x=\"81.271307\" xlink:href=\"#m1da3d7553c\" y=\"227.695869\"/>\n      </g>\n     </g>\n     <g id=\"text_1\">\n      <!--   -->\n      <g transform=\"translate(84.030682 237.873994)rotate(-90)scale(0.1 -0.1)\">\n       <defs>\n        <path id=\"DejaVuSans-32\"/>\n       </defs>\n       <use xlink:href=\"#DejaVuSans-32\"/>\n      </g>\n     </g>\n    </g>\n    <g id=\"xtick_2\">\n     <g id=\"line2d_3\">\n      <path clip-path=\"url(#p19325c5869)\" d=\"M 90.494447 227.695869 \nL 90.494447 10.255869 \n\" style=\"fill:none;stroke:#c0c0c0;stroke-linecap:square;stroke-width:0.8;\"/>\n     </g>\n     <g id=\"line2d_4\">\n      <g>\n       <use style=\"stroke:#000000;stroke-width:0.8;\" x=\"90.494447\" xlink:href=\"#m1da3d7553c\" y=\"227.695869\"/>\n      </g>\n     </g>\n     <g id=\"text_2\">\n      <!-- о -->\n      <g transform=\"translate(93.253822 240.814619)rotate(-90)scale(0.1 -0.1)\">\n       <defs>\n        <path d=\"M 30.609375 48.390625 \nQ 23.390625 48.390625 19.1875 42.75 \nQ 14.984375 37.109375 14.984375 27.296875 \nQ 14.984375 17.484375 19.15625 11.84375 \nQ 23.34375 6.203125 30.609375 6.203125 \nQ 37.796875 6.203125 41.984375 11.859375 \nQ 46.1875 17.53125 46.1875 27.296875 \nQ 46.1875 37.015625 41.984375 42.703125 \nQ 37.796875 48.390625 30.609375 48.390625 \nz\nM 30.609375 56 \nQ 42.328125 56 49.015625 48.375 \nQ 55.71875 40.765625 55.71875 27.296875 \nQ 55.71875 13.875 49.015625 6.21875 \nQ 42.328125 -1.421875 30.609375 -1.421875 \nQ 18.84375 -1.421875 12.171875 6.21875 \nQ 5.515625 13.875 5.515625 27.296875 \nQ 5.515625 40.765625 12.171875 48.375 \nQ 18.84375 56 30.609375 56 \nz\n\" id=\"DejaVuSans-1086\"/>\n       </defs>\n       <use xlink:href=\"#DejaVuSans-1086\"/>\n      </g>\n     </g>\n    </g>\n    <g id=\"xtick_3\">\n     <g id=\"line2d_5\">\n      <path clip-path=\"url(#p19325c5869)\" d=\"M 99.717588 227.695869 \nL 99.717588 10.255869 \n\" style=\"fill:none;stroke:#c0c0c0;stroke-linecap:square;stroke-width:0.8;\"/>\n     </g>\n     <g id=\"line2d_6\">\n      <g>\n       <use style=\"stroke:#000000;stroke-width:0.8;\" x=\"99.717588\" xlink:href=\"#m1da3d7553c\" y=\"227.695869\"/>\n      </g>\n     </g>\n     <g id=\"text_3\">\n      <!-- а -->\n      <g transform=\"translate(102.476963 240.823994)rotate(-90)scale(0.1 -0.1)\">\n       <defs>\n        <path d=\"M 34.28125 27.484375 \nQ 23.390625 27.484375 19.1875 25 \nQ 14.984375 22.515625 14.984375 16.5 \nQ 14.984375 11.71875 18.140625 8.90625 \nQ 21.296875 6.109375 26.703125 6.109375 \nQ 34.1875 6.109375 38.703125 11.40625 \nQ 43.21875 16.703125 43.21875 25.484375 \nL 43.21875 27.484375 \nz\nM 52.203125 31.203125 \nL 52.203125 0 \nL 43.21875 0 \nL 43.21875 8.296875 \nQ 40.140625 3.328125 35.546875 0.953125 \nQ 30.953125 -1.421875 24.3125 -1.421875 \nQ 15.921875 -1.421875 10.953125 3.296875 \nQ 6 8.015625 6 15.921875 \nQ 6 25.140625 12.171875 29.828125 \nQ 18.359375 34.515625 30.609375 34.515625 \nL 43.21875 34.515625 \nL 43.21875 35.40625 \nQ 43.21875 41.609375 39.140625 45 \nQ 35.0625 48.390625 27.6875 48.390625 \nQ 23 48.390625 18.546875 47.265625 \nQ 14.109375 46.140625 10.015625 43.890625 \nL 10.015625 52.203125 \nQ 14.9375 54.109375 19.578125 55.046875 \nQ 24.21875 56 28.609375 56 \nQ 40.484375 56 46.34375 49.84375 \nQ 52.203125 43.703125 52.203125 31.203125 \nz\n\" id=\"DejaVuSans-1072\"/>\n       </defs>\n       <use xlink:href=\"#DejaVuSans-1072\"/>\n      </g>\n     </g>\n    </g>\n    <g id=\"xtick_4\">\n     <g id=\"line2d_7\">\n      <path clip-path=\"url(#p19325c5869)\" d=\"M 108.940728 227.695869 \nL 108.940728 10.255869 \n\" style=\"fill:none;stroke:#c0c0c0;stroke-linecap:square;stroke-width:0.8;\"/>\n     </g>\n     <g id=\"line2d_8\">\n      <g>\n       <use style=\"stroke:#000000;stroke-width:0.8;\" x=\"108.940728\" xlink:href=\"#m1da3d7553c\" y=\"227.695869\"/>\n      </g>\n     </g>\n     <g id=\"text_4\">\n      <!-- е -->\n      <g transform=\"translate(111.700103 240.848994)rotate(-90)scale(0.1 -0.1)\">\n       <defs>\n        <path d=\"M 56.203125 29.59375 \nL 56.203125 25.203125 \nL 14.890625 25.203125 \nQ 15.484375 15.921875 20.484375 11.0625 \nQ 25.484375 6.203125 34.421875 6.203125 \nQ 39.59375 6.203125 44.453125 7.46875 \nQ 49.3125 8.734375 54.109375 11.28125 \nL 54.109375 2.78125 \nQ 49.265625 0.734375 44.1875 -0.34375 \nQ 39.109375 -1.421875 33.890625 -1.421875 \nQ 20.796875 -1.421875 13.15625 6.1875 \nQ 5.515625 13.8125 5.515625 26.8125 \nQ 5.515625 40.234375 12.765625 48.109375 \nQ 20.015625 56 32.328125 56 \nQ 43.359375 56 49.78125 48.890625 \nQ 56.203125 41.796875 56.203125 29.59375 \nz\nM 47.21875 32.234375 \nQ 47.125 39.59375 43.09375 43.984375 \nQ 39.0625 48.390625 32.421875 48.390625 \nQ 24.90625 48.390625 20.390625 44.140625 \nQ 15.875 39.890625 15.1875 32.171875 \nz\n\" id=\"DejaVuSans-1077\"/>\n       </defs>\n       <use xlink:href=\"#DejaVuSans-1077\"/>\n      </g>\n     </g>\n    </g>\n    <g id=\"xtick_5\">\n     <g id=\"line2d_9\">\n      <path clip-path=\"url(#p19325c5869)\" d=\"M 118.163869 227.695869 \nL 118.163869 10.255869 \n\" style=\"fill:none;stroke:#c0c0c0;stroke-linecap:square;stroke-width:0.8;\"/>\n     </g>\n     <g id=\"line2d_10\">\n      <g>\n       <use style=\"stroke:#000000;stroke-width:0.8;\" x=\"118.163869\" xlink:href=\"#m1da3d7553c\" y=\"227.695869\"/>\n      </g>\n     </g>\n     <g id=\"text_5\">\n      <!-- и -->\n      <g transform=\"translate(120.923244 241.194306)rotate(-90)scale(0.1 -0.1)\">\n       <defs>\n        <path d=\"M 55.90625 54.6875 \nL 55.90625 0 \nL 46.96875 0 \nL 46.96875 43.890625 \nL 20.609375 0 \nL 9.078125 0 \nL 9.078125 54.6875 \nL 18.015625 54.6875 \nL 18.015625 10.890625 \nL 44.34375 54.6875 \nz\n\" id=\"DejaVuSans-1080\"/>\n       </defs>\n       <use xlink:href=\"#DejaVuSans-1080\"/>\n      </g>\n     </g>\n    </g>\n    <g id=\"xtick_6\">\n     <g id=\"line2d_11\">\n      <path clip-path=\"url(#p19325c5869)\" d=\"M 127.387009 227.695869 \nL 127.387009 10.255869 \n\" style=\"fill:none;stroke:#c0c0c0;stroke-linecap:square;stroke-width:0.8;\"/>\n     </g>\n     <g id=\"line2d_12\">\n      <g>\n       <use style=\"stroke:#000000;stroke-width:0.8;\" x=\"127.387009\" xlink:href=\"#m1da3d7553c\" y=\"227.695869\"/>\n      </g>\n     </g>\n     <g id=\"text_6\">\n      <!-- н -->\n      <g transform=\"translate(130.146384 241.233369)rotate(-90)scale(0.1 -0.1)\">\n       <defs>\n        <path d=\"M 9.078125 54.6875 \nL 18.109375 54.6875 \nL 18.109375 32.375 \nL 47.265625 32.375 \nL 47.265625 54.6875 \nL 56.296875 54.6875 \nL 56.296875 0 \nL 47.265625 0 \nL 47.265625 25.203125 \nL 18.109375 25.203125 \nL 18.109375 0 \nL 9.078125 0 \nz\n\" id=\"DejaVuSans-1085\"/>\n       </defs>\n       <use xlink:href=\"#DejaVuSans-1085\"/>\n      </g>\n     </g>\n    </g>\n    <g id=\"xtick_7\">\n     <g id=\"line2d_13\">\n      <path clip-path=\"url(#p19325c5869)\" d=\"M 136.61015 227.695869 \nL 136.61015 10.255869 \n\" style=\"fill:none;stroke:#c0c0c0;stroke-linecap:square;stroke-width:0.8;\"/>\n     </g>\n     <g id=\"line2d_14\">\n      <g>\n       <use style=\"stroke:#000000;stroke-width:0.8;\" x=\"136.61015\" xlink:href=\"#m1da3d7553c\" y=\"227.695869\"/>\n      </g>\n     </g>\n     <g id=\"text_7\">\n      <!-- т -->\n      <g transform=\"translate(139.369525 240.520869)rotate(-90)scale(0.1 -0.1)\">\n       <defs>\n        <path d=\"M 2.9375 54.6875 \nL 55.328125 54.6875 \nL 55.328125 47.515625 \nL 33.546875 47.515625 \nL 33.546875 0 \nL 24.703125 0 \nL 24.703125 47.515625 \nL 2.9375 47.515625 \nz\n\" id=\"DejaVuSans-1090\"/>\n       </defs>\n       <use xlink:href=\"#DejaVuSans-1090\"/>\n      </g>\n     </g>\n    </g>\n    <g id=\"xtick_8\">\n     <g id=\"line2d_15\">\n      <path clip-path=\"url(#p19325c5869)\" d=\"M 145.83329 227.695869 \nL 145.83329 10.255869 \n\" style=\"fill:none;stroke:#c0c0c0;stroke-linecap:square;stroke-width:0.8;\"/>\n     </g>\n     <g id=\"line2d_16\">\n      <g>\n       <use style=\"stroke:#000000;stroke-width:0.8;\" x=\"145.83329\" xlink:href=\"#m1da3d7553c\" y=\"227.695869\"/>\n      </g>\n     </g>\n     <g id=\"text_8\">\n      <!-- с -->\n      <g transform=\"translate(148.592665 240.194306)rotate(-90)scale(0.1 -0.1)\">\n       <defs>\n        <path d=\"M 48.78125 52.59375 \nL 48.78125 44.1875 \nQ 44.96875 46.296875 41.140625 47.34375 \nQ 37.3125 48.390625 33.40625 48.390625 \nQ 24.65625 48.390625 19.8125 42.84375 \nQ 14.984375 37.3125 14.984375 27.296875 \nQ 14.984375 17.28125 19.8125 11.734375 \nQ 24.65625 6.203125 33.40625 6.203125 \nQ 37.3125 6.203125 41.140625 7.25 \nQ 44.96875 8.296875 48.78125 10.40625 \nL 48.78125 2.09375 \nQ 45.015625 0.34375 40.984375 -0.53125 \nQ 36.96875 -1.421875 32.421875 -1.421875 \nQ 20.0625 -1.421875 12.78125 6.34375 \nQ 5.515625 14.109375 5.515625 27.296875 \nQ 5.515625 40.671875 12.859375 48.328125 \nQ 20.21875 56 33.015625 56 \nQ 37.15625 56 41.109375 55.140625 \nQ 45.0625 54.296875 48.78125 52.59375 \nz\n\" id=\"DejaVuSans-1089\"/>\n       </defs>\n       <use xlink:href=\"#DejaVuSans-1089\"/>\n      </g>\n     </g>\n    </g>\n    <g id=\"xtick_9\">\n     <g id=\"line2d_17\">\n      <path clip-path=\"url(#p19325c5869)\" d=\"M 155.056431 227.695869 \nL 155.056431 10.255869 \n\" style=\"fill:none;stroke:#c0c0c0;stroke-linecap:square;stroke-width:0.8;\"/>\n     </g>\n     <g id=\"line2d_18\">\n      <g>\n       <use style=\"stroke:#000000;stroke-width:0.8;\" x=\"155.056431\" xlink:href=\"#m1da3d7553c\" y=\"227.695869\"/>\n      </g>\n     </g>\n     <g id=\"text_9\">\n      <!-- л -->\n      <g transform=\"translate(157.815806 241.088056)rotate(-90)scale(0.1 -0.1)\">\n       <defs>\n        <path d=\"M 3.71875 0 \nL 3.71875 7.46875 \nQ 12.59375 8.84375 15.328125 14.984375 \nQ 18.65625 23.640625 18.65625 45.75 \nL 18.65625 54.6875 \nL 55.609375 54.6875 \nL 55.609375 0 \nL 46.625 0 \nL 46.625 47.515625 \nL 27.640625 47.515625 \nL 27.640625 42.09375 \nQ 27.640625 21 23.34375 11.53125 \nQ 18.75 1.421875 3.71875 0 \nz\n\" id=\"DejaVuSans-1083\"/>\n       </defs>\n       <use xlink:href=\"#DejaVuSans-1083\"/>\n      </g>\n     </g>\n    </g>\n    <g id=\"xtick_10\">\n     <g id=\"line2d_19\">\n      <path clip-path=\"url(#p19325c5869)\" d=\"M 164.279571 227.695869 \nL 164.279571 10.255869 \n\" style=\"fill:none;stroke:#c0c0c0;stroke-linecap:square;stroke-width:0.8;\"/>\n     </g>\n     <g id=\"line2d_20\">\n      <g>\n       <use style=\"stroke:#000000;stroke-width:0.8;\" x=\"164.279571\" xlink:href=\"#m1da3d7553c\" y=\"227.695869\"/>\n      </g>\n     </g>\n     <g id=\"text_10\">\n      <!-- в -->\n      <g transform=\"translate(167.038946 240.589619)rotate(-90)scale(0.1 -0.1)\">\n       <defs>\n        <path d=\"M 18.0625 25.203125 \nL 18.0625 7.171875 \nL 30.859375 7.171875 \nQ 37.015625 7.171875 40.234375 9.484375 \nQ 43.453125 11.8125 43.453125 16.21875 \nQ 43.453125 20.609375 40.234375 22.90625 \nQ 37.015625 25.203125 30.859375 25.203125 \nz\nM 18.0625 47.515625 \nL 18.0625 32.375 \nL 29.890625 32.375 \nQ 34.96875 32.375 38.1875 34.390625 \nQ 41.40625 36.421875 41.40625 40.046875 \nQ 41.40625 43.65625 38.1875 45.578125 \nQ 34.96875 47.515625 29.890625 47.515625 \nz\nM 9.078125 54.6875 \nL 30.46875 54.6875 \nQ 40.09375 54.6875 45.265625 51.171875 \nQ 50.4375 47.65625 50.4375 41.15625 \nQ 50.4375 36.140625 47.796875 33.171875 \nQ 45.171875 30.21875 39.984375 29.5 \nQ 46.1875 28.328125 49.609375 24.609375 \nQ 53.03125 20.90625 53.03125 15.328125 \nQ 53.03125 8.015625 47.390625 4 \nQ 41.75 0 31.296875 0 \nL 9.078125 0 \nz\n\" id=\"DejaVuSans-1074\"/>\n       </defs>\n       <use xlink:href=\"#DejaVuSans-1074\"/>\n      </g>\n     </g>\n    </g>\n    <g id=\"xtick_11\">\n     <g id=\"line2d_21\">\n      <path clip-path=\"url(#p19325c5869)\" d=\"M 173.502712 227.695869 \nL 173.502712 10.255869 \n\" style=\"fill:none;stroke:#c0c0c0;stroke-linecap:square;stroke-width:0.8;\"/>\n     </g>\n     <g id=\"line2d_22\">\n      <g>\n       <use style=\"stroke:#000000;stroke-width:0.8;\" x=\"173.502712\" xlink:href=\"#m1da3d7553c\" y=\"227.695869\"/>\n      </g>\n     </g>\n     <g id=\"text_11\">\n      <!-- р -->\n      <g transform=\"translate(176.262087 241.044306)rotate(-90)scale(0.1 -0.1)\">\n       <defs>\n        <path d=\"M 18.109375 8.203125 \nL 18.109375 -20.796875 \nL 9.078125 -20.796875 \nL 9.078125 54.6875 \nL 18.109375 54.6875 \nL 18.109375 46.390625 \nQ 20.953125 51.265625 25.265625 53.625 \nQ 29.59375 56 35.59375 56 \nQ 45.5625 56 51.78125 48.09375 \nQ 58.015625 40.1875 58.015625 27.296875 \nQ 58.015625 14.40625 51.78125 6.484375 \nQ 45.5625 -1.421875 35.59375 -1.421875 \nQ 29.59375 -1.421875 25.265625 0.953125 \nQ 20.953125 3.328125 18.109375 8.203125 \nz\nM 48.6875 27.296875 \nQ 48.6875 37.203125 44.609375 42.84375 \nQ 40.53125 48.484375 33.40625 48.484375 \nQ 26.265625 48.484375 22.1875 42.84375 \nQ 18.109375 37.203125 18.109375 27.296875 \nQ 18.109375 17.390625 22.1875 11.75 \nQ 26.265625 6.109375 33.40625 6.109375 \nQ 40.53125 6.109375 44.609375 11.75 \nQ 48.6875 17.390625 48.6875 27.296875 \nz\n\" id=\"DejaVuSans-1088\"/>\n       </defs>\n       <use xlink:href=\"#DejaVuSans-1088\"/>\n      </g>\n     </g>\n    </g>\n    <g id=\"xtick_12\">\n     <g id=\"line2d_23\">\n      <path clip-path=\"url(#p19325c5869)\" d=\"M 182.725852 227.695869 \nL 182.725852 10.255869 \n\" style=\"fill:none;stroke:#c0c0c0;stroke-linecap:square;stroke-width:0.8;\"/>\n     </g>\n     <g id=\"line2d_24\">\n      <g>\n       <use style=\"stroke:#000000;stroke-width:0.8;\" x=\"182.725852\" xlink:href=\"#m1da3d7553c\" y=\"227.695869\"/>\n      </g>\n     </g>\n     <g id=\"text_12\">\n      <!-- к -->\n      <g transform=\"translate(185.485227 240.736494)rotate(-90)scale(0.1 -0.1)\">\n       <defs>\n        <path d=\"M 9.078125 54.6875 \nL 18.015625 54.6875 \nL 18.015625 29 \nL 43.359375 54.6875 \nL 54.390625 54.6875 \nL 33.5 33.546875 \nL 57.078125 0 \nL 47.015625 0 \nL 27.640625 27.59375 \nL 18.015625 17.828125 \nL 18.015625 0 \nL 9.078125 0 \nz\n\" id=\"DejaVuSans-1082\"/>\n       </defs>\n       <use xlink:href=\"#DejaVuSans-1082\"/>\n      </g>\n     </g>\n    </g>\n    <g id=\"xtick_13\">\n     <g id=\"line2d_25\">\n      <path clip-path=\"url(#p19325c5869)\" d=\"M 191.948993 227.695869 \nL 191.948993 10.255869 \n\" style=\"fill:none;stroke:#c0c0c0;stroke-linecap:square;stroke-width:0.8;\"/>\n     </g>\n     <g id=\"line2d_26\">\n      <g>\n       <use style=\"stroke:#000000;stroke-width:0.8;\" x=\"191.948993\" xlink:href=\"#m1da3d7553c\" y=\"227.695869\"/>\n      </g>\n     </g>\n     <g id=\"text_13\">\n      <!-- д -->\n      <g transform=\"translate(194.708368 241.609931)rotate(-90)scale(0.1 -0.1)\">\n       <defs>\n        <path d=\"M 21.625 7.171875 \nL 47.703125 7.171875 \nL 47.703125 47.515625 \nL 28.8125 47.515625 \nL 28.8125 40.671875 \nQ 28.8125 20.5625 23.046875 9.8125 \nz\nM 8.59375 7.171875 \nQ 13.03125 9.125 14.984375 13.28125 \nQ 19.78125 23.578125 19.78125 44.34375 \nL 19.78125 54.6875 \nL 56.734375 54.6875 \nL 56.734375 7.171875 \nL 63.921875 7.171875 \nL 63.921875 -13.8125 \nL 56.734375 -13.8125 \nL 56.734375 0 \nL 12.40625 0 \nL 12.40625 -13.8125 \nL 5.21875 -13.8125 \nL 5.21875 7.171875 \nz\n\" id=\"DejaVuSans-1076\"/>\n       </defs>\n       <use xlink:href=\"#DejaVuSans-1076\"/>\n      </g>\n     </g>\n    </g>\n    <g id=\"xtick_14\">\n     <g id=\"line2d_27\">\n      <path clip-path=\"url(#p19325c5869)\" d=\"M 201.172133 227.695869 \nL 201.172133 10.255869 \n\" style=\"fill:none;stroke:#c0c0c0;stroke-linecap:square;stroke-width:0.8;\"/>\n     </g>\n     <g id=\"line2d_28\">\n      <g>\n       <use style=\"stroke:#000000;stroke-width:0.8;\" x=\"201.172133\" xlink:href=\"#m1da3d7553c\" y=\"227.695869\"/>\n      </g>\n     </g>\n     <g id=\"text_14\">\n      <!-- м -->\n      <g transform=\"translate(203.931508 242.239619)rotate(-90)scale(0.1 -0.1)\">\n       <defs>\n        <path d=\"M 9.078125 54.6875 \nL 22.21875 54.6875 \nL 37.75 18.0625 \nL 53.328125 54.6875 \nL 66.359375 54.6875 \nL 66.359375 0 \nL 57.328125 0 \nL 57.328125 46.09375 \nL 42.234375 10.5 \nL 33.25 10.5 \nL 18.109375 46.09375 \nL 18.109375 0 \nL 9.078125 0 \nz\n\" id=\"DejaVuSans-1084\"/>\n       </defs>\n       <use xlink:href=\"#DejaVuSans-1084\"/>\n      </g>\n     </g>\n    </g>\n    <g id=\"xtick_15\">\n     <g id=\"line2d_29\">\n      <path clip-path=\"url(#p19325c5869)\" d=\"M 210.395274 227.695869 \nL 210.395274 10.255869 \n\" style=\"fill:none;stroke:#c0c0c0;stroke-linecap:square;stroke-width:0.8;\"/>\n     </g>\n     <g id=\"line2d_30\">\n      <g>\n       <use style=\"stroke:#000000;stroke-width:0.8;\" x=\"210.395274\" xlink:href=\"#m1da3d7553c\" y=\"227.695869\"/>\n      </g>\n     </g>\n     <g id=\"text_15\">\n      <!-- у -->\n      <g transform=\"translate(213.154649 240.614619)rotate(-90)scale(0.1 -0.1)\">\n       <defs>\n        <path d=\"M 32.171875 -5.078125 \nQ 28.375 -14.84375 24.75 -17.8125 \nQ 21.140625 -20.796875 15.09375 -20.796875 \nL 7.90625 -20.796875 \nL 7.90625 -13.28125 \nL 13.1875 -13.28125 \nQ 16.890625 -13.28125 18.9375 -11.515625 \nQ 21 -9.765625 23.484375 -3.21875 \nL 25.09375 0.875 \nL 2.984375 54.6875 \nL 12.5 54.6875 \nL 29.59375 11.921875 \nL 46.6875 54.6875 \nL 56.203125 54.6875 \nz\n\" id=\"DejaVuSans-1091\"/>\n       </defs>\n       <use xlink:href=\"#DejaVuSans-1091\"/>\n      </g>\n     </g>\n    </g>\n    <g id=\"xtick_16\">\n     <g id=\"line2d_31\">\n      <path clip-path=\"url(#p19325c5869)\" d=\"M 219.618414 227.695869 \nL 219.618414 10.255869 \n\" style=\"fill:none;stroke:#c0c0c0;stroke-linecap:square;stroke-width:0.8;\"/>\n     </g>\n     <g id=\"line2d_32\">\n      <g>\n       <use style=\"stroke:#000000;stroke-width:0.8;\" x=\"219.618414\" xlink:href=\"#m1da3d7553c\" y=\"227.695869\"/>\n      </g>\n     </g>\n     <g id=\"text_16\">\n      <!-- п -->\n      <g transform=\"translate(222.377789 241.233369)rotate(-90)scale(0.1 -0.1)\">\n       <defs>\n        <path d=\"M 56.296875 54.6875 \nL 56.296875 0 \nL 47.265625 0 \nL 47.265625 47.515625 \nL 18.109375 47.515625 \nL 18.109375 0 \nL 9.078125 0 \nL 9.078125 54.6875 \nz\n\" id=\"DejaVuSans-1087\"/>\n       </defs>\n       <use xlink:href=\"#DejaVuSans-1087\"/>\n      </g>\n     </g>\n    </g>\n    <g id=\"xtick_17\">\n     <g id=\"line2d_33\">\n      <path clip-path=\"url(#p19325c5869)\" d=\"M 228.841555 227.695869 \nL 228.841555 10.255869 \n\" style=\"fill:none;stroke:#c0c0c0;stroke-linecap:square;stroke-width:0.8;\"/>\n     </g>\n     <g id=\"line2d_34\">\n      <g>\n       <use style=\"stroke:#000000;stroke-width:0.8;\" x=\"228.841555\" xlink:href=\"#m1da3d7553c\" y=\"227.695869\"/>\n      </g>\n     </g>\n     <g id=\"text_17\">\n      <!-- я -->\n      <g transform=\"translate(231.60093 240.711494)rotate(-90)scale(0.1 -0.1)\">\n       <defs>\n        <path d=\"M 18.453125 38.921875 \nQ 18.453125 34.859375 21.578125 32.5625 \nQ 24.703125 30.28125 30.515625 30.28125 \nL 42.625 30.28125 \nL 42.625 47.515625 \nL 30.515625 47.515625 \nQ 24.703125 47.515625 21.578125 45.265625 \nQ 18.453125 43.015625 18.453125 38.921875 \nz\nM 5.671875 0 \nL 22.359375 23.96875 \nQ 16.703125 25.25 12.9375 28.59375 \nQ 9.1875 31.9375 9.1875 38.921875 \nQ 9.1875 46.828125 14.421875 50.75 \nQ 19.671875 54.6875 30.28125 54.6875 \nL 51.65625 54.6875 \nL 51.65625 0 \nL 42.625 0 \nL 42.625 23.09375 \nL 31.453125 23.09375 \nL 15.328125 0 \nz\n\" id=\"DejaVuSans-1103\"/>\n       </defs>\n       <use xlink:href=\"#DejaVuSans-1103\"/>\n      </g>\n     </g>\n    </g>\n    <g id=\"xtick_18\">\n     <g id=\"line2d_35\">\n      <path clip-path=\"url(#p19325c5869)\" d=\"M 238.064695 227.695869 \nL 238.064695 10.255869 \n\" style=\"fill:none;stroke:#c0c0c0;stroke-linecap:square;stroke-width:0.8;\"/>\n     </g>\n     <g id=\"line2d_36\">\n      <g>\n       <use style=\"stroke:#000000;stroke-width:0.8;\" x=\"238.064695\" xlink:href=\"#m1da3d7553c\" y=\"227.695869\"/>\n      </g>\n     </g>\n     <g id=\"text_18\">\n      <!-- г -->\n      <g transform=\"translate(240.82407 239.950556)rotate(-90)scale(0.1 -0.1)\">\n       <defs>\n        <path d=\"M 9.078125 0 \nL 9.078125 54.6875 \nL 47.65625 54.6875 \nL 47.65625 47.515625 \nL 18.109375 47.515625 \nL 18.109375 0 \nz\n\" id=\"DejaVuSans-1075\"/>\n       </defs>\n       <use xlink:href=\"#DejaVuSans-1075\"/>\n      </g>\n     </g>\n    </g>\n    <g id=\"xtick_19\">\n     <g id=\"line2d_37\">\n      <path clip-path=\"url(#p19325c5869)\" d=\"M 247.287836 227.695869 \nL 247.287836 10.255869 \n\" style=\"fill:none;stroke:#c0c0c0;stroke-linecap:square;stroke-width:0.8;\"/>\n     </g>\n     <g id=\"line2d_38\">\n      <g>\n       <use style=\"stroke:#000000;stroke-width:0.8;\" x=\"247.287836\" xlink:href=\"#m1da3d7553c\" y=\"227.695869\"/>\n      </g>\n     </g>\n     <g id=\"text_19\">\n      <!-- ь -->\n      <g transform=\"translate(250.047211 240.589619)rotate(-90)scale(0.1 -0.1)\">\n       <defs>\n        <path d=\"M 43.453125 16.21875 \nQ 43.453125 20.609375 40.25 22.90625 \nQ 37.0625 25.203125 30.90625 25.203125 \nL 18.109375 25.203125 \nL 18.109375 7.171875 \nL 30.90625 7.171875 \nQ 37.0625 7.171875 40.25 9.484375 \nQ 43.453125 11.8125 43.453125 16.21875 \nz\nM 9.078125 54.6875 \nL 18.109375 54.6875 \nL 18.109375 32.375 \nL 31.296875 32.375 \nQ 41.75 32.375 47.390625 28.390625 \nQ 53.03125 24.421875 53.03125 16.21875 \nQ 53.03125 8.015625 47.390625 4 \nQ 41.75 0 31.296875 0 \nL 9.078125 0 \nz\n\" id=\"DejaVuSans-1100\"/>\n       </defs>\n       <use xlink:href=\"#DejaVuSans-1100\"/>\n      </g>\n     </g>\n    </g>\n    <g id=\"xtick_20\">\n     <g id=\"line2d_39\">\n      <path clip-path=\"url(#p19325c5869)\" d=\"M 256.510976 227.695869 \nL 256.510976 10.255869 \n\" style=\"fill:none;stroke:#c0c0c0;stroke-linecap:square;stroke-width:0.8;\"/>\n     </g>\n     <g id=\"line2d_40\">\n      <g>\n       <use style=\"stroke:#000000;stroke-width:0.8;\" x=\"256.510976\" xlink:href=\"#m1da3d7553c\" y=\"227.695869\"/>\n      </g>\n     </g>\n     <g id=\"text_20\">\n      <!-- ы -->\n      <g transform=\"translate(259.270351 242.591181)rotate(-90)scale(0.1 -0.1)\">\n       <defs>\n        <path d=\"M 61.046875 54.6875 \nL 70.03125 54.6875 \nL 70.03125 0 \nL 61.046875 0 \nz\nM 65.546875 56 \nz\nM 43.453125 16.21875 \nQ 43.453125 20.609375 40.25 22.90625 \nQ 37.0625 25.203125 30.90625 25.203125 \nL 18.109375 25.203125 \nL 18.109375 7.171875 \nL 30.90625 7.171875 \nQ 37.0625 7.171875 40.25 9.484375 \nQ 43.453125 11.8125 43.453125 16.21875 \nz\nM 9.078125 54.6875 \nL 18.109375 54.6875 \nL 18.109375 32.375 \nL 31.296875 32.375 \nQ 41.75 32.375 47.390625 28.390625 \nQ 53.03125 24.421875 53.03125 16.21875 \nQ 53.03125 8.015625 47.390625 4 \nQ 41.75 0 31.296875 0 \nL 9.078125 0 \nz\n\" id=\"DejaVuSans-1099\"/>\n       </defs>\n       <use xlink:href=\"#DejaVuSans-1099\"/>\n      </g>\n     </g>\n    </g>\n    <g id=\"xtick_21\">\n     <g id=\"line2d_41\">\n      <path clip-path=\"url(#p19325c5869)\" d=\"M 265.734117 227.695869 \nL 265.734117 10.255869 \n\" style=\"fill:none;stroke:#c0c0c0;stroke-linecap:square;stroke-width:0.8;\"/>\n     </g>\n     <g id=\"line2d_42\">\n      <g>\n       <use style=\"stroke:#000000;stroke-width:0.8;\" x=\"265.734117\" xlink:href=\"#m1da3d7553c\" y=\"227.695869\"/>\n      </g>\n     </g>\n     <g id=\"text_21\">\n      <!-- з -->\n      <g transform=\"translate(268.493492 240.013056)rotate(-90)scale(0.1 -0.1)\">\n       <defs>\n        <path d=\"M 34.46875 29.5 \nQ 40.53125 28.328125 43.890625 24.75 \nQ 47.265625 21.1875 47.265625 15.921875 \nQ 47.265625 7.46875 40.96875 3.015625 \nQ 34.671875 -1.421875 23.046875 -1.421875 \nQ 19.140625 -1.421875 15.015625 -0.734375 \nQ 10.890625 -0.046875 6.5 1.3125 \nL 6.5 9.671875 \nQ 9.96875 7.859375 14.109375 6.953125 \nQ 18.265625 6.0625 22.796875 6.0625 \nQ 30.171875 6.0625 34.296875 8.796875 \nQ 38.421875 11.53125 38.421875 15.921875 \nQ 38.421875 20.21875 34.765625 22.828125 \nQ 31.109375 25.4375 24.421875 25.4375 \nL 17.1875 25.4375 \nL 17.1875 32.859375 \nL 24.75 32.859375 \nQ 30.421875 32.859375 33.71875 35.03125 \nQ 37.015625 37.203125 37.015625 40.625 \nQ 37.015625 43.75 33.609375 46 \nQ 30.21875 48.25 24.421875 48.25 \nQ 20.953125 48.25 17.015625 47.609375 \nQ 13.09375 46.96875 8.34375 45.5625 \nL 8.34375 53.71875 \nQ 13.140625 54.890625 17.28125 55.46875 \nQ 21.4375 56.0625 25.140625 56.0625 \nQ 34.71875 56.0625 40.25 52.21875 \nQ 45.796875 48.390625 45.796875 41.5 \nQ 45.796875 36.96875 42.859375 33.8125 \nQ 39.9375 30.671875 34.46875 29.5 \nz\n\" id=\"DejaVuSans-1079\"/>\n       </defs>\n       <use xlink:href=\"#DejaVuSans-1079\"/>\n      </g>\n     </g>\n    </g>\n    <g id=\"xtick_22\">\n     <g id=\"line2d_43\">\n      <path clip-path=\"url(#p19325c5869)\" d=\"M 274.957257 227.695869 \nL 274.957257 10.255869 \n\" style=\"fill:none;stroke:#c0c0c0;stroke-linecap:square;stroke-width:0.8;\"/>\n     </g>\n     <g id=\"line2d_44\">\n      <g>\n       <use style=\"stroke:#000000;stroke-width:0.8;\" x=\"274.957257\" xlink:href=\"#m1da3d7553c\" y=\"227.695869\"/>\n      </g>\n     </g>\n     <g id=\"text_22\">\n      <!-- б -->\n      <g transform=\"translate(277.716632 240.863056)rotate(-90)scale(0.1 -0.1)\">\n       <defs>\n        <path d=\"M 31.109375 56 \nQ 42.828125 56 49.515625 48.375 \nQ 56.203125 40.765625 56.203125 27.296875 \nQ 56.203125 13.875 49.515625 6.21875 \nQ 42.828125 -1.421875 31.109375 -1.421875 \nQ 19.34375 -1.421875 12.84375 6 \nQ 6.34375 13.421875 6 27.296875 \nL 5.71875 38.484375 \nQ 5.46875 44.28125 5.46875 46.296875 \nQ 5.46875 54.109375 8.296875 59.859375 \nQ 12.75 68.890625 20.4375 72.796875 \nQ 28.125 76.703125 41.015625 76.8125 \nQ 46.96875 76.859375 49.609375 77.6875 \nL 52.09375 70.5625 \nQ 49.703125 69.578125 47.515625 69.53125 \nL 35.296875 68.703125 \nQ 29.15625 68.265625 25.4375 66.109375 \nQ 15.71875 60.40625 14.796875 52.9375 \nL 14.453125 50.203125 \nQ 20.796875 56 31.109375 56 \nz\nM 31.109375 48.390625 \nQ 23.875 48.390625 19.671875 42.75 \nQ 15.484375 37.109375 15.484375 27.296875 \nQ 15.484375 17.484375 19.65625 11.84375 \nQ 23.828125 6.203125 31.109375 6.203125 \nQ 38.28125 6.203125 42.484375 11.859375 \nQ 46.6875 17.53125 46.6875 27.296875 \nQ 46.6875 37.015625 42.484375 42.703125 \nQ 38.28125 48.390625 31.109375 48.390625 \nz\n\" id=\"DejaVuSans-1073\"/>\n       </defs>\n       <use xlink:href=\"#DejaVuSans-1073\"/>\n      </g>\n     </g>\n    </g>\n    <g id=\"xtick_23\">\n     <g id=\"line2d_45\">\n      <path clip-path=\"url(#p19325c5869)\" d=\"M 284.180398 227.695869 \nL 284.180398 10.255869 \n\" style=\"fill:none;stroke:#c0c0c0;stroke-linecap:square;stroke-width:0.8;\"/>\n     </g>\n     <g id=\"line2d_46\">\n      <g>\n       <use style=\"stroke:#000000;stroke-width:0.8;\" x=\"284.180398\" xlink:href=\"#m1da3d7553c\" y=\"227.695869\"/>\n      </g>\n     </g>\n     <g id=\"text_23\">\n      <!-- ч -->\n      <g transform=\"translate(286.939773 240.603681)rotate(-90)scale(0.1 -0.1)\">\n       <defs>\n        <path d=\"M 41.015625 0 \nL 41.015625 23 \nL 24.265625 23 \nQ 16.796875 23 11.8125 27.640625 \nQ 7.328125 31.84375 7.328125 40.828125 \nL 7.328125 54.6875 \nL 16.3125 54.6875 \nL 16.3125 41.65625 \nQ 16.3125 35.9375 18.84375 33.0625 \nQ 21.4375 30.171875 26.515625 30.171875 \nL 41.015625 30.171875 \nL 41.015625 54.6875 \nL 50 54.6875 \nL 50 0 \nz\n\" id=\"DejaVuSans-1095\"/>\n       </defs>\n       <use xlink:href=\"#DejaVuSans-1095\"/>\n      </g>\n     </g>\n    </g>\n    <g id=\"xtick_24\">\n     <g id=\"line2d_47\">\n      <path clip-path=\"url(#p19325c5869)\" d=\"M 293.403538 227.695869 \nL 293.403538 10.255869 \n\" style=\"fill:none;stroke:#c0c0c0;stroke-linecap:square;stroke-width:0.8;\"/>\n     </g>\n     <g id=\"line2d_48\">\n      <g>\n       <use style=\"stroke:#000000;stroke-width:0.8;\" x=\"293.403538\" xlink:href=\"#m1da3d7553c\" y=\"227.695869\"/>\n      </g>\n     </g>\n     <g id=\"text_24\">\n      <!-- й -->\n      <g transform=\"translate(296.162913 241.194306)rotate(-90)scale(0.1 -0.1)\">\n       <defs>\n        <path d=\"M 55.90625 54.6875 \nL 55.90625 0 \nL 46.96875 0 \nL 46.96875 43.890625 \nL 20.609375 0 \nL 9.078125 0 \nL 9.078125 54.6875 \nL 18.015625 54.6875 \nL 18.015625 10.890625 \nL 44.34375 54.6875 \nz\nM 17.21875 75.515625 \nL 22.984375 75.515625 \nQ 23.515625 71.859375 25.875 70.015625 \nQ 28.25 68.1875 32.5 68.1875 \nQ 36.703125 68.1875 39.046875 70 \nQ 41.390625 71.8125 42.015625 75.515625 \nL 47.78125 75.515625 \nQ 47.296875 68.53125 43.4375 65.015625 \nQ 39.578125 61.5 32.5 61.5 \nQ 25.421875 61.5 21.5625 65.015625 \nQ 17.703125 68.53125 17.21875 75.515625 \nz\n\" id=\"DejaVuSans-1081\"/>\n       </defs>\n       <use xlink:href=\"#DejaVuSans-1081\"/>\n      </g>\n     </g>\n    </g>\n    <g id=\"xtick_25\">\n     <g id=\"line2d_49\">\n      <path clip-path=\"url(#p19325c5869)\" d=\"M 302.626679 227.695869 \nL 302.626679 10.255869 \n\" style=\"fill:none;stroke:#c0c0c0;stroke-linecap:square;stroke-width:0.8;\"/>\n     </g>\n     <g id=\"line2d_50\">\n      <g>\n       <use style=\"stroke:#000000;stroke-width:0.8;\" x=\"302.626679\" xlink:href=\"#m1da3d7553c\" y=\"227.695869\"/>\n      </g>\n     </g>\n     <g id=\"text_25\">\n      <!-- ж -->\n      <g transform=\"translate(305.386054 243.705244)rotate(-90)scale(0.1 -0.1)\">\n       <defs>\n        <path d=\"M 40.578125 54.6875 \nL 49.515625 54.6875 \nL 49.515625 29 \nL 73.390625 54.6875 \nL 83.84375 54.6875 \nL 64.203125 33.640625 \nL 86.671875 0 \nL 77.046875 0 \nL 58.640625 27.640625 \nL 49.515625 17.828125 \nL 49.515625 0 \nL 40.578125 0 \nL 40.578125 17.828125 \nL 31.453125 27.640625 \nL 13.03125 0 \nL 3.421875 0 \nL 25.875 33.640625 \nL 6.25 54.6875 \nL 16.703125 54.6875 \nL 40.578125 29 \nz\n\" id=\"DejaVuSans-1078\"/>\n       </defs>\n       <use xlink:href=\"#DejaVuSans-1078\"/>\n      </g>\n     </g>\n    </g>\n    <g id=\"xtick_26\">\n     <g id=\"line2d_51\">\n      <path clip-path=\"url(#p19325c5869)\" d=\"M 311.849819 227.695869 \nL 311.849819 10.255869 \n\" style=\"fill:none;stroke:#c0c0c0;stroke-linecap:square;stroke-width:0.8;\"/>\n     </g>\n     <g id=\"line2d_52\">\n      <g>\n       <use style=\"stroke:#000000;stroke-width:0.8;\" x=\"311.849819\" xlink:href=\"#m1da3d7553c\" y=\"227.695869\"/>\n      </g>\n     </g>\n     <g id=\"text_26\">\n      <!-- ш -->\n      <g transform=\"translate(314.609194 243.845869)rotate(-90)scale(0.1 -0.1)\">\n       <defs>\n        <path d=\"M 50.25 7.171875 \nL 73.390625 7.171875 \nL 73.390625 54.6875 \nL 82.421875 54.6875 \nL 82.421875 0 \nL 9.078125 0 \nL 9.078125 54.6875 \nL 18.109375 54.6875 \nL 18.109375 7.171875 \nL 41.21875 7.171875 \nL 41.21875 54.6875 \nL 50.25 54.6875 \nz\n\" id=\"DejaVuSans-1096\"/>\n       </defs>\n       <use xlink:href=\"#DejaVuSans-1096\"/>\n      </g>\n     </g>\n    </g>\n    <g id=\"xtick_27\">\n     <g id=\"line2d_53\">\n      <path clip-path=\"url(#p19325c5869)\" d=\"M 321.07296 227.695869 \nL 321.07296 10.255869 \n\" style=\"fill:none;stroke:#c0c0c0;stroke-linecap:square;stroke-width:0.8;\"/>\n     </g>\n     <g id=\"line2d_54\">\n      <g>\n       <use style=\"stroke:#000000;stroke-width:0.8;\" x=\"321.07296\" xlink:href=\"#m1da3d7553c\" y=\"227.695869\"/>\n      </g>\n     </g>\n     <g id=\"text_27\">\n      <!-- х -->\n      <g transform=\"translate(323.832335 240.614619)rotate(-90)scale(0.1 -0.1)\">\n       <defs>\n        <path d=\"M 54.890625 54.6875 \nL 35.109375 28.078125 \nL 55.90625 0 \nL 45.3125 0 \nL 29.390625 21.484375 \nL 13.484375 0 \nL 2.875 0 \nL 24.125 28.609375 \nL 4.6875 54.6875 \nL 15.28125 54.6875 \nL 29.78125 35.203125 \nL 44.28125 54.6875 \nz\n\" id=\"DejaVuSans-1093\"/>\n       </defs>\n       <use xlink:href=\"#DejaVuSans-1093\"/>\n      </g>\n     </g>\n    </g>\n    <g id=\"xtick_28\">\n     <g id=\"line2d_55\">\n      <path clip-path=\"url(#p19325c5869)\" d=\"M 330.2961 227.695869 \nL 330.2961 10.255869 \n\" style=\"fill:none;stroke:#c0c0c0;stroke-linecap:square;stroke-width:0.8;\"/>\n     </g>\n     <g id=\"line2d_56\">\n      <g>\n       <use style=\"stroke:#000000;stroke-width:0.8;\" x=\"330.2961\" xlink:href=\"#m1da3d7553c\" y=\"227.695869\"/>\n      </g>\n     </g>\n     <g id=\"text_28\">\n      <!-- ю -->\n      <g transform=\"translate(333.055475 243.114619)rotate(-90)scale(0.1 -0.1)\">\n       <defs>\n        <path d=\"M 53.609375 48.390625 \nQ 46.390625 48.390625 42.1875 42.75 \nQ 37.984375 37.109375 37.984375 27.296875 \nQ 37.984375 17.484375 42.15625 11.84375 \nQ 46.34375 6.203125 53.609375 6.203125 \nQ 60.796875 6.203125 64.984375 11.859375 \nQ 69.1875 17.53125 69.1875 27.296875 \nQ 69.1875 37.015625 64.984375 42.703125 \nQ 60.796875 48.390625 53.609375 48.390625 \nz\nM 28.8125 32.859375 \nQ 29.734375 42.140625 35.8125 49.0625 \nQ 41.890625 56 53.609375 56 \nQ 65.328125 56 72.015625 48.375 \nQ 78.71875 40.765625 78.71875 27.296875 \nQ 78.71875 13.875 72.015625 6.21875 \nQ 65.328125 -1.421875 53.609375 -1.421875 \nQ 41.84375 -1.421875 35.421875 5.953125 \nQ 29 13.328125 28.5625 25.4375 \nL 18.40625 25.4375 \nL 18.40625 0 \nL 9.421875 0 \nL 9.421875 54.6875 \nL 18.40625 54.6875 \nL 18.40625 32.859375 \nz\n\" id=\"DejaVuSans-1102\"/>\n       </defs>\n       <use xlink:href=\"#DejaVuSans-1102\"/>\n      </g>\n     </g>\n    </g>\n    <g id=\"xtick_29\">\n     <g id=\"line2d_57\">\n      <path clip-path=\"url(#p19325c5869)\" d=\"M 339.519241 227.695869 \nL 339.519241 10.255869 \n\" style=\"fill:none;stroke:#c0c0c0;stroke-linecap:square;stroke-width:0.8;\"/>\n     </g>\n     <g id=\"line2d_58\">\n      <g>\n       <use style=\"stroke:#000000;stroke-width:0.8;\" x=\"339.519241\" xlink:href=\"#m1da3d7553c\" y=\"227.695869\"/>\n      </g>\n     </g>\n     <g id=\"text_29\">\n      <!-- ц -->\n      <g transform=\"translate(342.278616 241.502119)rotate(-90)scale(0.1 -0.1)\">\n       <defs>\n        <path d=\"M 56.296875 0 \nL 9.078125 0 \nL 9.078125 54.6875 \nL 18.109375 54.6875 \nL 18.109375 7.171875 \nL 47.265625 7.171875 \nL 47.265625 54.6875 \nL 56.296875 54.6875 \nL 56.296875 7.171875 \nL 63.484375 7.171875 \nL 63.484375 -13.8125 \nL 56.296875 -13.8125 \nz\n\" id=\"DejaVuSans-1094\"/>\n       </defs>\n       <use xlink:href=\"#DejaVuSans-1094\"/>\n      </g>\n     </g>\n    </g>\n    <g id=\"xtick_30\">\n     <g id=\"line2d_59\">\n      <path clip-path=\"url(#p19325c5869)\" d=\"M 348.742381 227.695869 \nL 348.742381 10.255869 \n\" style=\"fill:none;stroke:#c0c0c0;stroke-linecap:square;stroke-width:0.8;\"/>\n     </g>\n     <g id=\"line2d_60\">\n      <g>\n       <use style=\"stroke:#000000;stroke-width:0.8;\" x=\"348.742381\" xlink:href=\"#m1da3d7553c\" y=\"227.695869\"/>\n      </g>\n     </g>\n     <g id=\"text_30\">\n      <!-- э -->\n      <g transform=\"translate(351.501756 240.184931)rotate(-90)scale(0.1 -0.1)\">\n       <defs>\n        <path d=\"M 5.515625 10.40625 \nQ 13.234375 6.203125 20.90625 6.203125 \nQ 28.078125 6.203125 33.203125 10.375 \nQ 38.328125 14.546875 39.265625 25.203125 \nL 11.53125 25.203125 \nL 11.53125 32.375 \nL 38.96875 32.375 \nQ 38.375 37.5 34.484375 42.9375 \nQ 30.609375 48.390625 20.90625 48.390625 \nQ 13.375 48.390625 5.515625 44.1875 \nL 5.515625 52.59375 \nQ 13.1875 56 21.296875 56 \nQ 34.078125 56 41.421875 48.265625 \nQ 48.78125 40.53125 48.78125 27.296875 \nQ 48.78125 14.109375 41.625 6.34375 \nQ 34.46875 -1.421875 21.921875 -1.421875 \nQ 12.703125 -1.421875 5.515625 2.09375 \nz\n\" id=\"DejaVuSans-1101\"/>\n       </defs>\n       <use xlink:href=\"#DejaVuSans-1101\"/>\n      </g>\n     </g>\n    </g>\n    <g id=\"xtick_31\">\n     <g id=\"line2d_61\">\n      <path clip-path=\"url(#p19325c5869)\" d=\"M 357.965522 227.695869 \nL 357.965522 10.255869 \n\" style=\"fill:none;stroke:#c0c0c0;stroke-linecap:square;stroke-width:0.8;\"/>\n     </g>\n     <g id=\"line2d_62\">\n      <g>\n       <use style=\"stroke:#000000;stroke-width:0.8;\" x=\"357.965522\" xlink:href=\"#m1da3d7553c\" y=\"227.695869\"/>\n      </g>\n     </g>\n     <g id=\"text_31\">\n      <!-- щ -->\n      <g transform=\"translate(360.724897 244.114619)rotate(-90)scale(0.1 -0.1)\">\n       <defs>\n        <path d=\"M 82.421875 0 \nL 9.078125 0 \nL 9.078125 54.6875 \nL 18.109375 54.6875 \nL 18.109375 7.171875 \nL 41.21875 7.171875 \nL 41.21875 54.6875 \nL 50.25 54.6875 \nL 50.25 7.171875 \nL 73.390625 7.171875 \nL 73.390625 54.6875 \nL 82.421875 54.6875 \nL 82.421875 7.171875 \nL 89.59375 7.171875 \nL 89.59375 -13.8125 \nL 82.421875 -13.8125 \nz\n\" id=\"DejaVuSans-1097\"/>\n       </defs>\n       <use xlink:href=\"#DejaVuSans-1097\"/>\n      </g>\n     </g>\n    </g>\n    <g id=\"xtick_32\">\n     <g id=\"line2d_63\">\n      <path clip-path=\"url(#p19325c5869)\" d=\"M 367.188662 227.695869 \nL 367.188662 10.255869 \n\" style=\"fill:none;stroke:#c0c0c0;stroke-linecap:square;stroke-width:0.8;\"/>\n     </g>\n     <g id=\"line2d_64\">\n      <g>\n       <use style=\"stroke:#000000;stroke-width:0.8;\" x=\"367.188662\" xlink:href=\"#m1da3d7553c\" y=\"227.695869\"/>\n      </g>\n     </g>\n     <g id=\"text_32\">\n      <!-- ф -->\n      <g transform=\"translate(369.948037 243.245869)rotate(-90)scale(0.1 -0.1)\">\n       <defs>\n        <path d=\"M 14.796875 27.296875 \nQ 14.796875 15.828125 18.328125 10.96875 \nQ 21.875 6.109375 27.875 6.109375 \nQ 32.671875 6.109375 38.234375 14.3125 \nL 38.234375 40.28125 \nQ 32.671875 48.484375 27.875 48.484375 \nQ 21.875 48.484375 18.328125 43.625 \nQ 14.796875 38.765625 14.796875 27.296875 \nz\nM 38.234375 -20.796875 \nL 38.234375 6.984375 \nQ 35.453125 2.390625 32.25 0.484375 \nQ 29.046875 -1.421875 25 -1.421875 \nQ 16.84375 -1.421875 11.15625 6.125 \nQ 5.46875 13.671875 5.46875 27.09375 \nQ 5.46875 40.53125 11.15625 48.265625 \nQ 16.84375 56 25 56 \nQ 29.046875 56 32.25 54.140625 \nQ 35.453125 52.296875 38.234375 47.703125 \nL 38.234375 72.90625 \nL 47.265625 72.90625 \nL 47.265625 47.703125 \nQ 50.046875 52.296875 53.25 54.140625 \nQ 56.453125 56 60.5 56 \nQ 68.65625 56 74.34375 48.265625 \nQ 80.03125 40.53125 80.03125 27.09375 \nQ 80.03125 13.671875 74.34375 6.125 \nQ 68.65625 -1.421875 60.5 -1.421875 \nQ 56.453125 -1.421875 53.25 0.484375 \nQ 50.046875 2.390625 47.265625 6.984375 \nL 47.265625 -20.796875 \nz\nM 70.703125 27.296875 \nQ 70.703125 38.765625 67.15625 43.625 \nQ 63.625 48.484375 57.625 48.484375 \nQ 52.828125 48.484375 47.265625 40.28125 \nL 47.265625 14.3125 \nQ 52.828125 6.109375 57.625 6.109375 \nQ 63.625 6.109375 67.15625 10.96875 \nQ 70.703125 15.828125 70.703125 27.296875 \nz\n\" id=\"DejaVuSans-1092\"/>\n       </defs>\n       <use xlink:href=\"#DejaVuSans-1092\"/>\n      </g>\n     </g>\n    </g>\n    <g id=\"xtick_33\">\n     <g id=\"line2d_65\">\n      <path clip-path=\"url(#p19325c5869)\" d=\"M 376.411803 227.695869 \nL 376.411803 10.255869 \n\" style=\"fill:none;stroke:#c0c0c0;stroke-linecap:square;stroke-width:0.8;\"/>\n     </g>\n     <g id=\"line2d_66\">\n      <g>\n       <use style=\"stroke:#000000;stroke-width:0.8;\" x=\"376.411803\" xlink:href=\"#m1da3d7553c\" y=\"227.695869\"/>\n      </g>\n     </g>\n     <g id=\"text_33\">\n      <!-- ё -->\n      <g transform=\"translate(379.171178 240.848994)rotate(-90)scale(0.1 -0.1)\">\n       <defs>\n        <path d=\"M 56.203125 29.59375 \nL 56.203125 25.203125 \nL 14.890625 25.203125 \nQ 15.484375 15.921875 20.484375 11.0625 \nQ 25.484375 6.203125 34.421875 6.203125 \nQ 39.59375 6.203125 44.453125 7.46875 \nQ 49.3125 8.734375 54.109375 11.28125 \nL 54.109375 2.78125 \nQ 49.265625 0.734375 44.1875 -0.34375 \nQ 39.109375 -1.421875 33.890625 -1.421875 \nQ 20.796875 -1.421875 13.15625 6.1875 \nQ 5.515625 13.8125 5.515625 26.8125 \nQ 5.515625 40.234375 12.765625 48.109375 \nQ 20.015625 56 32.328125 56 \nQ 43.359375 56 49.78125 48.890625 \nQ 56.203125 41.796875 56.203125 29.59375 \nz\nM 47.21875 32.234375 \nQ 47.125 39.59375 43.09375 43.984375 \nQ 39.0625 48.390625 32.421875 48.390625 \nQ 24.90625 48.390625 20.390625 44.140625 \nQ 15.875 39.890625 15.1875 32.171875 \nz\nM 36.96875 75.78125 \nL 46.875 75.78125 \nL 46.875 65.921875 \nL 36.96875 65.921875 \nz\nM 17.875 75.78125 \nL 27.78125 75.78125 \nL 27.78125 65.921875 \nL 17.875 65.921875 \nz\n\" id=\"DejaVuSans-1105\"/>\n       </defs>\n       <use xlink:href=\"#DejaVuSans-1105\"/>\n      </g>\n     </g>\n    </g>\n    <g id=\"xtick_34\">\n     <g id=\"line2d_67\">\n      <path clip-path=\"url(#p19325c5869)\" d=\"M 385.634943 227.695869 \nL 385.634943 10.255869 \n\" style=\"fill:none;stroke:#c0c0c0;stroke-linecap:square;stroke-width:0.8;\"/>\n     </g>\n     <g id=\"line2d_68\">\n      <g>\n       <use style=\"stroke:#000000;stroke-width:0.8;\" x=\"385.634943\" xlink:href=\"#m1da3d7553c\" y=\"227.695869\"/>\n      </g>\n     </g>\n     <g id=\"text_34\">\n      <!-- ъ -->\n      <g transform=\"translate(388.394318 241.761494)rotate(-90)scale(0.1 -0.1)\">\n       <defs>\n        <path d=\"M 43.015625 32.375 \nQ 53.46875 32.375 59.109375 28.390625 \nQ 64.75 24.421875 64.75 16.21875 \nQ 64.75 8.015625 59.109375 4 \nQ 53.46875 0 43.015625 0 \nL 20.75 0 \nL 20.75 47.515625 \nL 3.03125 47.515625 \nL 3.03125 54.6875 \nL 29.78125 54.6875 \nL 29.78125 32.375 \nz\nM 42.625 25.203125 \nL 29.78125 25.203125 \nL 29.78125 7.171875 \nL 42.625 7.171875 \nQ 48.78125 7.171875 51.96875 9.484375 \nQ 55.171875 11.8125 55.171875 16.21875 \nQ 55.171875 20.609375 51.96875 22.90625 \nQ 48.78125 25.203125 42.625 25.203125 \nz\n\" id=\"DejaVuSans-1098\"/>\n       </defs>\n       <use xlink:href=\"#DejaVuSans-1098\"/>\n      </g>\n     </g>\n    </g>\n    <g id=\"text_35\">\n     <!-- Samples -->\n     <g transform=\"translate(212.1 255.713056)scale(0.1 -0.1)\">\n      <defs>\n       <path d=\"M 53.515625 70.515625 \nL 53.515625 60.890625 \nQ 47.90625 63.578125 42.921875 64.890625 \nQ 37.9375 66.21875 33.296875 66.21875 \nQ 25.25 66.21875 20.875 63.09375 \nQ 16.5 59.96875 16.5 54.203125 \nQ 16.5 49.359375 19.40625 46.890625 \nQ 22.3125 44.4375 30.421875 42.921875 \nL 36.375 41.703125 \nQ 47.40625 39.59375 52.65625 34.296875 \nQ 57.90625 29 57.90625 20.125 \nQ 57.90625 9.515625 50.796875 4.046875 \nQ 43.703125 -1.421875 29.984375 -1.421875 \nQ 24.8125 -1.421875 18.96875 -0.25 \nQ 13.140625 0.921875 6.890625 3.21875 \nL 6.890625 13.375 \nQ 12.890625 10.015625 18.65625 8.296875 \nQ 24.421875 6.59375 29.984375 6.59375 \nQ 38.421875 6.59375 43.015625 9.90625 \nQ 47.609375 13.234375 47.609375 19.390625 \nQ 47.609375 24.75 44.3125 27.78125 \nQ 41.015625 30.8125 33.5 32.328125 \nL 27.484375 33.5 \nQ 16.453125 35.6875 11.515625 40.375 \nQ 6.59375 45.0625 6.59375 53.421875 \nQ 6.59375 63.09375 13.40625 68.65625 \nQ 20.21875 74.21875 32.171875 74.21875 \nQ 37.3125 74.21875 42.625 73.28125 \nQ 47.953125 72.359375 53.515625 70.515625 \nz\n\" id=\"DejaVuSans-83\"/>\n       <path d=\"M 34.28125 27.484375 \nQ 23.390625 27.484375 19.1875 25 \nQ 14.984375 22.515625 14.984375 16.5 \nQ 14.984375 11.71875 18.140625 8.90625 \nQ 21.296875 6.109375 26.703125 6.109375 \nQ 34.1875 6.109375 38.703125 11.40625 \nQ 43.21875 16.703125 43.21875 25.484375 \nL 43.21875 27.484375 \nz\nM 52.203125 31.203125 \nL 52.203125 0 \nL 43.21875 0 \nL 43.21875 8.296875 \nQ 40.140625 3.328125 35.546875 0.953125 \nQ 30.953125 -1.421875 24.3125 -1.421875 \nQ 15.921875 -1.421875 10.953125 3.296875 \nQ 6 8.015625 6 15.921875 \nQ 6 25.140625 12.171875 29.828125 \nQ 18.359375 34.515625 30.609375 34.515625 \nL 43.21875 34.515625 \nL 43.21875 35.40625 \nQ 43.21875 41.609375 39.140625 45 \nQ 35.0625 48.390625 27.6875 48.390625 \nQ 23 48.390625 18.546875 47.265625 \nQ 14.109375 46.140625 10.015625 43.890625 \nL 10.015625 52.203125 \nQ 14.9375 54.109375 19.578125 55.046875 \nQ 24.21875 56 28.609375 56 \nQ 40.484375 56 46.34375 49.84375 \nQ 52.203125 43.703125 52.203125 31.203125 \nz\n\" id=\"DejaVuSans-97\"/>\n       <path d=\"M 52 44.1875 \nQ 55.375 50.25 60.0625 53.125 \nQ 64.75 56 71.09375 56 \nQ 79.640625 56 84.28125 50.015625 \nQ 88.921875 44.046875 88.921875 33.015625 \nL 88.921875 0 \nL 79.890625 0 \nL 79.890625 32.71875 \nQ 79.890625 40.578125 77.09375 44.375 \nQ 74.3125 48.1875 68.609375 48.1875 \nQ 61.625 48.1875 57.5625 43.546875 \nQ 53.515625 38.921875 53.515625 30.90625 \nL 53.515625 0 \nL 44.484375 0 \nL 44.484375 32.71875 \nQ 44.484375 40.625 41.703125 44.40625 \nQ 38.921875 48.1875 33.109375 48.1875 \nQ 26.21875 48.1875 22.15625 43.53125 \nQ 18.109375 38.875 18.109375 30.90625 \nL 18.109375 0 \nL 9.078125 0 \nL 9.078125 54.6875 \nL 18.109375 54.6875 \nL 18.109375 46.1875 \nQ 21.1875 51.21875 25.484375 53.609375 \nQ 29.78125 56 35.6875 56 \nQ 41.65625 56 45.828125 52.96875 \nQ 50 49.953125 52 44.1875 \nz\n\" id=\"DejaVuSans-109\"/>\n       <path d=\"M 18.109375 8.203125 \nL 18.109375 -20.796875 \nL 9.078125 -20.796875 \nL 9.078125 54.6875 \nL 18.109375 54.6875 \nL 18.109375 46.390625 \nQ 20.953125 51.265625 25.265625 53.625 \nQ 29.59375 56 35.59375 56 \nQ 45.5625 56 51.78125 48.09375 \nQ 58.015625 40.1875 58.015625 27.296875 \nQ 58.015625 14.40625 51.78125 6.484375 \nQ 45.5625 -1.421875 35.59375 -1.421875 \nQ 29.59375 -1.421875 25.265625 0.953125 \nQ 20.953125 3.328125 18.109375 8.203125 \nz\nM 48.6875 27.296875 \nQ 48.6875 37.203125 44.609375 42.84375 \nQ 40.53125 48.484375 33.40625 48.484375 \nQ 26.265625 48.484375 22.1875 42.84375 \nQ 18.109375 37.203125 18.109375 27.296875 \nQ 18.109375 17.390625 22.1875 11.75 \nQ 26.265625 6.109375 33.40625 6.109375 \nQ 40.53125 6.109375 44.609375 11.75 \nQ 48.6875 17.390625 48.6875 27.296875 \nz\n\" id=\"DejaVuSans-112\"/>\n       <path d=\"M 9.421875 75.984375 \nL 18.40625 75.984375 \nL 18.40625 0 \nL 9.421875 0 \nz\n\" id=\"DejaVuSans-108\"/>\n       <path d=\"M 56.203125 29.59375 \nL 56.203125 25.203125 \nL 14.890625 25.203125 \nQ 15.484375 15.921875 20.484375 11.0625 \nQ 25.484375 6.203125 34.421875 6.203125 \nQ 39.59375 6.203125 44.453125 7.46875 \nQ 49.3125 8.734375 54.109375 11.28125 \nL 54.109375 2.78125 \nQ 49.265625 0.734375 44.1875 -0.34375 \nQ 39.109375 -1.421875 33.890625 -1.421875 \nQ 20.796875 -1.421875 13.15625 6.1875 \nQ 5.515625 13.8125 5.515625 26.8125 \nQ 5.515625 40.234375 12.765625 48.109375 \nQ 20.015625 56 32.328125 56 \nQ 43.359375 56 49.78125 48.890625 \nQ 56.203125 41.796875 56.203125 29.59375 \nz\nM 47.21875 32.234375 \nQ 47.125 39.59375 43.09375 43.984375 \nQ 39.0625 48.390625 32.421875 48.390625 \nQ 24.90625 48.390625 20.390625 44.140625 \nQ 15.875 39.890625 15.1875 32.171875 \nz\n\" id=\"DejaVuSans-101\"/>\n       <path d=\"M 44.28125 53.078125 \nL 44.28125 44.578125 \nQ 40.484375 46.53125 36.375 47.5 \nQ 32.28125 48.484375 27.875 48.484375 \nQ 21.1875 48.484375 17.84375 46.4375 \nQ 14.5 44.390625 14.5 40.28125 \nQ 14.5 37.15625 16.890625 35.375 \nQ 19.28125 33.59375 26.515625 31.984375 \nL 29.59375 31.296875 \nQ 39.15625 29.25 43.1875 25.515625 \nQ 47.21875 21.78125 47.21875 15.09375 \nQ 47.21875 7.46875 41.1875 3.015625 \nQ 35.15625 -1.421875 24.609375 -1.421875 \nQ 20.21875 -1.421875 15.453125 -0.5625 \nQ 10.6875 0.296875 5.421875 2 \nL 5.421875 11.28125 \nQ 10.40625 8.6875 15.234375 7.390625 \nQ 20.0625 6.109375 24.8125 6.109375 \nQ 31.15625 6.109375 34.5625 8.28125 \nQ 37.984375 10.453125 37.984375 14.40625 \nQ 37.984375 18.0625 35.515625 20.015625 \nQ 33.0625 21.96875 24.703125 23.78125 \nL 21.578125 24.515625 \nQ 13.234375 26.265625 9.515625 29.90625 \nQ 5.8125 33.546875 5.8125 39.890625 \nQ 5.8125 47.609375 11.28125 51.796875 \nQ 16.75 56 26.8125 56 \nQ 31.78125 56 36.171875 55.265625 \nQ 40.578125 54.546875 44.28125 53.078125 \nz\n\" id=\"DejaVuSans-115\"/>\n      </defs>\n      <use xlink:href=\"#DejaVuSans-83\"/>\n      <use x=\"63.476562\" xlink:href=\"#DejaVuSans-97\"/>\n      <use x=\"124.755859\" xlink:href=\"#DejaVuSans-109\"/>\n      <use x=\"222.167969\" xlink:href=\"#DejaVuSans-112\"/>\n      <use x=\"285.644531\" xlink:href=\"#DejaVuSans-108\"/>\n      <use x=\"313.427734\" xlink:href=\"#DejaVuSans-101\"/>\n      <use x=\"374.951172\" xlink:href=\"#DejaVuSans-115\"/>\n     </g>\n    </g>\n   </g>\n   <g id=\"matplotlib.axis_2\">\n    <g id=\"ytick_1\">\n     <g id=\"line2d_69\">\n      <path clip-path=\"url(#p19325c5869)\" d=\"M 66.053125 218.301119 \nL 400.853125 218.301119 \n\" style=\"fill:none;stroke:#c0c0c0;stroke-linecap:square;stroke-width:0.8;\"/>\n     </g>\n     <g id=\"line2d_70\">\n      <defs>\n       <path d=\"M 0 0 \nL -3.5 0 \n\" id=\"me20411f114\" style=\"stroke:#000000;stroke-width:0.8;\"/>\n      </defs>\n      <g>\n       <use style=\"stroke:#000000;stroke-width:0.8;\" x=\"66.053125\" xlink:href=\"#me20411f114\" y=\"218.301119\"/>\n      </g>\n     </g>\n     <g id=\"text_36\">\n      <!-- 0 -->\n      <g transform=\"translate(52.690625 222.100338)scale(0.1 -0.1)\">\n       <defs>\n        <path d=\"M 31.78125 66.40625 \nQ 24.171875 66.40625 20.328125 58.90625 \nQ 16.5 51.421875 16.5 36.375 \nQ 16.5 21.390625 20.328125 13.890625 \nQ 24.171875 6.390625 31.78125 6.390625 \nQ 39.453125 6.390625 43.28125 13.890625 \nQ 47.125 21.390625 47.125 36.375 \nQ 47.125 51.421875 43.28125 58.90625 \nQ 39.453125 66.40625 31.78125 66.40625 \nz\nM 31.78125 74.21875 \nQ 44.046875 74.21875 50.515625 64.515625 \nQ 56.984375 54.828125 56.984375 36.375 \nQ 56.984375 17.96875 50.515625 8.265625 \nQ 44.046875 -1.421875 31.78125 -1.421875 \nQ 19.53125 -1.421875 13.0625 8.265625 \nQ 6.59375 17.96875 6.59375 36.375 \nQ 6.59375 54.828125 13.0625 64.515625 \nQ 19.53125 74.21875 31.78125 74.21875 \nz\n\" id=\"DejaVuSans-48\"/>\n       </defs>\n       <use xlink:href=\"#DejaVuSans-48\"/>\n      </g>\n     </g>\n    </g>\n    <g id=\"ytick_2\">\n     <g id=\"line2d_71\">\n      <path clip-path=\"url(#p19325c5869)\" d=\"M 66.053125 183.750803 \nL 400.853125 183.750803 \n\" style=\"fill:none;stroke:#c0c0c0;stroke-linecap:square;stroke-width:0.8;\"/>\n     </g>\n     <g id=\"line2d_72\">\n      <g>\n       <use style=\"stroke:#000000;stroke-width:0.8;\" x=\"66.053125\" xlink:href=\"#me20411f114\" y=\"183.750803\"/>\n      </g>\n     </g>\n     <g id=\"text_37\">\n      <!-- 20000 -->\n      <g transform=\"translate(27.240625 187.550021)scale(0.1 -0.1)\">\n       <defs>\n        <path d=\"M 19.1875 8.296875 \nL 53.609375 8.296875 \nL 53.609375 0 \nL 7.328125 0 \nL 7.328125 8.296875 \nQ 12.9375 14.109375 22.625 23.890625 \nQ 32.328125 33.6875 34.8125 36.53125 \nQ 39.546875 41.84375 41.421875 45.53125 \nQ 43.3125 49.21875 43.3125 52.78125 \nQ 43.3125 58.59375 39.234375 62.25 \nQ 35.15625 65.921875 28.609375 65.921875 \nQ 23.96875 65.921875 18.8125 64.3125 \nQ 13.671875 62.703125 7.8125 59.421875 \nL 7.8125 69.390625 \nQ 13.765625 71.78125 18.9375 73 \nQ 24.125 74.21875 28.421875 74.21875 \nQ 39.75 74.21875 46.484375 68.546875 \nQ 53.21875 62.890625 53.21875 53.421875 \nQ 53.21875 48.921875 51.53125 44.890625 \nQ 49.859375 40.875 45.40625 35.40625 \nQ 44.1875 33.984375 37.640625 27.21875 \nQ 31.109375 20.453125 19.1875 8.296875 \nz\n\" id=\"DejaVuSans-50\"/>\n       </defs>\n       <use xlink:href=\"#DejaVuSans-50\"/>\n       <use x=\"63.623047\" xlink:href=\"#DejaVuSans-48\"/>\n       <use x=\"127.246094\" xlink:href=\"#DejaVuSans-48\"/>\n       <use x=\"190.869141\" xlink:href=\"#DejaVuSans-48\"/>\n       <use x=\"254.492188\" xlink:href=\"#DejaVuSans-48\"/>\n      </g>\n     </g>\n    </g>\n    <g id=\"ytick_3\">\n     <g id=\"line2d_73\">\n      <path clip-path=\"url(#p19325c5869)\" d=\"M 66.053125 149.200486 \nL 400.853125 149.200486 \n\" style=\"fill:none;stroke:#c0c0c0;stroke-linecap:square;stroke-width:0.8;\"/>\n     </g>\n     <g id=\"line2d_74\">\n      <g>\n       <use style=\"stroke:#000000;stroke-width:0.8;\" x=\"66.053125\" xlink:href=\"#me20411f114\" y=\"149.200486\"/>\n      </g>\n     </g>\n     <g id=\"text_38\">\n      <!-- 40000 -->\n      <g transform=\"translate(27.240625 152.999705)scale(0.1 -0.1)\">\n       <defs>\n        <path d=\"M 37.796875 64.3125 \nL 12.890625 25.390625 \nL 37.796875 25.390625 \nz\nM 35.203125 72.90625 \nL 47.609375 72.90625 \nL 47.609375 25.390625 \nL 58.015625 25.390625 \nL 58.015625 17.1875 \nL 47.609375 17.1875 \nL 47.609375 0 \nL 37.796875 0 \nL 37.796875 17.1875 \nL 4.890625 17.1875 \nL 4.890625 26.703125 \nz\n\" id=\"DejaVuSans-52\"/>\n       </defs>\n       <use xlink:href=\"#DejaVuSans-52\"/>\n       <use x=\"63.623047\" xlink:href=\"#DejaVuSans-48\"/>\n       <use x=\"127.246094\" xlink:href=\"#DejaVuSans-48\"/>\n       <use x=\"190.869141\" xlink:href=\"#DejaVuSans-48\"/>\n       <use x=\"254.492188\" xlink:href=\"#DejaVuSans-48\"/>\n      </g>\n     </g>\n    </g>\n    <g id=\"ytick_4\">\n     <g id=\"line2d_75\">\n      <path clip-path=\"url(#p19325c5869)\" d=\"M 66.053125 114.650169 \nL 400.853125 114.650169 \n\" style=\"fill:none;stroke:#c0c0c0;stroke-linecap:square;stroke-width:0.8;\"/>\n     </g>\n     <g id=\"line2d_76\">\n      <g>\n       <use style=\"stroke:#000000;stroke-width:0.8;\" x=\"66.053125\" xlink:href=\"#me20411f114\" y=\"114.650169\"/>\n      </g>\n     </g>\n     <g id=\"text_39\">\n      <!-- 60000 -->\n      <g transform=\"translate(27.240625 118.449388)scale(0.1 -0.1)\">\n       <defs>\n        <path d=\"M 33.015625 40.375 \nQ 26.375 40.375 22.484375 35.828125 \nQ 18.609375 31.296875 18.609375 23.390625 \nQ 18.609375 15.53125 22.484375 10.953125 \nQ 26.375 6.390625 33.015625 6.390625 \nQ 39.65625 6.390625 43.53125 10.953125 \nQ 47.40625 15.53125 47.40625 23.390625 \nQ 47.40625 31.296875 43.53125 35.828125 \nQ 39.65625 40.375 33.015625 40.375 \nz\nM 52.59375 71.296875 \nL 52.59375 62.3125 \nQ 48.875 64.0625 45.09375 64.984375 \nQ 41.3125 65.921875 37.59375 65.921875 \nQ 27.828125 65.921875 22.671875 59.328125 \nQ 17.53125 52.734375 16.796875 39.40625 \nQ 19.671875 43.65625 24.015625 45.921875 \nQ 28.375 48.1875 33.59375 48.1875 \nQ 44.578125 48.1875 50.953125 41.515625 \nQ 57.328125 34.859375 57.328125 23.390625 \nQ 57.328125 12.15625 50.6875 5.359375 \nQ 44.046875 -1.421875 33.015625 -1.421875 \nQ 20.359375 -1.421875 13.671875 8.265625 \nQ 6.984375 17.96875 6.984375 36.375 \nQ 6.984375 53.65625 15.1875 63.9375 \nQ 23.390625 74.21875 37.203125 74.21875 \nQ 40.921875 74.21875 44.703125 73.484375 \nQ 48.484375 72.75 52.59375 71.296875 \nz\n\" id=\"DejaVuSans-54\"/>\n       </defs>\n       <use xlink:href=\"#DejaVuSans-54\"/>\n       <use x=\"63.623047\" xlink:href=\"#DejaVuSans-48\"/>\n       <use x=\"127.246094\" xlink:href=\"#DejaVuSans-48\"/>\n       <use x=\"190.869141\" xlink:href=\"#DejaVuSans-48\"/>\n       <use x=\"254.492188\" xlink:href=\"#DejaVuSans-48\"/>\n      </g>\n     </g>\n    </g>\n    <g id=\"ytick_5\">\n     <g id=\"line2d_77\">\n      <path clip-path=\"url(#p19325c5869)\" d=\"M 66.053125 80.099852 \nL 400.853125 80.099852 \n\" style=\"fill:none;stroke:#c0c0c0;stroke-linecap:square;stroke-width:0.8;\"/>\n     </g>\n     <g id=\"line2d_78\">\n      <g>\n       <use style=\"stroke:#000000;stroke-width:0.8;\" x=\"66.053125\" xlink:href=\"#me20411f114\" y=\"80.099852\"/>\n      </g>\n     </g>\n     <g id=\"text_40\">\n      <!-- 80000 -->\n      <g transform=\"translate(27.240625 83.899071)scale(0.1 -0.1)\">\n       <defs>\n        <path d=\"M 31.78125 34.625 \nQ 24.75 34.625 20.71875 30.859375 \nQ 16.703125 27.09375 16.703125 20.515625 \nQ 16.703125 13.921875 20.71875 10.15625 \nQ 24.75 6.390625 31.78125 6.390625 \nQ 38.8125 6.390625 42.859375 10.171875 \nQ 46.921875 13.96875 46.921875 20.515625 \nQ 46.921875 27.09375 42.890625 30.859375 \nQ 38.875 34.625 31.78125 34.625 \nz\nM 21.921875 38.8125 \nQ 15.578125 40.375 12.03125 44.71875 \nQ 8.5 49.078125 8.5 55.328125 \nQ 8.5 64.0625 14.71875 69.140625 \nQ 20.953125 74.21875 31.78125 74.21875 \nQ 42.671875 74.21875 48.875 69.140625 \nQ 55.078125 64.0625 55.078125 55.328125 \nQ 55.078125 49.078125 51.53125 44.71875 \nQ 48 40.375 41.703125 38.8125 \nQ 48.828125 37.15625 52.796875 32.3125 \nQ 56.78125 27.484375 56.78125 20.515625 \nQ 56.78125 9.90625 50.3125 4.234375 \nQ 43.84375 -1.421875 31.78125 -1.421875 \nQ 19.734375 -1.421875 13.25 4.234375 \nQ 6.78125 9.90625 6.78125 20.515625 \nQ 6.78125 27.484375 10.78125 32.3125 \nQ 14.796875 37.15625 21.921875 38.8125 \nz\nM 18.3125 54.390625 \nQ 18.3125 48.734375 21.84375 45.5625 \nQ 25.390625 42.390625 31.78125 42.390625 \nQ 38.140625 42.390625 41.71875 45.5625 \nQ 45.3125 48.734375 45.3125 54.390625 \nQ 45.3125 60.0625 41.71875 63.234375 \nQ 38.140625 66.40625 31.78125 66.40625 \nQ 25.390625 66.40625 21.84375 63.234375 \nQ 18.3125 60.0625 18.3125 54.390625 \nz\n\" id=\"DejaVuSans-56\"/>\n       </defs>\n       <use xlink:href=\"#DejaVuSans-56\"/>\n       <use x=\"63.623047\" xlink:href=\"#DejaVuSans-48\"/>\n       <use x=\"127.246094\" xlink:href=\"#DejaVuSans-48\"/>\n       <use x=\"190.869141\" xlink:href=\"#DejaVuSans-48\"/>\n       <use x=\"254.492188\" xlink:href=\"#DejaVuSans-48\"/>\n      </g>\n     </g>\n    </g>\n    <g id=\"ytick_6\">\n     <g id=\"line2d_79\">\n      <path clip-path=\"url(#p19325c5869)\" d=\"M 66.053125 45.549536 \nL 400.853125 45.549536 \n\" style=\"fill:none;stroke:#c0c0c0;stroke-linecap:square;stroke-width:0.8;\"/>\n     </g>\n     <g id=\"line2d_80\">\n      <g>\n       <use style=\"stroke:#000000;stroke-width:0.8;\" x=\"66.053125\" xlink:href=\"#me20411f114\" y=\"45.549536\"/>\n      </g>\n     </g>\n     <g id=\"text_41\">\n      <!-- 100000 -->\n      <g transform=\"translate(20.878125 49.348754)scale(0.1 -0.1)\">\n       <defs>\n        <path d=\"M 12.40625 8.296875 \nL 28.515625 8.296875 \nL 28.515625 63.921875 \nL 10.984375 60.40625 \nL 10.984375 69.390625 \nL 28.421875 72.90625 \nL 38.28125 72.90625 \nL 38.28125 8.296875 \nL 54.390625 8.296875 \nL 54.390625 0 \nL 12.40625 0 \nz\n\" id=\"DejaVuSans-49\"/>\n       </defs>\n       <use xlink:href=\"#DejaVuSans-49\"/>\n       <use x=\"63.623047\" xlink:href=\"#DejaVuSans-48\"/>\n       <use x=\"127.246094\" xlink:href=\"#DejaVuSans-48\"/>\n       <use x=\"190.869141\" xlink:href=\"#DejaVuSans-48\"/>\n       <use x=\"254.492188\" xlink:href=\"#DejaVuSans-48\"/>\n       <use x=\"318.115234\" xlink:href=\"#DejaVuSans-48\"/>\n      </g>\n     </g>\n    </g>\n    <g id=\"ytick_7\">\n     <g id=\"line2d_81\">\n      <path clip-path=\"url(#p19325c5869)\" d=\"M 66.053125 10.999219 \nL 400.853125 10.999219 \n\" style=\"fill:none;stroke:#c0c0c0;stroke-linecap:square;stroke-width:0.8;\"/>\n     </g>\n     <g id=\"line2d_82\">\n      <g>\n       <use style=\"stroke:#000000;stroke-width:0.8;\" x=\"66.053125\" xlink:href=\"#me20411f114\" y=\"10.999219\"/>\n      </g>\n     </g>\n     <g id=\"text_42\">\n      <!-- 120000 -->\n      <g transform=\"translate(20.878125 14.798438)scale(0.1 -0.1)\">\n       <use xlink:href=\"#DejaVuSans-49\"/>\n       <use x=\"63.623047\" xlink:href=\"#DejaVuSans-50\"/>\n       <use x=\"127.246094\" xlink:href=\"#DejaVuSans-48\"/>\n       <use x=\"190.869141\" xlink:href=\"#DejaVuSans-48\"/>\n       <use x=\"254.492188\" xlink:href=\"#DejaVuSans-48\"/>\n       <use x=\"318.115234\" xlink:href=\"#DejaVuSans-48\"/>\n      </g>\n     </g>\n    </g>\n    <g id=\"text_43\">\n     <!-- Counts -->\n     <g transform=\"translate(14.798438 136.428994)rotate(-90)scale(0.1 -0.1)\">\n      <defs>\n       <path d=\"M 64.40625 67.28125 \nL 64.40625 56.890625 \nQ 59.421875 61.53125 53.78125 63.8125 \nQ 48.140625 66.109375 41.796875 66.109375 \nQ 29.296875 66.109375 22.65625 58.46875 \nQ 16.015625 50.828125 16.015625 36.375 \nQ 16.015625 21.96875 22.65625 14.328125 \nQ 29.296875 6.6875 41.796875 6.6875 \nQ 48.140625 6.6875 53.78125 8.984375 \nQ 59.421875 11.28125 64.40625 15.921875 \nL 64.40625 5.609375 \nQ 59.234375 2.09375 53.4375 0.328125 \nQ 47.65625 -1.421875 41.21875 -1.421875 \nQ 24.65625 -1.421875 15.125 8.703125 \nQ 5.609375 18.84375 5.609375 36.375 \nQ 5.609375 53.953125 15.125 64.078125 \nQ 24.65625 74.21875 41.21875 74.21875 \nQ 47.75 74.21875 53.53125 72.484375 \nQ 59.328125 70.75 64.40625 67.28125 \nz\n\" id=\"DejaVuSans-67\"/>\n       <path d=\"M 30.609375 48.390625 \nQ 23.390625 48.390625 19.1875 42.75 \nQ 14.984375 37.109375 14.984375 27.296875 \nQ 14.984375 17.484375 19.15625 11.84375 \nQ 23.34375 6.203125 30.609375 6.203125 \nQ 37.796875 6.203125 41.984375 11.859375 \nQ 46.1875 17.53125 46.1875 27.296875 \nQ 46.1875 37.015625 41.984375 42.703125 \nQ 37.796875 48.390625 30.609375 48.390625 \nz\nM 30.609375 56 \nQ 42.328125 56 49.015625 48.375 \nQ 55.71875 40.765625 55.71875 27.296875 \nQ 55.71875 13.875 49.015625 6.21875 \nQ 42.328125 -1.421875 30.609375 -1.421875 \nQ 18.84375 -1.421875 12.171875 6.21875 \nQ 5.515625 13.875 5.515625 27.296875 \nQ 5.515625 40.765625 12.171875 48.375 \nQ 18.84375 56 30.609375 56 \nz\n\" id=\"DejaVuSans-111\"/>\n       <path d=\"M 8.5 21.578125 \nL 8.5 54.6875 \nL 17.484375 54.6875 \nL 17.484375 21.921875 \nQ 17.484375 14.15625 20.5 10.265625 \nQ 23.53125 6.390625 29.59375 6.390625 \nQ 36.859375 6.390625 41.078125 11.03125 \nQ 45.3125 15.671875 45.3125 23.6875 \nL 45.3125 54.6875 \nL 54.296875 54.6875 \nL 54.296875 0 \nL 45.3125 0 \nL 45.3125 8.40625 \nQ 42.046875 3.421875 37.71875 1 \nQ 33.40625 -1.421875 27.6875 -1.421875 \nQ 18.265625 -1.421875 13.375 4.4375 \nQ 8.5 10.296875 8.5 21.578125 \nz\nM 31.109375 56 \nz\n\" id=\"DejaVuSans-117\"/>\n       <path d=\"M 54.890625 33.015625 \nL 54.890625 0 \nL 45.90625 0 \nL 45.90625 32.71875 \nQ 45.90625 40.484375 42.875 44.328125 \nQ 39.84375 48.1875 33.796875 48.1875 \nQ 26.515625 48.1875 22.3125 43.546875 \nQ 18.109375 38.921875 18.109375 30.90625 \nL 18.109375 0 \nL 9.078125 0 \nL 9.078125 54.6875 \nL 18.109375 54.6875 \nL 18.109375 46.1875 \nQ 21.34375 51.125 25.703125 53.5625 \nQ 30.078125 56 35.796875 56 \nQ 45.21875 56 50.046875 50.171875 \nQ 54.890625 44.34375 54.890625 33.015625 \nz\n\" id=\"DejaVuSans-110\"/>\n       <path d=\"M 18.3125 70.21875 \nL 18.3125 54.6875 \nL 36.8125 54.6875 \nL 36.8125 47.703125 \nL 18.3125 47.703125 \nL 18.3125 18.015625 \nQ 18.3125 11.328125 20.140625 9.421875 \nQ 21.96875 7.515625 27.59375 7.515625 \nL 36.8125 7.515625 \nL 36.8125 0 \nL 27.59375 0 \nQ 17.1875 0 13.234375 3.875 \nQ 9.28125 7.765625 9.28125 18.015625 \nL 9.28125 47.703125 \nL 2.6875 47.703125 \nL 2.6875 54.6875 \nL 9.28125 54.6875 \nL 9.28125 70.21875 \nz\n\" id=\"DejaVuSans-116\"/>\n      </defs>\n      <use xlink:href=\"#DejaVuSans-67\"/>\n      <use x=\"69.824219\" xlink:href=\"#DejaVuSans-111\"/>\n      <use x=\"131.005859\" xlink:href=\"#DejaVuSans-117\"/>\n      <use x=\"194.384766\" xlink:href=\"#DejaVuSans-110\"/>\n      <use x=\"257.763672\" xlink:href=\"#DejaVuSans-116\"/>\n      <use x=\"296.972656\" xlink:href=\"#DejaVuSans-115\"/>\n     </g>\n    </g>\n   </g>\n   <g id=\"line2d_83\">\n    <path clip-path=\"url(#p19325c5869)\" d=\"M 81.271307 20.139505 \nL 90.494447 112.435494 \nL 99.717588 140.201856 \nL 108.940728 144.848873 \nL 118.163869 156.390407 \nL 127.387009 157.632491 \nL 136.61015 165.406312 \nL 145.83329 169.709554 \nL 155.056431 171.17967 \nL 164.279571 175.417266 \nL 173.502712 175.856055 \nL 182.725852 184.911693 \nL 191.948993 189.992317 \nL 201.172133 190.764517 \nL 210.395274 191.60409 \nL 219.618414 194.380207 \nL 228.841555 196.746904 \nL 238.064695 198.992675 \nL 247.287836 200.165658 \nL 256.510976 200.62345 \nL 265.734117 201.713512 \nL 274.957257 202.217947 \nL 284.180398 205.605605 \nL 293.403538 207.573246 \nL 302.626679 208.868883 \nL 311.849819 209.508064 \nL 321.07296 210.354546 \nL 330.2961 212.263451 \nL 339.519241 214.536862 \nL 348.742381 215.486996 \nL 357.965522 215.68566 \nL 367.188662 216.212553 \nL 376.411803 217.55656 \nL 385.634943 217.812232 \n\" style=\"fill:none;stroke:#1f77b4;stroke-linecap:square;stroke-width:2;\"/>\n   </g>\n   <g id=\"patch_3\">\n    <path d=\"M 66.053125 227.695869 \nL 66.053125 10.255869 \n\" style=\"fill:none;stroke:#000000;stroke-linecap:square;stroke-linejoin:miter;stroke-width:0.8;\"/>\n   </g>\n   <g id=\"patch_4\">\n    <path d=\"M 400.853125 227.695869 \nL 400.853125 10.255869 \n\" style=\"fill:none;stroke:#000000;stroke-linecap:square;stroke-linejoin:miter;stroke-width:0.8;\"/>\n   </g>\n   <g id=\"patch_5\">\n    <path d=\"M 66.053125 227.695869 \nL 400.853125 227.695869 \n\" style=\"fill:none;stroke:#000000;stroke-linecap:square;stroke-linejoin:miter;stroke-width:0.8;\"/>\n   </g>\n   <g id=\"patch_6\">\n    <path d=\"M 66.053125 10.255869 \nL 400.853125 10.255869 \n\" style=\"fill:none;stroke:#000000;stroke-linecap:square;stroke-linejoin:miter;stroke-width:0.8;\"/>\n   </g>\n  </g>\n </g>\n <defs>\n  <clipPath id=\"p19325c5869\">\n   <rect height=\"217.44\" width=\"334.8\" x=\"66.053125\" y=\"10.255869\"/>\n  </clipPath>\n </defs>\n</svg>\n",
      "image/png": "[encoded data removed]"
     },
     "metadata": {
      "needs_background": "light"
     }
    },
    {
     "output_type": "execute_result",
     "data": {
      "text/plain": [
       "<AxesSubplot:xlabel='Samples', ylabel='Counts'>"
      ]
     },
     "metadata": {},
     "execution_count": 4
    }
   ],
   "source": [
    "fdist.plot(cumulative=False)"
   ]
  },
  {
   "source": [
    "    возьмите какие-нибудь тестовые тексты (нужно взять по меньшей мере 2-3 предложения, иначе вряд ли сработает), зашифруйте их посредством случайной перестановки символов;"
   ],
   "cell_type": "markdown",
   "metadata": {}
  },
  {
   "cell_type": "code",
   "execution_count": 41,
   "metadata": {},
   "outputs": [],
   "source": [
    "exam = \"Многие шифры, не отличающиеся сложным алгоритмом, могут быть расшифрованы специалистами и без наличия ключа, для этого существуют некоторые специальные методы, называемые методами криптоанализа. Один из таких способов это частотный анализ. Частотный анализ предполагает, что каждая буква алфавита того или иного языка в довольно длинном тексте встречается с определенной частотой. Как же работает данный метод? К примеру, имеется зашифрованный текст, полученный методом какой-либо перестановки букв по определенному алгоритму, и аналитикам требуется его расшифровать. Для этого берется открытый текст, желательно довольно длинный, затем подсчитывается в нем частота каждой буквы, причем, чем больше будет текст, тем точнее получится расшифровка. ёу\""
   ]
  },
  {
   "cell_type": "code",
   "execution_count": 6,
   "metadata": {},
   "outputs": [],
   "source": [
    "def caesar_cipher(exam):\n",
    "    text_for_encrypt = exam.lower().replace(',', '').replace('.', '').replace('?', '')\n",
    "    letters = LETTERS\n",
    "    arr = []\n",
    "    step = 3\n",
    "    for i in text_for_encrypt:\n",
    "        arr.append(letters[(letters.find(i) + step) % 34])\n",
    "    text_for_decrypt = ''.join(arr)\n",
    "    return text_for_decrypt\n",
    "to_decrypt = caesar_cipher(exam)"
   ]
  },
  {
   "cell_type": "code",
   "execution_count": 7,
   "metadata": {},
   "outputs": [
    {
     "output_type": "stream",
     "name": "stdout",
     "text": [
      "прсёлзвылчуюврзвсхолъгаьлзфбвфосйрюпвгоёсулхпспвпсёцхвдюхявугфылчусегрювфтзщлголфхгплвлвдзкврголълбвноаъгвжобв хсёсвфцьзфхецахврзнсхсуюзвфтзщлгоярюзвпзхсжювргкюегзпюзвпзхсжгплвнултхсгрголкгвсжлрвлквхгнлшвфтсфсдсев хсвъгфхсхрюмвгрголквъгфхсхрюмвгрголквтузжтсогёгзхвъхсвнгйжгбвдцнегвгочгелхгвхсёсвлолвлрсёсвбкюнгвевжсесоярсвжолррспвхзнфхзвефхузъгзхфбвфвстузжзозррсмвъгфхсхсмвнгнвйзвугдсхгзхвжгррюмвпзхсжвнвтулпзуцвлпззхфбвкгылчусегррюмвхзнфхвтсоцъзррюмвпзхсжспвнгнсмволдсвтзузфхгрсенлвдцневтсвстузжзозррспцвгоёсулхпцвлвгрголхлнгпвхуздцзхфбвзёсвугфылчусегхявжобв хсёсвдзузхфбвсхнуюхюмвхзнфхвйзогхзоярсвжсесоярсвжолррюмвкгхзпвтсжфълхюегзхфбвеврзпвъгфхсхгвнгйжсмвдцнеювтулъзпвъзпвдсояызвдцжзхвхзнфхвхзпвхсърззвтсоцълхфбвугфылчусенг\n"
     ]
    }
   ],
   "source": [
    "print (to_decrypt)"
   ]
  },
  {
   "source": [
    "    расшифруйте их таким частотным методом."
   ],
   "cell_type": "markdown",
   "metadata": {}
  },
  {
   "cell_type": "code",
   "execution_count": 8,
   "metadata": {},
   "outputs": [],
   "source": [
    "def freq_text(text):\n",
    "    res = FreqDist(text)\n",
    "    return (res)\n",
    "f_decrypted = freq_text(to_decrypt)"
   ]
  },
  {
   "cell_type": "code",
   "execution_count": 9,
   "metadata": {
    "tags": []
   },
   "outputs": [
    {
     "output_type": "stream",
     "name": "stdout",
     "text": [
      "[' ', 'о', 'а', 'е', 'и', 'н', 'т', 'с', 'л', 'в', 'р', 'к', 'д', 'м', 'у', 'п', 'я', 'г', 'ь', 'ы', 'з', 'б', 'ч', 'й', 'ж', 'ш', 'х', 'ю', 'ц', 'э', 'щ', 'ф', 'ё', 'ъ']\n['в', 'с', 'х', 'з', 'г', 'л', 'р', 'ф', 'о', 'п', 'у', 'н', 'ю', 'ж', 'е', 'ъ', 'т', 'ц', 'б', 'д', 'м', 'ё', 'к', 'я', 'ы', 'ч', 'й', 'а', ' ', 'ь', 'щ', 'ш']\n"
     ]
    }
   ],
   "source": [
    "def decrypt_text(tex_to, fdist, f_decrypted):\n",
    "    arr_encrypt_text = []\n",
    "    arr_encrypt_letters = list(OrderedDict(sorted(fdist.items(), key=lambda t: t[1], reverse=True)))\n",
    "    arr_decrypt_letters = list(OrderedDict(sorted(f_decrypted.items(), key=lambda t: t[1], reverse=True)))\n",
    "    dictionary = dict(zip(arr_decrypt_letters, arr_encrypt_letters))\n",
    "    for i in tex_to:\n",
    "        arr_encrypt_text.append(dictionary.get(i))\n",
    "    text_for_decrypt = ''.join(arr_encrypt_text)\n",
    "    return(text_for_decrypt, dictionary)\n",
    "result, dictionary = decrypt_text(to_decrypt, fdist, f_decrypted)"
   ]
  },
  {
   "cell_type": "code",
   "execution_count": 10,
   "metadata": {},
   "outputs": [
    {
     "output_type": "stream",
     "name": "stdout",
     "text": [
      "втобне жншрд те оалнпиюэнесь слохтдв илборнавов вобга ыдай рисжншроуитд сяещнилнсаивн н ыеч тилнпнь клюпи мль цаобо сгэесаугюа текоаорде сяещнилйтде веаомд тичдуиевде веаомивн крняаоитилнчи омнт нч аикнф сяосоыоу цао писаоатдз итилнч писаоатдз итилнч яремяолибиеа пао кихмиь ыгкуи илшиунаи аобо нлн нтобо ьчдки у моуолйто млнттов аексае усарепиеась с ояремелеттоз писаоаоз кик хе риыоаиеа миттдз веаом к ярнверг нвееась чижншроуиттдз аекса яолгпеттдз веаомов кикоз лныо яересаитоукн ыгку яо ояремелеттовг илборнавг н итилнанкив ареыгеась ебо рисжншроуиай мль цаобо ыереась оакрдадз аекса хелиаелйто моуолйто млнттдз чиаев яомспнадуиеась у тев писаоаи кихмоз ыгкуд ярнпев пев ыолйже ыгмеа аекса аев аоптее яолгпнась рисжншроуки\n"
     ]
    }
   ],
   "source": [
    "print(result)"
   ]
  },
  {
   "source": [
    "## Вряд ли в результате получилась такая уж хорошая расшифровка. Я не знаю, как запрограммировать такой интуитивный анализ, так что давайте просто сделаем следующий логический шаг:\n",
    "    подсчитайте частоты биграмм (т.е. пар последовательных букв) по корпусам;\n",
    "    \n"
   ],
   "cell_type": "markdown",
   "metadata": {}
  },
  {
   "cell_type": "code",
   "execution_count": 12,
   "metadata": {},
   "outputs": [],
   "source": [
    "    def create_scoring_params_dict(data):\n",
    "        scoring_params = {}\n",
    "        alphabet_list = list(LETTERS.upper())\n",
    "        for i in range(0, len(data)-1):\n",
    "            alpha_i = data[i].upper()\n",
    "            alpha_j = data[i+1].upper()\n",
    "            if alpha_i not in alphabet_list:\n",
    "                alpha_i = \" \"\n",
    "            if alpha_j not in alphabet_list:\n",
    "                alpha_j = \" \"\n",
    "            if alpha_j == \" \" and alpha_i == \" \":\n",
    "                key = \" \"\n",
    "            else: \n",
    "                key = alpha_i+alpha_j\n",
    "            #if key != \"  \":\n",
    "            if key in scoring_params:\n",
    "                scoring_params[key]+=1\n",
    "            else:\n",
    "                scoring_params[key]=1\n",
    "        return Counter(scoring_params)\n",
    "bigrams_dict_text = create_scoring_params_dict(ru_tex)\n",
    "bigram_dict_encrypted = create_scoring_params_dict(to_decrypt)\n"
   ]
  },
  {
   "source": [
    "    проведите тестирование аналогично п.1, но при помощи биграмм."
   ],
   "cell_type": "markdown",
   "metadata": {}
  },
  {
   "cell_type": "code",
   "execution_count": 15,
   "metadata": {},
   "outputs": [
    {
     "output_type": "stream",
     "name": "stdout",
     "text": [
      "{'ХС': ' ', 'ФХ': 'О ', 'СВ': 'И ', 'ЗХ': 'А ', 'ОЛ': 'Е ', 'БВ': ' С', 'МВ': ' П', 'ПВ': ' В', 'ГО': ' Н', 'РС': 'ТО', 'ЗВ': ' О', 'РЮ': 'Я ', 'ВХ': ' К', 'СХ': ' И', 'ХВ': 'СТ', 'ВД': 'Ь ', 'СЕ': 'НА', 'ГР': 'ГО', 'ВТ': 'АЛ', 'ХЗ': 'НЕ', 'ЪГ': 'ПО', 'ФБ': 'НО', 'ЁС': 'РА', 'ГФ': 'КО', 'ВН': 'ОВ', 'ВЖ': 'Л ', 'ЮМ': 'Й ', 'УЗ': 'КА', 'НГ': ' Б', 'РР': 'М ', 'СЁ': ' Т', 'ВФ': 'ВО', 'ВГ': ' Д', 'ЛХ': 'РО', 'ЕГ': 'ЕР', 'ХГ': 'ОЛ', 'ЛВ': 'ЕН', 'ВЛ': 'ОН', 'РГ': 'НИ', 'ГВ': 'У ', 'ПЗ': 'ОС', 'СЖ': 'ОТ', 'ЗП': 'ЛА', 'ТС': 'ЛИ', 'ВЪ': 'ЛО', 'СО': 'ОР', 'ХФ': 'В ', 'ЫЛ': 'ЕЛ', 'ЛЧ': 'РЕ', 'ЧУ': 'ПР', 'ВР': 'ВА', 'ВС': ' М', 'УЛ': 'ЗА', 'ВП': 'ТА', 'ЗН': 'РИ', 'ОЯ': ' Г', 'ГЗ': ' Ч', 'ТУ': 'АН', 'ДЦ': 'К ', 'ЮВ': 'ИЛ', 'РЗ': 'ТЬ', 'СП': 'ОМ', 'ВУ': 'СК', 'УГ': 'АТ', 'УС': 'ОГ', 'КВ': 'Т ', 'ЖО': 'ТЕ', 'ЯР': 'Н ', 'ЛК': 'ОД', 'ЛР': ' Р', 'ДС': 'Ы ', 'ЕВ': 'АК', 'ЖС': 'ДЕ', 'НФ': 'ВЕ', 'ЗО': ' З', 'СМ': 'ДА', 'УЮ': 'АЗ', 'ЛЪ': ' Е', 'ЗФ': ' У', 'СУ': 'ЕМ', 'ФЫ': 'АС', 'ФТ': 'ЖЕ', 'ТЗ': 'ЛЕ', 'ГП': 'ОЙ', 'ЪЛ': 'БЫ', 'В ': 'ЕТ', ' Х': 'МО', 'ЮЗ': 'ДО', 'ЖГ': 'МИ', 'КГ': 'ЛЬ', 'ГН': 'ЕС', 'ЗЖ': 'АВ', 'ЦН': 'ЧТ', 'НЕ': 'Ю ', 'ВЕ': 'ТИ', 'ЖЗ': 'ЕГ', 'ЗР': 'НЯ', 'ЗУ': 'СЬ', 'ЦВ': 'ИТ', 'ЪЗ': 'ВИ', 'ГХ': 'ИН', 'ЛЗ': 'Х ', 'ОЁ': 'РУ', 'ХП': 'С ', 'ПС': 'НЫ', 'ЮХ': 'ОБ', 'ХЯ': 'СЯ', 'ЯВ': ' А', 'ЗЩ': 'ВС', 'ЩЛ': 'ЧЕ', 'ЛГ': 'НН', 'ПЛ': 'ИМ', 'ДЗ': 'ТР', 'ОБ': 'ИС', 'НС': 'АЯ', 'КЮ': 'МА', 'ЮЕ': 'ДИ', 'НУ': 'МЕ', 'НЛ': 'АР', 'ХР': 'АМ', 'ОГ': 'СЕ', 'ГЙ': 'ВЫ', 'ЙЖ': ' Л', 'ЕС': 'НУ', 'ХУ': 'ИВ', 'СТ': 'КИ', 'ОЗ': ' Э', 'НВ': 'СО', 'ВЙ': 'ПЕ', 'ЙЗ': 'ЕД', 'ЛП': 'ИЕ', 'ЗЗ': 'СЛ', 'ВК': 'ЕЙ', 'ОЦ': 'КН', 'ЦЪ': 'ХО', 'ЕН': 'ЫЛ', 'ПЦ': 'МУ', 'ХЮ': 'БО', 'ПР': 'ШЕ', 'ЁЛ': 'ЭТ', 'ВЫ': 'ЧА', 'ХО': 'АД', 'ГА': 'ТВ', 'АЬ': 'ОЕ', 'ЬЛ': 'ДР', 'ФО': 'БЕ', 'ОС': 'ШИ', 'СЙ': 'УД', 'ЙР': 'ТУ', 'ЮП': 'ЛЯ', 'ЁЦ': 'ИД', 'ЦХ': 'КР', 'ДЮ': 'СВ', 'ЛФ': 'СП', 'ЗК': ' Ж', 'ЛБ': 'ИХ', 'НО': 'ОК', 'ОА': 'ИЗ', 'АЪ': 'ИК', 'ФЦ': 'СИ', 'ЦЬ': 'ДН', 'ЬЗ': 'ГЛ', 'ХЕ': 'ДУ', 'ЕЦ': 'ОЖ', 'ЦА': 'ИЯ', 'АХ': ' Я', 'ЖЮ': 'ТЫ', 'ГК': 'ЯЗ', 'ПЮ': 'КУ', 'ЛТ': 'ЗН', 'ТХ': 'ЫЙ', 'СГ': 'УЛ', 'ЖЛ': 'ЫМ', 'РВ': 'ЕЕ', 'ЛШ': 'РЫ', 'ШВ': 'ИЦ', 'СФ': 'ИЙ', 'ФС': 'СА', 'СД': 'УТ', 'ЖТ': 'УС', 'ГЁ': 'ЯТ', 'ЁГ': 'ША', 'ЪХ': 'ЛС', 'ГБ': 'ГР', 'ОЧ': 'ВН', 'ЧГ': 'ЖА', 'ГЕ': 'ЕВ', 'ЕЛ': 'ОЧ', 'ЛО': 'Р ', 'ВБ': 'ОШ', 'БК': 'УЖ', 'ЮН': 'ВШ', 'ЕФ': 'З ', 'ЗЪ': 'УГ', 'ФВ': 'ЛЫ', 'ГД': 'АЖ', 'ЖВ': 'ЩЕ', 'УЦ': 'ЛУ', 'ГЫ': 'БР', 'ВО': 'ИЧ', 'ЛД': 'ЧИ', 'ХЛ': 'ПА', 'ЛН': 'БУ', 'ЗД': 'БА', 'ЦЗ': ' Х', 'ВЗ': 'НД', 'ЗЁ': 'МН', 'ХН': 'ЖИ', 'ЖФ': 'Д ', 'ФЪ': 'ЬК', 'ЕЮ': 'ЗЬ', 'ЯЫ': 'ЕЗ', 'ЫЗ': 'ЦЕ', 'ЦЖ': 'ОП', 'СЪ': 'ЫВ', 'ЪР': 'РЯ'}\nПР ШЕ\nСЁ  Т\nЛЗ Х \nВЫ ЧА\nЛЧ РЕ\nУЮ АЗ\nВР ВА\nЗВ  О\nСХ  И\nОЛ Е \nЪГ ПО\nАЬ ОЕ\nЛЗ Х \nФБ НО\nВФ ВО\nОС ШИ\nЙР ТУ\nЮП ЛЯ\nВГ  Д\nОЁ РУ\nСУ ЕМ\nЛХ РО\nПС НЫ\nПВ  В\nПС НЫ\nЁЦ ИД\nХВ СТ\nДЮ СВ\nХЯ СЯ\nВУ СК\nГФ КО\nЫЛ ЕЛ\nЧУ ПР\nСЕ НА\nГР ГО\nЮВ ИЛ\nФТ ЖЕ\nЗЩ ВС\nЛГ НН\nОЛ Е \nФХ О \nГП ОЙ\nЛВ ЕН\nЛВ ЕН\nДЗ ТР\nКВ Т \nРГ НИ\nОЛ Е \nЪЛ БЫ\nБВ  С\nНО ОК\nАЪ ИК\nГВ У \nЖО ТЕ\nБВ  С\n Х МО\nСЁ  Т\nСВ И \nФЦ СИ\nЬЗ ГЛ\nФХ О \nЕЦ ОЖ\nАХ  Я\nВР ВА\nЗН РИ\nСХ  И\nСУ ЕМ\nЮЗ ДО\nВФ ВО\nТЗ ЛЕ\nЩЛ ЧЕ\nГО  Н\nЯР Н \nЮЗ ДО\nВП ТА\nЗХ А \nСЖ ОТ\nЮВ ИЛ\nРГ НИ\nКЮ МА\nЕГ ЕР\nЗП ЛА\nЮЗ ДО\nВП ТА\nЗХ А \nСЖ ОТ\nГП ОЙ\nЛВ ЕН\nНУ МЕ\nЛТ ЗН\nХС  \nГР ГО\nГО  Н\nЛК ОД\nГВ У \nСЖ ОТ\nЛР  Р\nВЛ ОН\nКВ Т \nХГ ОЛ\nНЛ АР\nШВ ИЦ\nФТ ЖЕ\nСФ ИЙ\nСД УТ\nСЕ НА\nВ  ЕТ\nХС  \nВЪ ЛО\nГФ КО\nХС  \nХР АМ\nЮМ Й \nВГ  Д\nРГ НИ\nОЛ Е \nКВ Т \nЪГ ПО\nФХ О \nСХ  И\nРЮ Я \nМВ  П\nГР ГО\nГО  Н\nЛК ОД\nВТ АЛ\nУЗ КА\nЖТ УС\nСО ОР\nГЁ ЯТ\nГЗ  Ч\nХВ СТ\nЪХ ЛС\nСВ И \nНГ  Б\nЙЖ  Л\nГБ ГР\nВД Ь \nЦН ЧТ\nЕГ ЕР\nВГ  Д\nОЧ ВН\nГЕ ЕВ\nЛХ РО\nГВ У \nХС  \nЁС РА\nВЛ ОН\nОЛ Е \nВЛ ОН\nРС ТО\nЁС РА\nВБ ОШ\nКЮ МА\nНГ  Б\nВЕ ТИ\nВЖ Л \nСЕ НА\nСО ОР\nЯР Н \nСВ И \nЖО ТЕ\nЛР  Р\nРС ТО\nПВ  В\nХЗ НЕ\nНФ ВЕ\nХЗ НЕ\nВЕ ТИ\nФХ О \nУЗ КА\nЪГ ПО\nЗХ А \nФБ НО\nВФ ВО\nВС  М\nТУ АН\nЗЖ АВ\nЗО  З\nЗР НЯ\nРС ТО\nМВ  П\nЪГ ПО\nФХ О \nСХ  И\nСМ ДА\nВН ОВ\nГН ЕС\nВЙ ПЕ\nЗВ  О\nУГ АТ\nДС Ы \nХГ ОЛ\nЗХ А \nВЖ Л \nГР ГО\nРЮ Я \nМВ  П\nПЗ ОС\nХС  \nЖВ ЩЕ\nНВ СО\nТУ АН\nЛП ИЕ\nЗУ СЬ\nЦВ ИТ\nЛП ИЕ\nЗЗ СЛ\nХФ В \nБВ  С\nКГ ЛЬ\nЫЛ ЕЛ\nЧУ ПР\nСЕ НА\nГР ГО\nРЮ Я \nМВ  П\nХЗ НЕ\nНФ ВЕ\nХВ СТ\nТС ЛИ\nОЦ КН\nЪЗ ВИ\nРР М \nЮМ Й \nВП ТА\nЗХ А \nСЖ ОТ\nСП ОМ\nВН ОВ\nГН ЕС\nСМ ДА\nВО ИЧ\nЛД ЧИ\nСВ И \nТЗ ЛЕ\nУЗ КА\nФХ О \nГР ГО\nСЕ НА\nНЛ АР\nВД Ь \nЦН ЧТ\nЕВ АК\nТС ЛИ\nВС  М\nТУ АН\nЗЖ АВ\nЗО  З\nЗР НЯ\nРС ТО\nПЦ МУ\nВГ  Д\nОЁ РУ\nСУ ЕМ\nЛХ РО\nПЦ МУ\nВЛ ОН\nВГ  Д\nРГ НИ\nОЛ Е \nХЛ ПА\nНГ  Б\nПВ  В\nХУ ИВ\nЗД БА\nЦЗ  Х\nХФ В \nБВ  С\nЗЁ МН\nСВ И \nУГ АТ\nФЫ АС\nЛЧ РЕ\nУС ОГ\nЕГ ЕР\nХЯ СЯ\nВЖ Л \nОБ ИС\nВ  ЕТ\nХС  \nЁС РА\nВД Ь \nЗУ СЬ\nЗХ А \nФБ НО\nВС  М\nХН ЖИ\nУЮ АЗ\nХЮ БО\nМВ  П\nХЗ НЕ\nНФ ВЕ\nХВ СТ\nЙЗ ЕД\nОГ СЕ\nХЗ НЕ\nОЯ  Г\nРС ТО\nВЖ Л \nСЕ НА\nСО ОР\nЯР Н \nСВ И \nЖО ТЕ\nЛР  Р\nРЮ Я \nМВ  П\nКГ ЛЬ\nХЗ НЕ\nПВ  В\nТС ЛИ\nЖФ Д \nЪЛ БЫ\nХЮ БО\nЕГ ЕР\nЗХ А \nФБ НО\nВЕ ТИ\nВР ВА\nЗП ЛА\nВЪ ЛО\nГФ КО\nХС  \nХГ ОЛ\nВН ОВ\nГЙ ВЫ\nЖС ДЕ\nМВ  П\nДЦ К \nНЕ Ю \nЮВ ИЛ\nТУ АН\nЛЪ  Е\nЗП ЛА\nВЪ ЛО\nЗП ЛА\nВД Ь \nСО ОР\nЯЫ ЕЗ\nЗВ  О\nДЦ К \nЖЗ ЕГ\nХВ СТ\nХЗ НЕ\nНФ ВЕ\nХВ СТ\nХЗ НЕ\nПВ  В\nХС  \nЪР РЯ\nЗЗ СЛ\nВТ АЛ\nСО ОР\nЦЪ ХО\nЛХ РО\nФБ НО\nВУ СК\nГФ КО\nЫЛ ЕЛ\nЧУ ПР\nСЕ НА\nНГ  Б\n"
     ]
    }
   ],
   "source": [
    "def decrypt_text(text_for_decrypt, bigrams_dict_text, bigram_dict_encrypted):\n",
    "    arr_encrypt_text = []\n",
    "    arr_encrypt_letters = list(OrderedDict(sorted(bigrams_dict_text.items(), key=lambda t: t[1], reverse=True)))[:len(bigram_dict_encrypted)]\n",
    "    arr_decrypt_letters = list(OrderedDict(sorted(bigram_dict_encrypted.items(), key=lambda t: t[1], reverse=True)))\n",
    "    dictionary = dict(zip(arr_decrypt_letters, arr_encrypt_letters))\n",
    "    for i in range(0, len(text_for_decrypt)-1, 2):\n",
    "        alpha_i = text_for_decrypt[i].upper()\n",
    "        alpha_j = text_for_decrypt[i+1].upper()\n",
    "        arr_encrypt_text.append(dictionary.get(alpha_i + alpha_j))\n",
    "    text_for_decrypt = ''.join(arr_encrypt_text)\n",
    "    return(text_for_decrypt, dictionary)\n",
    "decrypted_text_bi, dictionary = decrypt_text(to_decrypt, bigrams_dict_text, bigram_dict_encrypted)"
   ]
  },
  {
   "cell_type": "code",
   "execution_count": 16,
   "metadata": {},
   "outputs": [
    {
     "output_type": "execute_result",
     "data": {
      "text/plain": [
       "'ШЕ ТХ ЧАРЕАЗВА О ИЕ ПООЕХ НОВОШИТУЛЯ ДРУЕМРОНЫ ВНЫИДСТСВСЯСККОЕЛПРНАГОИЛЖЕВСННЕ О ОЙЕНЕНТРТ НИЕ БЫ СОКИКУ ТЕ СМО ТИ СИГЛО ОЖ ЯВАРИ ИЕМДОВОЛЕЧЕ НН ДОТАА ОТИЛНИМАЕРЛАДОТАА ОТОЙЕНМЕЗН ГО НОДУ ОТ РОНТ ОЛАРИЦЖЕИЙУТНАЕТ ЛОКО АМЙ  ДНИЕ Т ПОО  ИЯ  ПГО НОДАЛКАУСОРЯТ ЧСТЛСИ  Б ЛГРЬ ЧТЕР ДВНЕВРОУ  РАОНЕ ОНТОРАОШМА БТИЛ НАОРН И ТЕ РТО ВНЕВЕНЕТИО КАПОА НОВО МАНАВ ЗНЯТО ППОО  ИДАОВЕСПЕ ОАТЫ ОЛА Л ГОЯ  ПОС ЩЕСОАНИЕСЬИТИЕСЛВ  СЛЬЕЛПРНАГОЯ  ПНЕВЕСТЛИКНВИМ Й ТАА ОТОМОВЕСДАИЧЧИИ ЛЕКАО ГОНААРЬ ЧТАКЛИ МАНАВ ЗНЯТОМУ ДРУЕМРОМУОН ДНИЕ ПА Б ВИВБА ХВ  СМНИ АТАСРЕОГЕРСЯЛ ИСЕТ РАЬ СЬА НО МЖИАЗБО ПНЕВЕСТЕДСЕНЕ ГТОЛ НАОРН И ТЕ РЯ  ПЛЬНЕ ВЛИД БЫБОЕРА НОТИВАЛАЛОКО ОЛОВВЫДЕ ПК Ю ИЛАН ЕЛАЛОЛАЬ ОРЕЗ ОК ЕГСТНЕВЕСТНЕ В РЯСЛАЛОРХОРОНОСККОЕЛПРНА Б'"
      ]
     },
     "metadata": {},
     "execution_count": 16
    }
   ],
   "source": [
    "decrypted_text_bi"
   ]
  },
  {
   "source": [
    "## Но и это ещё не всё: биграммы скорее всего тоже далеко не всегда работают. Основная часть задания — в том, как можно их улучшить:\n",
    "    предложите метод обучения перестановки символов в этом задании, основанный на MCMC-сэмплировании, но по-прежнему работающий на основе статистики биграмм"
   ],
   "cell_type": "markdown",
   "metadata": {}
  },
  {
   "source": [
    "Модель для обучения позаимствована из этого источника с соответствующими доработками:\n",
    "https://towardsdatascience.com/applications-of-mcmc-for-cryptography-and-optimization-1f99222b7132"
   ],
   "cell_type": "markdown",
   "metadata": {}
  },
  {
   "cell_type": "code",
   "execution_count": 18,
   "metadata": {},
   "outputs": [],
   "source": [
    "import string\n",
    "import math\n",
    "import random\n",
    "#\n",
    "# This function takes as input a decryption key and creates a dict for key where each letter in the decryption key\n",
    "# maps to a alphabet For example if the decryption key is \"DGHJKL....\" this function will create a dict like {D:A,G:B,H:C....} \n",
    "def create_cipher_dict(cipher):\n",
    "    cipher_dict = {}\n",
    "    alphabet_list = list(f_test.keys())\n",
    "    for i in range(len(cipher)):\n",
    "        cipher_dict[alphabet_list[i]] = cipher[i]\n",
    "    return cipher_dict\n",
    "\n",
    "# This function takes a text and applies the cipher/key on the text and returns text.\n",
    "def apply_cipher_on_text(text,cipher):\n",
    "    cipher_dict = create_cipher_dict(cipher) \n",
    "    text = list(text)\n",
    "    newtext = \"\"\n",
    "    for elem in text:\n",
    "        if elem in cipher_dict:\n",
    "            newtext += cipher_dict[elem]\n",
    "            #print (newtext)\n",
    "            #print (newtext)\n",
    "        else:\n",
    "            newtext+=\"\"\n",
    "    #print (newtext)\n",
    "    return newtext"
   ]
  },
  {
   "cell_type": "code",
   "execution_count": 19,
   "metadata": {},
   "outputs": [],
   "source": [
    "# This function takes as input a path to a long text and creates scoring_params dict which contains the \n",
    "# number of time each pair of alphabet appears together\n",
    "# Ex. {'AB':234,'TH':2343,'CD':23 ..}\n",
    "def score_params_on_cipher(text):\n",
    "    scoring_params = {}\n",
    "    alphabet_list = list(LETTERS.upper())\n",
    "    data = list(text.strip())\n",
    "    for i in range(len(data)-1):\n",
    "        alpha_i =data[i].upper()\n",
    "        alpha_j = data[i+1].upper()\n",
    "        if alpha_i not in alphabet_list: #and alpha_i != \" \":\n",
    "            alpha_i = \" \"\n",
    "        if alpha_j not in alphabet_list: #and alpha_j != \" \":\n",
    "            alpha_j = \" \"\n",
    "        if alpha_j == \" \" and alpha_i == \" \":\n",
    "            key = \" \"\n",
    "        else: \n",
    "            key = alpha_i+alpha_j\n",
    "        #if key != \"  \":\n",
    "        if key in scoring_params:\n",
    "            scoring_params[key]+=1\n",
    "        else:\n",
    "            scoring_params[key]=1\n",
    "    return scoring_params\n",
    "\n",
    "# This function takes as input a text and creates scoring_params dict which contains the \n",
    "# number of time each pair of alphabet appears together\n",
    "# Ex. {'AB':234,'TH':2343,'CD':23 ..}\n",
    "\n",
    "def create_scoring_params_dict(data):\n",
    "    scoring_params = {}\n",
    "    alphabet_list = list(LETTERS.upper())\n",
    "    for i in range(len(data)-1):\n",
    "        #print (data[i])\n",
    "        alpha_i = data[i].upper()\n",
    "        alpha_j = data[i+1].upper()\n",
    "        #if alpha_i in alphabet_list and alpha_j in alphabet_list:# and alpha_i != \" \":\n",
    "        #    key = alpha_i+alpha_j\n",
    "        #    if key in scoring_params:\n",
    "        #        scoring_params[key]+=1\n",
    "        #    else:\n",
    "        #        scoring_params[key]=1\n",
    "        if alpha_i not in alphabet_list: #and alpha_i != \" \":\n",
    "            alpha_i = \"\"\n",
    "        if alpha_j not in alphabet_list: #and alpha_j != \" \":\n",
    "            alpha_j = \"\"\n",
    "        if alpha_j == \" \" and alpha_i == \" \":\n",
    "            key = \" \"\n",
    "        else: \n",
    "            key = alpha_i+alpha_j\n",
    "        #if key != \"  \":\n",
    "        if key in scoring_params:\n",
    "            scoring_params[key]+=1\n",
    "        else:\n",
    "            scoring_params[key]=1\n",
    "    return scoring_params\n",
    "\n",
    "# This function takes the text to be decrypted and a cipher to score the cipher.\n",
    "# This function returns the log(score) metric\n",
    "\n",
    "def get_cipher_score(text,cipher,scoring_params):\n",
    "    cipher_dict = create_cipher_dict(cipher)\n",
    "    decrypted_text = apply_cipher_on_text(text,cipher)\n",
    "    scored_f = score_params_on_cipher(decrypted_text)\n",
    "    #print (scored_f)\n",
    "    cipher_score = 0\n",
    "    for k,v in scored_f.items():\n",
    "        if k in scoring_params:\n",
    "            cipher_score += v*math.log(scoring_params[k])\n",
    "    return cipher_score"
   ]
  },
  {
   "cell_type": "code",
   "execution_count": 42,
   "metadata": {},
   "outputs": [],
   "source": [
    "text0 = exam.lower().replace(',', '').replace('.', '').replace('?', '')\n",
    "def freq_text(text):\n",
    "    res = FreqDist(text)\n",
    "    return (res)\n",
    "f_test = freq_text(text0)\n",
    "\n"
   ]
  },
  {
   "cell_type": "code",
   "execution_count": 44,
   "metadata": {},
   "outputs": [],
   "source": [
    "# Generate a proposal cipher by swapping letters at two random location\n",
    "def generate_cipher(cipher):\n",
    "    pos1 = random.randint(0, len(list(cipher))-1)\n",
    "    pos2 = random.randint(0, len(list(cipher))-1)\n",
    "    #print (len(list(cipher))-1, pos1, pos2)\n",
    "    if pos1 == pos2:\n",
    "        return generate_cipher(cipher)\n",
    "    else:\n",
    "        cipher = list(cipher)\n",
    "        #print(cipher)\n",
    "        pos1_alpha = cipher[pos1]\n",
    "        pos2_alpha = cipher[pos2]\n",
    "        cipher[pos1] = pos2_alpha\n",
    "        cipher[pos2] = pos1_alpha\n",
    "        #print (cipher)\n",
    "        return \"\".join(cipher)\n",
    "\n",
    "# Toss a random coin with robability of head p. If coin comes head return true else false.\n",
    "def random_coin(p):\n",
    "    unif = random.uniform(0,1)\n",
    "    if unif>=p:\n",
    "        return False\n",
    "    else:\n",
    "        return True"
   ]
  },
  {
   "cell_type": "code",
   "execution_count": 89,
   "metadata": {},
   "outputs": [],
   "source": [
    "def MCMC_decrypt(n_iter,cipher_text,scoring_params):\n",
    "    current_cipher = \"ЕСЛИ ВЫДТНОРЖАЬЙПЧКУЭГБЩЯЗМЮШЦЁХЪФ\"\n",
    "    state_keeper = set()\n",
    "    best_state = ''\n",
    "    score = 0\n",
    "    for i in range(n_iter):\n",
    "        state_keeper.add(current_cipher)\n",
    "        proposed_cipher = generate_cipher(current_cipher)\n",
    "        score_current_cipher = get_cipher_score(cipher_text,current_cipher,scoring_params)\n",
    "        score_proposed_cipher = get_cipher_score(cipher_text,proposed_cipher,scoring_params)\n",
    "        acceptance_probability = min(1,math.exp(score_proposed_cipher-score_current_cipher))\n",
    "        if score_current_cipher>score:\n",
    "            best_state = current_cipher\n",
    "        if random_coin(acceptance_probability):\n",
    "            current_cipher = proposed_cipher\n",
    "    return state_keeper,best_state"
   ]
  },
  {
   "cell_type": "code",
   "execution_count": 91,
   "metadata": {
    "tags": []
   },
   "outputs": [
    {
     "output_type": "stream",
     "name": "stdout",
     "text": [
      "Text To Decode: многие шифры не отличающиеся сложным алгоритмом могут быть расшифрованы специалистами и без наличия ключа для этого существуют некоторые специальные методы называемые методами криптоанализа один из таких способов это частотный анализ частотный анализ предполагает что каждая буква алфавита того или иного языка в довольно длинном тексте встречается с определенной частотой как же работает данный метод к примеру имеется зашифрованный текст полученный методом какой-либо перестановки букв по определенному алгоритму и аналитикам требуется его расшифровать для этого берется открытый текст желательно довольно длинный затем подсчитывается в нем частота каждой буквы причем чем больше будет текст тем точнее получится расшифровка ёу\n",
      "\n",
      "\n",
      "\n",
      "\n",
      "Decoded Text: \n",
      "\n",
      "\n",
      "MCMC KEY FOUND: \n",
      "ACTUAL DECRYPTION KEY: ЭЮЯ ГДЕЁЖЗИЙКЛМНОПРСТУФХЦЧШЩЪЫЬ\n"
     ]
    }
   ],
   "source": [
    "## Run the Main Program:\n",
    "\n",
    "scoring_params = create_scoring_params_dict(ru_tex)\n",
    "#print (scoring_params)\n",
    "plain_text = text0\n",
    "\n",
    "#encryption_key = \n",
    "cipher_text = plain_text\n",
    "print(\"Text To Decode:\", cipher_text)\n",
    "print(\"\\n\")\n",
    "states,best_state = MCMC_decrypt(50000,cipher_text,scoring_params)\n",
    "print(\"\\n\")\n",
    "print(\"Decoded Text:\",apply_cipher_on_text(cipher_text,best_state))\n",
    "print(\"\\n\")\n",
    "print(\"MCMC KEY FOUND:\",best_state)\n",
    "print(\"ACTUAL DECRYPTION KEY:\",decryption_key)"
   ]
  },
  {
   "cell_type": "code",
   "execution_count": 65,
   "metadata": {},
   "outputs": [
    {
     "output_type": "stream",
     "name": "stdout",
     "text": [
      "['დ', 'ჳ', 'ჵ', 'Ⴢ', 'Ⴈ', 'შ', 'Ⴜ', 'ხ', 'ჲ', 'ს', 'Ⴙ', 'Ⴍ', 'ჾ', 'Ⴃ', 'ი', 'ჰ', 'Ⴒ', 'Ⴇ', 'Ⴉ', 'Ⴧ', 'Ⴀ', 'ქ', 'ჱ', 'ჶ', 'Ⴝ', 'ე', 'Ⴞ', 'ნ', 'a', 'b', 'c', 'd', 'e', 'f']\n"
     ]
    }
   ],
   "source": [
    "text1 = \"დჳჵჂႨშႼႨშჂხჂჲდႨსႹႭჾႣჵისႼჰႨჂჵჂႨႲႹႧჲჂႨსႹႭჾႣჵისႼჰႨჲდႩჳჲႨჇႨႠჲႹქႹႨჳႹႹჱჶდსჂႽႨႩႹჲႹႭႼჰႨჵდქႩႹႨႲႭႹႧჂჲႣჲიႨჳႩႹႭდდႨშჳდქႹႨშႼႨშჳდႨჳხდჵႣჵჂႨႲႭႣშჂჵისႹႨჂႨႲႹჵჇႧჂჲდႨჾႣႩჳჂჾႣჵისႼჰႨჱႣჵჵႨეႣႨႲႹჳჵდხსდდႨႧდჲშდႭჲႹდႨეႣხႣსჂდႨႩჇႭჳႣႨႾႹჲႽႨႩႹსდႧსႹႨႽႨსჂႧდქႹႨსდႨႹჱდჶႣნ\"\n",
    "def freq_text(text):\n",
    "    res = FreqDist(text)\n",
    "    return (res)\n",
    "f_test = freq_text(text1)\n",
    "f_test[\"a\"] = 0\n",
    "f_test[\"b\"] = 0\n",
    "f_test[\"c\"] = 0\n",
    "f_test[\"d\"] = 0\n",
    "f_test[\"e\"] = 0\n",
    "f_test[\"f\"] = 0"
   ]
  },
  {
   "cell_type": "code",
   "execution_count": 90,
   "metadata": {
    "tags": []
   },
   "outputs": [
    {
     "output_type": "stream",
     "name": "stdout",
     "text": [
      "Text To Decode: დჳჵჂႨშႼႨშჂხჂჲდႨსႹႭჾႣჵისႼჰႨჂჵჂႨႲႹႧჲჂႨსႹႭჾႣჵისႼჰႨჲდႩჳჲႨჇႨႠჲႹქႹႨჳႹႹჱჶდსჂႽႨႩႹჲႹႭႼჰႨჵდქႩႹႨႲႭႹႧჂჲႣჲიႨჳႩႹႭდდႨშჳდქႹႨშႼႨშჳდႨჳხდჵႣჵჂႨႲႭႣშჂჵისႹႨჂႨႲႹჵჇႧჂჲდႨჾႣႩჳჂჾႣჵისႼჰႨჱႣჵჵႨეႣႨႲႹჳჵდხსდდႨႧდჲშდႭჲႹდႨეႣხႣსჂდႨႩჇႭჳႣႨႾႹჲႽႨႩႹსდႧსႹႨႽႨსჂႧდქႹႨსდႨႹჱდჶႣნ\n",
      "\n",
      "\n",
      "\n",
      "\n",
      "Decoded Text: ЕСЛИ ВЫ ВИДИТЕ НОРЖАЛЬНЫЙ ИЛИ ПОЧТИ НОРЖАЛЬНЫЙ ТЕКСТ У ЭТОГО СООБЩЕНИЯ КОТОРЫЙ ЛЕГКО ПРОЧИТАТЬ СКОРЕЕ ВСЕГО ВЫ ВСЕ СДЕЛАЛИ ПРАВИЛЬНО И ПОЛУЧИТЕ ЖАКСИЖАЛЬНЫЙ БАЛЛ ЗА ПОСЛЕДНЕЕ ЧЕТВЕРТОЕ ЗАДАНИЕ КУРСА МОТЯ КОНЕЧНО Я НИЧЕГО НЕ ОБЕЩАЮ\n"
     ]
    }
   ],
   "source": [
    "scoring_params = create_scoring_params_dict(ru_tex)\n",
    "plain_text = text1\n",
    "cipher_text = plain_text\n",
    "print(\"Text To Decode:\", cipher_text)\n",
    "print(\"\\n\")\n",
    "states,best_state = MCMC_decrypt(50000,cipher_text,scoring_params)\n",
    "print(\"\\n\")\n",
    "print(\"Decoded Text:\",apply_cipher_on_text(cipher_text,best_state))"
   ]
  },
  {
   "source": [
    "## Бонус: а что если от биграмм перейти к триграммам (тройкам букв) или даже больше? Улучшатся ли результаты? Когда улучшатся, а когда нет? Чтобы ответить на этот вопрос эмпирически, уже может понадобиться погенерировать много тестовых перестановок и последить за метриками, глазами может быть и не видно.\n"
   ],
   "cell_type": "markdown",
   "metadata": {}
  },
  {
   "cell_type": "code",
   "execution_count": 81,
   "metadata": {},
   "outputs": [],
   "source": [
    "\n",
    "def score_params_on_cipher(text):\n",
    "    scoring_params = {}\n",
    "    alphabet_list = list(LETTERS.upper())\n",
    "    data = list(text.strip())\n",
    "    for i in range(len(data)-2):\n",
    "        alpha_i = data[i].upper()\n",
    "        alpha_j = data[i+1].upper()\n",
    "        alpha_k = data[i+k].upper()\n",
    "        if alpha_i not in alphabet_list: \n",
    "            alpha_i = \"\"\n",
    "        if alpha_j not in alphabet_list: \n",
    "            alpha_j = \"\"\n",
    "        if alpha_k not in alphabet_list: \n",
    "            alpha_k = \"\"\n",
    "        if alpha_j == \" \" and alpha_i == \" \":\n",
    "            key = \" \"\n",
    "        if alpha_j == \" \" and alpha_k == \" \":\n",
    "            key = \" \"\n",
    "        if alpha_i == \" \" and alpha_k == \" \":\n",
    "            key = \" \"\n",
    "        else: \n",
    "            key = alpha_i+alpha_j+alpha_k\n",
    "        if key in scoring_params:\n",
    "            scoring_params[key]+=1\n",
    "        else:\n",
    "            scoring_params[key]=1\n",
    "    return scoring_params\n",
    "\n",
    "def create_scoring_params_dict(data):\n",
    "    scoring_params = {}\n",
    "    alphabet_list = list(LETTERS.upper())\n",
    "    for i in range(len(data)-2):\n",
    "        alpha_i = data[i].upper()\n",
    "        alpha_j = data[i+1].upper()\n",
    "        alpha_k = data[i+2].upper()\n",
    "        if alpha_i not in alphabet_list: \n",
    "            alpha_i = \"\"\n",
    "        if alpha_j not in alphabet_list: \n",
    "            alpha_j = \"\"\n",
    "        if alpha_k not in alphabet_list: \n",
    "            alpha_k = \"\"\n",
    "        if alpha_j == \" \" and alpha_i == \" \":\n",
    "            key = \" \"\n",
    "        if alpha_j == \" \" and alpha_k == \" \":\n",
    "            key = \" \"\n",
    "        if alpha_i == \" \" and alpha_k == \" \":\n",
    "            key = \" \"\n",
    "        else: \n",
    "            key = alpha_i+alpha_j+alpha_k\n",
    "        if key in scoring_params:\n",
    "            scoring_params[key]+=1\n",
    "        else:\n",
    "            scoring_params[key]=1\n",
    "    return scoring_params\n"
   ]
  },
  {
   "cell_type": "code",
   "execution_count": 86,
   "metadata": {},
   "outputs": [
    {
     "output_type": "stream",
     "name": "stdout",
     "text": [
      "Text To Decode: დჳჵჂႨშႼႨშჂხჂჲდႨსႹႭჾႣჵისႼჰႨჂჵჂႨႲႹႧჲჂႨსႹႭჾႣჵისႼჰႨჲდႩჳჲႨჇႨႠჲႹქႹႨჳႹႹჱჶდსჂႽႨႩႹჲႹႭႼჰႨჵდქႩႹႨႲႭႹႧჂჲႣჲიႨჳႩႹႭდდႨშჳდქႹႨშႼႨშჳდႨჳხდჵႣჵჂႨႲႭႣშჂჵისႹႨჂႨႲႹჵჇႧჂჲდႨჾႣႩჳჂჾႣჵისႼჰႨჱႣჵჵႨეႣႨႲႹჳჵდხსდდႨႧდჲშდႭჲႹდႨეႣხႣსჂდႨႩჇႭჳႣႨႾႹჲႽႨႩႹსდႧსႹႨႽႨსჂႧდქႹႨსდႨႹჱდჶႣნ\n",
      "\n",
      "\n",
      "iter 0 : АБВТДЕЁДЕТЖТЗАДИЙКЛМВНИЁОДТВТДПЙРЗТДИЙКЛМВНИЁОДЗАСБЗДГДУЗЙФЙДБЙЙХЦАИТЧДСЙЗЙКЁОДВАФСЙДПКЙРТЗМЗНДБСЙК\n",
      "iter 500 : А ТИЕНЫЕНИБИВАЕМОЙДСТУМЫЦЕИТИЕГОРВИЕМОЙДСТУМЫЦЕВАЛ ВЕПЕЪВОКОЕ ООЖЯАМИЬЕЛОВОЙЫЦЕТАКЛОЕГЙОРИВСВУЕ ЛОЙ\n",
      "iter 1000 : СИТ ЕНЧЕН П ВСЕМОЗДАТУМЧЬЕ Т ЕГОРВ ЕМОЗДАТУМЧЬЕВСЛИВЕЫЕЯВОКОЕИООЩШСМ ЖЕЛОВОЗЧЬЕТСКЛОЕГЗОР ВАВУЕИЛОЗ\n",
      "iter 1500 : ИСТ ЕМЫЕМ П ВИЕРОДНАТУРЫШЕ Т ЕГОЙВ ЕРОДНАТУРЫШЕВИЛСВЕЯЕЬВОКОЕСООБЖИР ЧЕЛОВОДЫШЕТИКЛОЕГДОЙ ВАВУЕСЛОД\n",
      "iter 2000 : ИСТ ЕЙЫЕЙ З НИЕЛОДМАТУЛЫШЕ Т ЕГОВН ЕЛОДМАТУЛЫШЕНИРСНЕЯЕЬНОКОЕСООБЩИЛ ЧЕРОНОДЫШЕТИКРОЕГДОВ НАНУЕСРОД\n",
      "iter 2500 : ИСТ ЕЙЫЕЙ З НИЕЛОДМАТУЛЫШЕ Т ЕГОВН ЕЛОДМАТУЛЫШЕНИРСНЕЯЕЬНОКОЕСООБЖИЛ ЧЕРОНОДЫШЕТИКРОЕГДОВ НАНУЕСРОД\n",
      "iter 3000 : ИСТ ЕЙЫЕЙ П НИЕЛОДРАТУЛЫШЕ Т ЕГОВН ЕЛОДРАТУЛЫШЕНИМСНЕЯЕЖНОКОЕСООБЩИЛ ЧЕМОНОДЫШЕТИКМОЕГДОВ НАНУЕСМОД\n",
      "iter 3500 : ИСТЕ ВЫ ВЕПЕНИ ЛОЙРАТУЛЫЬ ЕТЕ КОДНЕ ЛОЙРАТУЛЫЬ НИМСН Я ЧНОГО СООБЩИЛЕЮ МОНОЙЫЬ ТИГМО КЙОДЕНАНУ СМОЙ\n",
      "iter 4000 : ЕСНИ ДЫ ДИПИТЕ ЛОРВАНУЛЫХ ИНИ КОЧТИ ЛОРВАНУЛЫХ ТЕМСТ Я ШТОГО СООЖЩЕЛИЙ МОТОРЫХ НЕГМО КРОЧИТАТУ СМОР\n",
      "iter 4500 : ЕСНИ ВЫ ВИЗИТЕ ЛОРДАНУЛЫЙ ИНИ ПОЧТИ ЛОРДАНУЛЫЙ ТЕМСТ Я ШТОГО СООБЩЕЛИХ МОТОРЫЙ НЕГМО ПРОЧИТАТУ СМОР\n",
      "iter 5000 : ЕСЛИ ВЫ ВИДИТЕ НОРМАЛУНЫЙ ИЛИ ПОЧТИ НОРМАЛУНЫЙ ТЕКСТ Ь ЭТОГО СООБЩЕНИХ КОТОРЫЙ ЛЕГКО ПРОЧИТАТУ СКОР\n",
      "iter 5500 : ЕСЛИ ВЫ ВИДИТЕ НОРМАЛЬНЫЙ ИЛИ ПОЧТИ НОРМАЛЬНЫЙ ТЕКСТ У ЭТОГО СООБЩЕНИЯ КОТОРЫЙ ЛЕГКО ПРОЧИТАТЬ СКОР\n",
      "iter 6000 : ЕСЛИ ВЫ ВИДИТЕ НОРМАЛЬНЫЙ ИЛИ ПОЧТИ НОРМАЛЬНЫЙ ТЕКСТ У ЭТОГО СООБЩЕНИЯ КОТОРЫЙ ЛЕГКО ПРОЧИТАТЬ СКОР\n",
      "iter 6500 : ЕСЛИ ВЫ ВИДИТЕ НОРМАЛЬНЫЙ ИЛИ ПОЧТИ НОРМАЛЬНЫЙ ТЕКСТ У ЭТОГО СООБЩЕНИЯ КОТОРЫЙ ЛЕГКО ПРОЧИТАТЬ СКОР\n",
      "iter 7000 : ЕСЛИ ВЫ ВИДИТЕ НОРМАЛЬНЫЙ ИЛИ ПОЧТИ НОРМАЛЬНЫЙ ТЕКСТ У ЭТОГО СООБЩЕНИЯ КОТОРЫЙ ЛЕГКО ПРОЧИТАТЬ СКОР\n",
      "iter 7500 : ЕСЛИ ВЫ ВИДИТЕ НОРМАЛЬНЫЙ ИЛИ ПОЧТИ НОРМАЛЬНЫЙ ТЕКСТ У ЭТОГО СООБЩЕНИЯ КОТОРЫЙ ЛЕГКО ПРОЧИТАТЬ СКОР\n",
      "iter 8000 : ЕСЛИ ВЫ ВИДИТЕ НОРМАЛЬНЫЙ ИЛИ ПОЧТИ НОРМАЛЬНЫЙ ТЕКСТ У ЭТОГО СООБЩЕНИЯ КОТОРЫЙ ЛЕГКО ПРОЧИТАТЬ СКОР\n",
      "iter 8500 : ЕСЛИ ВЫ ВИДИТЕ НОРМАЛЬНЫЙ ИЛИ ПОЧТИ НОРМАЛЬНЫЙ ТЕКСТ У ЭТОГО СООБЩЕНИЯ КОТОРЫЙ ЛЕГКО ПРОЧИТАТЬ СКОР\n",
      "iter 9000 : ЕСЛИ ВЫ ВИДИТЕ НОРМАЛЬНЫЙ ИЛИ ПОЧТИ НОРМАЛЬНЫЙ ТЕКСТ У ЭТОГО СООБЩЕНИЯ КОТОРЫЙ ЛЕГКО ПРОЧИТАТЬ СКОР\n",
      "iter 9500 : ЕСЛИ ВЫ ВИДИТЕ НОРМАЛЬНЫЙ ИЛИ ПОЧТИ НОРМАЛЬНЫЙ ТЕКСТ У ЭТОГО СООБЩЕНИЯ КОТОРЫЙ ЛЕГКО ПРОЧИТАТЬ СКОР\n",
      "iter 10000 : ЕСЛИ ВЫ ВИДИТЕ НОРМАЛЬНЫЙ ИЛИ ПОЧТИ НОРМАЛЬНЫЙ ТЕКСТ У ЭТОГО СООБЩЕНИЯ КОТОРЫЙ ЛЕГКО ПРОЧИТАТЬ СКОР\n",
      "iter 10500 : ЕСЛИ ВЫ ВИДИТЕ НОРМАЛЬНЫЙ ИЛИ ПОЧТИ НОРМАЛЬНЫЙ ТЕКСТ У ЭТОГО СООБЩЕНИЯ КОТОРЫЙ ЛЕГКО ПРОЧИТАТЬ СКОР\n",
      "iter 11000 : ЕСЛИ ВЫ ВИДИТЕ НОРМАЛЬНЫЙ ИЛИ ПОЧТИ НОРМАЛЬНЫЙ ТЕКСТ У ЭТОГО СООБЩЕНИЯ КОТОРЫЙ ЛЕГКО ПРОЧИТАТЬ СКОР\n",
      "iter 11500 : ЕСЛИ ВЫ ВИДИТЕ НОРМАЛЬНЫЙ ИЛИ ПОЧТИ НОРМАЛЬНЫЙ ТЕКСТ У ЭТОГО СООБЩЕНИЯ КОТОРЫЙ ЛЕГКО ПРОЧИТАТЬ СКОР\n",
      "iter 12000 : ЕСЛИ ВЫ ВИДИТЕ НОРМАЛЬНЫЙ ИЛИ ПОЧТИ НОРМАЛЬНЫЙ ТЕКСТ У ЭТОГО СООБЩЕНИЯ КОТОРЫЙ ЛЕГКО ПРОЧИТАТЬ СКОР\n",
      "iter 12500 : ЕСЛИ ВЫ ВИДИТЕ НОРМАЛЬНЫЙ ИЛИ ПОЧТИ НОРМАЛЬНЫЙ ТЕКСТ У ЭТОГО СООБЩЕНИЯ КОТОРЫЙ ЛЕГКО ПРОЧИТАТЬ СКОР\n",
      "iter 13000 : ЕСЛИ ВЫ ВИДИТЕ НОРМАЛЬНЫЙ ИЛИ ПОЧТИ НОРМАЛЬНЫЙ ТЕКСТ У ЭТОГО СООБЩЕНИЯ КОТОРЫЙ ЛЕГКО ПРОЧИТАТЬ СКОР\n",
      "iter 13500 : ЕСЛИ ВЫ ВИДИТЕ НОРМАЛЬНЫЙ ИЛИ ПОЧТИ НОРМАЛЬНЫЙ ТЕКСТ У ЭТОГО СООБЩЕНИЯ КОТОРЫЙ ЛЕГКО ПРОЧИТАТЬ СКОР\n",
      "iter 14000 : ЕСЛИ ВЫ ВИДИТЕ НОРМАЛЬНЫЙ ИЛИ ПОЧТИ НОРМАЛЬНЫЙ ТЕКСТ У ЭТОГО СООБЩЕНИЯ КОТОРЫЙ ЛЕГКО ПРОЧИТАТЬ СКОР\n",
      "iter 14500 : ЕСЛИ ВЫ ВИДИТЕ НОРМАЛЬНЫЙ ИЛИ ПОЧТИ НОРМАЛЬНЫЙ ТЕКСТ У ЭТОГО СООБЩЕНИЯ КОТОРЫЙ ЛЕГКО ПРОЧИТАТЬ СКОР\n",
      "iter 15000 : ЕСЛИ ВЫ ВИДИТЕ НОРМАЛЬНЫЙ ИЛИ ПОЧТИ НОРМАЛЬНЫЙ ТЕКСТ У ЭТОГО СООБЩЕНИЯ КОТОРЫЙ ЛЕГКО ПРОЧИТАТЬ СКОР\n",
      "iter 15500 : ЕСЛИ ВЫ ВИДИТЕ НОРМАЛЬНЫЙ ИЛИ ПОЧТИ НОРМАЛЬНЫЙ ТЕКСТ У ЭТОГО СООБЩЕНИЯ КОТОРЫЙ ЛЕГКО ПРОЧИТАТЬ СКОР\n",
      "iter 16000 : ЕСЛИ ВЫ ВИДИТЕ НОРМАЛЬНЫЙ ИЛИ ПОЧТИ НОРМАЛЬНЫЙ ТЕКСТ У ЭТОГО СООБЩЕНИЯ КОТОРЫЙ ЛЕГКО ПРОЧИТАТЬ СКОР\n",
      "iter 16500 : ЕСЛИ ВЫ ВИДИТЕ НОРМАЛЬНЫЙ ИЛИ ПОЧТИ НОРМАЛЬНЫЙ ТЕКСТ У ЭТОГО СООБЩЕНИЯ КОТОРЫЙ ЛЕГКО ПРОЧИТАТЬ СКОР\n",
      "iter 17000 : ЕСЛИ ВЫ ВИДИТЕ НОРМАЛЬНЫЙ ИЛИ ПОЧТИ НОРМАЛЬНЫЙ ТЕКСТ У ЭТОГО СООБЩЕНИЯ КОТОРЫЙ ЛЕГКО ПРОЧИТАТЬ СКОР\n",
      "iter 17500 : ЕСЛИ ВЫ ВИДИТЕ НОРМАЛЬНЫЙ ИЛИ ПОЧТИ НОРМАЛЬНЫЙ ТЕКСТ У ЭТОГО СООБЩЕНИЯ КОТОРЫЙ ЛЕГКО ПРОЧИТАТЬ СКОР\n",
      "iter 18000 : ЕСЛИ ВЫ ВИДИТЕ НОРМАЛЬНЫЙ ИЛИ ПОЧТИ НОРМАЛЬНЫЙ ТЕКСТ У ЭТОГО СООБЩЕНИЯ КОТОРЫЙ ЛЕГКО ПРОЧИТАТЬ СКОР\n",
      "iter 18500 : ЕСЛИ ВЫ ВИДИТЕ НОРМАЛЬНЫЙ ИЛИ ПОЧТИ НОРМАЛЬНЫЙ ТЕКСТ У ЭТОГО СООБЩЕНИЯ КОТОРЫЙ ЛЕГКО ПРОЧИТАТЬ СКОР\n",
      "iter 19000 : ЕСЛИ ВЫ ВИДИТЕ НОРЖАЛЬНЫЙ ИЛИ ПОЧТИ НОРЖАЛЬНЫЙ ТЕКСТ У ЭТОГО СООБЩЕНИЯ КОТОРЫЙ ЛЕГКО ПРОЧИТАТЬ СКОР\n",
      "iter 19500 : ЕСЛИ ВЫ ВИДИТЕ НОРМАЛЬНЫЙ ИЛИ ПОЧТИ НОРМАЛЬНЫЙ ТЕКСТ У ЭТОГО СООБЩЕНИЯ КОТОРЫЙ ЛЕГКО ПРОЧИТАТЬ СКОР\n",
      "iter 20000 : ЕСЛИ ВЫ ВИДИТЕ НОРМАЛЬНЫЙ ИЛИ ПОЧТИ НОРМАЛЬНЫЙ ТЕКСТ У ЭТОГО СООБЩЕНИЯ КОТОРЫЙ ЛЕГКО ПРОЧИТАТЬ СКОР\n",
      "iter 20500 : ЕСЛИ ВЫ ВИДИТЕ НОРМАЛЬНЫЙ ИЛИ ПОЧТИ НОРМАЛЬНЫЙ ТЕКСТ У ЭТОГО СООБЩЕНИЯ КОТОРЫЙ ЛЕГКО ПРОЧИТАТЬ СКОР\n",
      "iter 21000 : ЕСЛИ ВЫ ВИДИТЕ НОРМАЛЬНЫЙ ИЛИ ПОЧТИ НОРМАЛЬНЫЙ ТЕКСТ У ЭТОГО СООБЩЕНИЯ КОТОРЫЙ ЛЕГКО ПРОЧИТАТЬ СКОР\n",
      "iter 21500 : ЕСЛИ ВЫ ВИДИТЕ НОРМАЛЬНЫЙ ИЛИ ПОЧТИ НОРМАЛЬНЫЙ ТЕКСТ У ЭТОГО СООБЩЕНИЯ КОТОРЫЙ ЛЕГКО ПРОЧИТАТЬ СКОР\n",
      "iter 22000 : ЕСЛИ ВЫ ВИДИТЕ НОРЖАЛЬНЫЙ ИЛИ ПОЧТИ НОРЖАЛЬНЫЙ ТЕКСТ У ЭТОГО СООБЩЕНИЯ КОТОРЫЙ ЛЕГКО ПРОЧИТАТЬ СКОР\n",
      "iter 22500 : ЕСЛИ ВЫ ВИДИТЕ НОРЖАЛЬНЫЙ ИЛИ ПОЧТИ НОРЖАЛЬНЫЙ ТЕКСТ У ЭТОГО СООБЩЕНИЯ КОТОРЫЙ ЛЕГКО ПРОЧИТАТЬ СКОР\n",
      "iter 23000 : ЕСЛИ ВЫ ВИДИТЕ НОРЖАЛЬНЫЙ ИЛИ ПОЧТИ НОРЖАЛЬНЫЙ ТЕКСТ У ЭТОГО СООБЩЕНИЯ КОТОРЫЙ ЛЕГКО ПРОЧИТАТЬ СКОР\n",
      "iter 23500 : ЕСЛИ ВЫ ВИДИТЕ НОРЖАЛЬНЫЙ ИЛИ ПОЧТИ НОРЖАЛЬНЫЙ ТЕКСТ У ЭТОГО СООБЩЕНИЯ КОТОРЫЙ ЛЕГКО ПРОЧИТАТЬ СКОР\n",
      "iter 24000 : ЕСЛИ ВЫ ВИДИТЕ НОРЖАЛЬНЫЙ ИЛИ ПОЧТИ НОРЖАЛЬНЫЙ ТЕКСТ У ЭТОГО СООБЩЕНИЯ КОТОРЫЙ ЛЕГКО ПРОЧИТАТЬ СКОР\n",
      "iter 24500 : ЕСЛИ ВЫ ВИДИТЕ НОРЖАЛЬНЫЙ ИЛИ ПОЧТИ НОРЖАЛЬНЫЙ ТЕКСТ У ЭТОГО СООБЩЕНИЯ КОТОРЫЙ ЛЕГКО ПРОЧИТАТЬ СКОР\n",
      "iter 25000 : ЕСЛИ ВЫ ВИДИТЕ НОРЖАЛЬНЫЙ ИЛИ ПОЧТИ НОРЖАЛЬНЫЙ ТЕКСТ У ЭТОГО СООБЩЕНИЯ КОТОРЫЙ ЛЕГКО ПРОЧИТАТЬ СКОР\n",
      "iter 25500 : ЕСЛИ ВЫ ВИДИТЕ НОРЖАЛЬНЫЙ ИЛИ ПОЧТИ НОРЖАЛЬНЫЙ ТЕКСТ У ЭТОГО СООБЩЕНИЯ КОТОРЫЙ ЛЕГКО ПРОЧИТАТЬ СКОР\n",
      "iter 26000 : ЕСЛИ ВЫ ВИДИТЕ НОРЖАЛЬНЫЙ ИЛИ ПОЧТИ НОРЖАЛЬНЫЙ ТЕКСТ У ЭТОГО СООБЩЕНИЯ КОТОРЫЙ ЛЕГКО ПРОЧИТАТЬ СКОР\n",
      "iter 26500 : ЕСЛИ ВЫ ВИДИТЕ НОРЖАЛЬНЫЙ ИЛИ ПОЧТИ НОРЖАЛЬНЫЙ ТЕКСТ У ЭТОГО СООБЩЕНИЯ КОТОРЫЙ ЛЕГКО ПРОЧИТАТЬ СКОР\n",
      "iter 27000 : ЕСЛИ ВЫ ВИДИТЕ НОРЖАЛЬНЫЙ ИЛИ ПОЧТИ НОРЖАЛЬНЫЙ ТЕКСТ У ЭТОГО СООБЩЕНИЯ КОТОРЫЙ ЛЕГКО ПРОЧИТАТЬ СКОР\n",
      "iter 27500 : ЕСЛИ ВЫ ВИДИТЕ НОРЖАЛЬНЫЙ ИЛИ ПОЧТИ НОРЖАЛЬНЫЙ ТЕКСТ У ЭТОГО СООБЩЕНИЯ КОТОРЫЙ ЛЕГКО ПРОЧИТАТЬ СКОР\n",
      "iter 28000 : ЕСЛИ ВЫ ВИДИТЕ НОРЖАЛЬНЫЙ ИЛИ ПОЧТИ НОРЖАЛЬНЫЙ ТЕКСТ У ЭТОГО СООБЩЕНИЯ КОТОРЫЙ ЛЕГКО ПРОЧИТАТЬ СКОР\n",
      "iter 28500 : ЕСЛИ ВЫ ВИДИТЕ НОРЖАЛЬНЫЙ ИЛИ ПОЧТИ НОРЖАЛЬНЫЙ ТЕКСТ У ЭТОГО СООБЩЕНИЯ КОТОРЫЙ ЛЕГКО ПРОЧИТАТЬ СКОР\n",
      "iter 29000 : ЕСЛИ ВЫ ВИДИТЕ НОРЖАЛЬНЫЙ ИЛИ ПОЧТИ НОРЖАЛЬНЫЙ ТЕКСТ У ЭТОГО СООБЩЕНИЯ КОТОРЫЙ ЛЕГКО ПРОЧИТАТЬ СКОР\n",
      "iter 29500 : ЕСЛИ ВЫ ВИДИТЕ НОРЖАЛЬНЫЙ ИЛИ ПОЧТИ НОРЖАЛЬНЫЙ ТЕКСТ У ЭТОГО СООБЩЕНИЯ КОТОРЫЙ ЛЕГКО ПРОЧИТАТЬ СКОР\n",
      "iter 30000 : ЕСЛИ ВЫ ВИДИТЕ НОРЖАЛЬНЫЙ ИЛИ ПОЧТИ НОРЖАЛЬНЫЙ ТЕКСТ У ЭТОГО СООБЩЕНИЯ КОТОРЫЙ ЛЕГКО ПРОЧИТАТЬ СКОР\n",
      "iter 30500 : ЕСЛИ ВЫ ВИДИТЕ НОРЖАЛЬНЫЙ ИЛИ ПОЧТИ НОРЖАЛЬНЫЙ ТЕКСТ У ЭТОГО СООБЩЕНИЯ КОТОРЫЙ ЛЕГКО ПРОЧИТАТЬ СКОР\n",
      "iter 31000 : ЕСЛИ ВЫ ВИДИТЕ НОРЖАЛЬНЫЙ ИЛИ ПОЧТИ НОРЖАЛЬНЫЙ ТЕКСТ У ЭТОГО СООБЩЕНИЯ КОТОРЫЙ ЛЕГКО ПРОЧИТАТЬ СКОР\n",
      "iter 31500 : ЕСЛИ ВЫ ВИДИТЕ НОРЖАЛЬНЫЙ ИЛИ ПОЧТИ НОРЖАЛЬНЫЙ ТЕКСТ У ЭТОГО СООБЩЕНИЯ КОТОРЫЙ ЛЕГКО ПРОЧИТАТЬ СКОР\n",
      "iter 32000 : ЕСЛИ ВЫ ВИДИТЕ НОРЖАЛЬНЫЙ ИЛИ ПОЧТИ НОРЖАЛЬНЫЙ ТЕКСТ У ЭТОГО СООБЩЕНИЯ КОТОРЫЙ ЛЕГКО ПРОЧИТАТЬ СКОР\n",
      "iter 32500 : ЕСЛИ ВЫ ВИДИТЕ НОРЖАЛЬНЫЙ ИЛИ ПОЧТИ НОРЖАЛЬНЫЙ ТЕКСТ У ЭТОГО СООБЩЕНИЯ КОТОРЫЙ ЛЕГКО ПРОЧИТАТЬ СКОР\n",
      "iter 33000 : ЕСЛИ ВЫ ВИДИТЕ НОРЖАЛЬНЫЙ ИЛИ ПОЧТИ НОРЖАЛЬНЫЙ ТЕКСТ У ЭТОГО СООБЩЕНИЯ КОТОРЫЙ ЛЕГКО ПРОЧИТАТЬ СКОР\n",
      "iter 33500 : ЕСЛИ ВЫ ВИДИТЕ НОРЖАЛЬНЫЙ ИЛИ ПОЧТИ НОРЖАЛЬНЫЙ ТЕКСТ У ЭТОГО СООБЩЕНИЯ КОТОРЫЙ ЛЕГКО ПРОЧИТАТЬ СКОР\n",
      "iter 34000 : ЕСЛИ ВЫ ВИДИТЕ НОРМАЛЬНЫЙ ИЛИ ПОЧТИ НОРМАЛЬНЫЙ ТЕКСТ У ЭТОГО СООБЩЕНИЯ КОТОРЫЙ ЛЕГКО ПРОЧИТАТЬ СКОР\n",
      "iter 34500 : ЕСЛИ ВЫ ВИДИТЕ НОРМАЛЬНЫЙ ИЛИ ПОЧТИ НОРМАЛЬНЫЙ ТЕКСТ У ЭТОГО СООБЩЕНИЯ КОТОРЫЙ ЛЕГКО ПРОЧИТАТЬ СКОР\n",
      "iter 35000 : ЕСЛИ ВЫ ВИДИТЕ НОРМАЛЬНЫЙ ИЛИ ПОЧТИ НОРМАЛЬНЫЙ ТЕКСТ У ЭТОГО СООБЩЕНИЯ КОТОРЫЙ ЛЕГКО ПРОЧИТАТЬ СКОР\n",
      "iter 35500 : ЕСЛИ ВЫ ВИДИТЕ НОРМАЛЬНЫЙ ИЛИ ПОЧТИ НОРМАЛЬНЫЙ ТЕКСТ У ЭТОГО СООБЩЕНИЯ КОТОРЫЙ ЛЕГКО ПРОЧИТАТЬ СКОР\n",
      "iter 36000 : ЕСЛИ ВЫ ВИДИТЕ НОРМАЛЬНЫЙ ИЛИ ПОЧТИ НОРМАЛЬНЫЙ ТЕКСТ У ЭТОГО СООБЩЕНИЯ КОТОРЫЙ ЛЕГКО ПРОЧИТАТЬ СКОР\n",
      "iter 36500 : ЕСЛИ ВЫ ВИДИТЕ НОРМАЛЬНЫЙ ИЛИ ПОЧТИ НОРМАЛЬНЫЙ ТЕКСТ У ЭТОГО СООБЩЕНИЯ КОТОРЫЙ ЛЕГКО ПРОЧИТАТЬ СКОР\n",
      "iter 37000 : ЕСЛИ ВЫ ВИДИТЕ НОРМАЛЬНЫЙ ИЛИ ПОЧТИ НОРМАЛЬНЫЙ ТЕКСТ У ЭТОГО СООБЩЕНИЯ КОТОРЫЙ ЛЕГКО ПРОЧИТАТЬ СКОР\n",
      "iter 37500 : ЕСЛИ ВЫ ВИДИТЕ НОРМАЛЬНЫЙ ИЛИ ПОЧТИ НОРМАЛЬНЫЙ ТЕКСТ У ЭТОГО СООБЩЕНИЯ КОТОРЫЙ ЛЕГКО ПРОЧИТАТЬ СКОР\n",
      "iter 38000 : ЕСЛИ ВЫ ВИДИТЕ НОРМАЛЬНЫЙ ИЛИ ПОЧТИ НОРМАЛЬНЫЙ ТЕКСТ У ЭТОГО СООБЖЕНИЯ КОТОРЫЙ ЛЕГКО ПРОЧИТАТЬ СКОР\n",
      "iter 38500 : ЕСЛИ ВЫ ВИДИТЕ НОРМАЛЬНЫЙ ИЛИ ПОЧТИ НОРМАЛЬНЫЙ ТЕКСТ У ЭТОГО СООБЩЕНИЯ КОТОРЫЙ ЛЕГКО ПРОЧИТАТЬ СКОР\n",
      "iter 39000 : ЕСЛИ ВЫ ВИДИТЕ НОРМАЛЬНЫЙ ИЛИ ПОЧТИ НОРМАЛЬНЫЙ ТЕКСТ У ЭТОГО СООБЩЕНИЯ КОТОРЫЙ ЛЕГКО ПРОЧИТАТЬ СКОР\n",
      "iter 39500 : ЕСЛИ ВЫ ВИДИТЕ НОРМАЛЬНЫЙ ИЛИ ПОЧТИ НОРМАЛЬНЫЙ ТЕКСТ У ЭТОГО СООБЩЕНИЯ КОТОРЫЙ ЛЕГКО ПРОЧИТАТЬ СКОР\n",
      "iter 40000 : ЕСЛИ ВЫ ВИДИТЕ НОРМАЛЬНЫЙ ИЛИ ПОЧТИ НОРМАЛЬНЫЙ ТЕКСТ У ЭТОГО СООБЩЕНИЯ КОТОРЫЙ ЛЕГКО ПРОЧИТАТЬ СКОР\n",
      "iter 40500 : ЕСЛИ ВЫ ВИДИТЕ НОРМАЛЬНЫЙ ИЛИ ПОЧТИ НОРМАЛЬНЫЙ ТЕКСТ У ЭТОГО СООБЩЕНИЯ КОТОРЫЙ ЛЕГКО ПРОЧИТАТЬ СКОР\n",
      "iter 41000 : ЕСЛИ ВЫ ВИДИТЕ НОРМАЛЬНЫЙ ИЛИ ПОЧТИ НОРМАЛЬНЫЙ ТЕКСТ У ЭТОГО СООБЩЕНИЯ КОТОРЫЙ ЛЕГКО ПРОЧИТАТЬ СКОР\n",
      "iter 41500 : ЕСЛИ ВЫ ВИДИТЕ НОРМАЛЬНЫЙ ИЛИ ПОЧТИ НОРМАЛЬНЫЙ ТЕКСТ У ЭТОГО СООБЖЕНИЯ КОТОРЫЙ ЛЕГКО ПРОЧИТАТЬ СКОР\n",
      "iter 42000 : ЕСЛИ ВЫ ВИДИТЕ НОРМАЛЬНЫЙ ИЛИ ПОЧТИ НОРМАЛЬНЫЙ ТЕКСТ У ЭТОГО СООБЩЕНИЯ КОТОРЫЙ ЛЕГКО ПРОЧИТАТЬ СКОР\n",
      "iter 42500 : ЕСЛИ ВЫ ВИДИТЕ НОРМАЛЬНЫЙ ИЛИ ПОЧТИ НОРМАЛЬНЫЙ ТЕКСТ У ЭТОГО СООБЩЕНИЯ КОТОРЫЙ ЛЕГКО ПРОЧИТАТЬ СКОР\n",
      "iter 43000 : ЕСЛИ ВЫ ВИДИТЕ НОРМАЛЬНЫЙ ИЛИ ПОЧТИ НОРМАЛЬНЫЙ ТЕКСТ У ЭТОГО СООБЩЕНИЯ КОТОРЫЙ ЛЕГКО ПРОЧИТАТЬ СКОР\n",
      "iter 43500 : ЕСЛИ ВЫ ВИДИТЕ НОРМАЛЬНЫЙ ИЛИ ПОЧТИ НОРМАЛЬНЫЙ ТЕКСТ У ЭТОГО СООБЩЕНИЯ КОТОРЫЙ ЛЕГКО ПРОЧИТАТЬ СКОР\n",
      "iter 44000 : ЕСЛИ ВЫ ВИДИТЕ НОРМАЛЬНЫЙ ИЛИ ПОЧТИ НОРМАЛЬНЫЙ ТЕКСТ У ЭТОГО СООБЩЕНИЯ КОТОРЫЙ ЛЕГКО ПРОЧИТАТЬ СКОР\n",
      "iter 44500 : ЕСЛИ ВЫ ВИДИТЕ НОРМАЛЬНЫЙ ИЛИ ПОЧТИ НОРМАЛЬНЫЙ ТЕКСТ У ЭТОГО СООБЩЕНИЯ КОТОРЫЙ ЛЕГКО ПРОЧИТАТЬ СКОР\n",
      "iter 45000 : ЕСЛИ ВЫ ВИДИТЕ НОРМАЛЬНЫЙ ИЛИ ПОЧТИ НОРМАЛЬНЫЙ ТЕКСТ У ЭТОГО СООБЩЕНИЯ КОТОРЫЙ ЛЕГКО ПРОЧИТАТЬ СКОР\n",
      "iter 45500 : ЕСЛИ ВЫ ВИДИТЕ НОРМАЛЬНЫЙ ИЛИ ПОЧТИ НОРМАЛЬНЫЙ ТЕКСТ У ЭТОГО СООБЩЕНИЯ КОТОРЫЙ ЛЕГКО ПРОЧИТАТЬ СКОР\n",
      "iter 46000 : ЕСЛИ ВЫ ВИДИТЕ НОРМАЛЬНЫЙ ИЛИ ПОЧТИ НОРМАЛЬНЫЙ ТЕКСТ У ЭТОГО СООБЩЕНИЯ КОТОРЫЙ ЛЕГКО ПРОЧИТАТЬ СКОР\n",
      "iter 46500 : ЕСЛИ ВЫ ВИДИТЕ НОРМАЛЬНЫЙ ИЛИ ПОЧТИ НОРМАЛЬНЫЙ ТЕКСТ У ЭТОГО СООБЩЕНИЯ КОТОРЫЙ ЛЕГКО ПРОЧИТАТЬ СКОР\n",
      "iter 47000 : ЕСЛИ ВЫ ВИДИТЕ НОРМАЛЬНЫЙ ИЛИ ПОЧТИ НОРМАЛЬНЫЙ ТЕКСТ У ЭТОГО СООБЩЕНИЯ КОТОРЫЙ ЛЕГКО ПРОЧИТАТЬ СКОР\n",
      "iter 47500 : ЕСЛИ ВЫ ВИДИТЕ НОРМАЛЬНЫЙ ИЛИ ПОЧТИ НОРМАЛЬНЫЙ ТЕКСТ У ЭТОГО СООБЩЕНИЯ КОТОРЫЙ ЛЕГКО ПРОЧИТАТЬ СКОР\n",
      "iter 48000 : ЕСЛИ ВЫ ВИДИТЕ НОРМАЛЬНЫЙ ИЛИ ПОЧТИ НОРМАЛЬНЫЙ ТЕКСТ У ЭТОГО СООБЩЕНИЯ КОТОРЫЙ ЛЕГКО ПРОЧИТАТЬ СКОР\n",
      "iter 48500 : ЕСЛИ ВЫ ВИДИТЕ НОРМАЛЬНЫЙ ИЛИ ПОЧТИ НОРМАЛЬНЫЙ ТЕКСТ У ЭТОГО СООБЩЕНИЯ КОТОРЫЙ ЛЕГКО ПРОЧИТАТЬ СКОР\n",
      "iter 49000 : ЕСЛИ ВЫ ВИДИТЕ НОРЖАЛЬНЫМ ИЛИ ПОЧТИ НОРЖАЛЬНЫМ ТЕКСТ У ЭТОГО СООБЩЕНИЯ КОТОРЫМ ЛЕГКО ПРОЧИТАТЬ СКОР\n",
      "iter 49500 : ЕСЛИ ВЫ ВИДИТЕ НОРЖАЛЬНЫЙ ИЛИ ПОЧТИ НОРЖАЛЬНЫЙ ТЕКСТ У ЭТОГО СООБЩЕНИЯ КОТОРЫЙ ЛЕГКО ПРОЧИТАТЬ СКОР\n",
      "\n",
      "\n",
      "Decoded Text: ЕСЛИ ВЫ ВИДИТЕ НОРЖАЛЬНЫЙ ИЛИ ПОЧТИ НОРЖАЛЬНЫЙ ТЕКСТ У ЭТОГО СООБЩЕНИЯ КОТОРЫЙ ЛЕГКО ПРОЧИТАТЬ СКОРЕЕ ВСЕГО ВЫ ВСЕ СДЕЛАЛИ ПРАВИЛЬНО И ПОЛУЧИТЕ ЖАКСИЖАЛЬНЫЙ БАЛЛ ЗА ПОСЛЕДНЕЕ ЧЕТВЕРТОЕ ЗАДАНИЕ КУРСА МОТЯ КОНЕЧНО Я НИЧЕГО НЕ ОБЕЩАЮ\n",
      "\n",
      "\n",
      "MCMC KEY FOUND: ЕСЛИ ВЫДТНОРЖАЬЙПЧКУЭГБЩЯЗМЮШЦЁХЪФ\n",
      "ACTUAL DECRYPTION KEY: ЭЮЯ ГДЕЁЖЗИЙКЛМНОПРСТУФХЦЧШЩЪЫЬ\n"
     ]
    }
   ],
   "source": [
    "scoring_params = create_scoring_params_dict(ru_tex)\n",
    "plain_text = text1\n",
    "cipher_text = plain_text\n",
    "print(\"Text To Decode:\", cipher_text)\n",
    "print(\"\\n\")\n",
    "states,best_state = MCMC_decrypt(50000,cipher_text,scoring_params)\n",
    "print(\"\\n\")\n",
    "print(\"Decoded Text:\",apply_cipher_on_text(cipher_text,best_state))\n"
   ]
  },
  {
   "cell_type": "code",
   "execution_count": null,
   "metadata": {},
   "outputs": [],
   "source": []
  }
 ]
}