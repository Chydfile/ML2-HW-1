{
 "cells": [
  {
   "cell_type": "markdown",
   "metadata": {},
   "source": [
    "Импортируем библиотеки, считываем данные"
   ]
  },
  {
   "cell_type": "code",
   "execution_count": 1,
   "metadata": {},
   "outputs": [],
   "source": [
    "import plotly\n",
    "import math\n",
    "import plotly.graph_objs as go\n",
    "import plotly.express as px\n",
    "import matplotlib.pyplot as plt\n",
    "from plotly.subplots import make_subplots\n",
    "from collections import Counter, defaultdict\n",
    "import pandas as pd\n",
    "import numpy as np\n",
    "from timeit import default_timer as timer\n",
    "from sklearn.linear_model import LinearRegression\n",
    "from sklearn.linear_model import Ridge\n",
    "from pandas.io.json import json_normalize\n",
    "from scipy import stats\n",
    "from sklearn.preprocessing import StandardScaler\n",
    "from sklearn.model_selection import train_test_split\n",
    "import warnings\n",
    "from sklearn.linear_model import LogisticRegression\n",
    "warnings.filterwarnings('ignore')"
   ]
  },
  {
   "cell_type": "code",
   "execution_count": 2,
   "metadata": {},
   "outputs": [],
   "source": [
    "import pickle\n",
    "with open('results.pkl', 'rb') as f:\n",
    "    data = pickle.load(f)"
   ]
  },
  {
   "cell_type": "code",
   "execution_count": 3,
   "metadata": {},
   "outputs": [],
   "source": [
    "tours = pd.read_pickle('tournaments.pkl')"
   ]
  },
  {
   "cell_type": "markdown",
   "metadata": {},
   "source": [
    "Выбираем номера тестовых турниров и трейновых турниров в соответствии с годом"
   ]
  },
  {
   "cell_type": "code",
   "execution_count": 4,
   "metadata": {},
   "outputs": [],
   "source": [
    "train_ids = []\n",
    "for key, value in tours.items():\n",
    "    if 'dateStart' in value and value['dateStart'][0:4] == '2019':\n",
    "        train_ids.append(key)"
   ]
  },
  {
   "cell_type": "code",
   "execution_count": 5,
   "metadata": {},
   "outputs": [],
   "source": [
    "test_ids = []\n",
    "for key, value in tours.items():\n",
    "    if 'dateStart' in value and value['dateStart'][0:4] == '2020':\n",
    "        test_ids.append(key)"
   ]
  },
  {
   "cell_type": "markdown",
   "metadata": {},
   "source": [
    "Составляем словарь для тестовых и трейновых турниров, куда входят все команды, если у них сущестует информация о\n",
    "правильных/неправильных ответах:"
   ]
  },
  {
   "cell_type": "code",
   "execution_count": 6,
   "metadata": {},
   "outputs": [],
   "source": [
    "train = defaultdict(list)\n",
    "test = defaultdict(list)\n",
    "total = defaultdict(list)\n",
    "for key, i in data.items(): #номер игры\n",
    "    if key in train_ids:\n",
    "        for j in i: # команды\n",
    "            if 'mask' in j and j['mask'] is not None :\n",
    "                train[key].append(j)\n",
    "                total[key].append(j)\n",
    "    if key in test_ids:\n",
    "        for j in i: # команды\n",
    "            if 'mask' in j and j['mask'] is not None :\n",
    "                test[key].append(j)\n",
    "                total[key].append(j)"
   ]
  },
  {
   "cell_type": "markdown",
   "metadata": {},
   "source": [
    "Посчитаем сколько команд принимает участие в каждом турнире (при необходимости, выводится список)"
   ]
  },
  {
   "cell_type": "code",
   "execution_count": null,
   "metadata": {},
   "outputs": [],
   "source": [
    "cour = []\n",
    "player_ids = defaultdict(list)\n",
    "for key, value in train.items():\n",
    "    teams = {}\n",
    "    current = 0\n",
    "    for team_members in value:\n",
    "        for i in team_members:\n",
    "            if i == 'teamMembers':\n",
    "                if key in teams.keys():\n",
    "                    teams[key] += 1\n",
    "                    current  += 1\n",
    "                else:\n",
    "                    teams[key] = 1\n",
    "                    current  += 1\n",
    "    cour.append(current)\n",
    "        \n",
    "    "
   ]
  },
  {
   "cell_type": "markdown",
   "metadata": {},
   "source": [
    "player_ids = []\n",
    "for key, value in train.items():\n",
    "    for team_members in value:\n",
    "        for i in team_members:\n",
    "    for i in value['teamMembers']:\n",
    "        player_ids.append(i['player']['id'])\n",
    "player_ids_games_amount = Counter(player_ids)"
   ]
  },
  {
   "cell_type": "markdown",
   "metadata": {},
   "source": [
    "def split(word):\n",
    "    return [char for char in word]\n",
    "player_ids = []\n",
    "player_game = defaultdict(list)\n",
    "for key, value in train.items():\n",
    "    for teams in value:\n",
    "        for team in teams:\n",
    "            if team == 'mask':\n",
    "                result = teams[team]\n",
    "            if team == 'teamMembers':\n",
    "                for players in teams[team]:                \n",
    "                    player_ids.append(players['player'])\n",
    "                    player_game[key].append([players['player']['id'], result, len(result)])\n",
    "\n"
   ]
  },
  {
   "cell_type": "markdown",
   "metadata": {},
   "source": [
    "Составим для трех выборок (трейн, тест, общий (тест + трейн)) список и два словаря. В списке ведется информация\n",
    "об игроках (позже конвертируется в пандас), в словарях ведется информация по 1) каждому игроку, в каких турнирах принимал\n",
    "участие, какие ответы дала его команда 2) каждой игре, играющих в ней игроках и ответы этих игроков"
   ]
  },
  {
   "cell_type": "code",
   "execution_count": 8,
   "metadata": {},
   "outputs": [],
   "source": [
    "player_ids = []\n",
    "game_player = defaultdict(list)\n",
    "player_game = defaultdict(list)\n",
    "for key, value in train.items():\n",
    "    for teams in value:\n",
    "        for team in teams:\n",
    "            if team == 'mask':\n",
    "                result = teams[team]\n",
    "            if team == 'position':\n",
    "                position = teams[team]\n",
    "            if team == 'teamMembers':\n",
    "                for players in teams[team]:\n",
    "                    player_ids.append([players['player']['id'], players['player']['surname'], players['player']['name'], players['rating']])\n",
    "                    game_player[key].append([players['player']['id'], result,len(result), position, players['rating']])\n",
    "                    player_game[players['player']['id']].append([key, result, len(result), position, players['rating']])\n"
   ]
  },
  {
   "cell_type": "code",
   "execution_count": 9,
   "metadata": {},
   "outputs": [],
   "source": [
    "player_ids_test = []\n",
    "game_player_test = defaultdict(list)\n",
    "player_game_test = defaultdict(list)\n",
    "for key, value in test.items():\n",
    "    for teams in value:\n",
    "        for team in teams:\n",
    "            if team == 'mask':\n",
    "                result = teams[team]\n",
    "            if team == 'position':\n",
    "                position = teams[team]\n",
    "            if team == 'teamMembers':\n",
    "                for players in teams[team]:\n",
    "                    player_ids_test.append([players['player']['id'], players['player']['surname'], players['player']['name'], players['rating']])\n",
    "                    game_player_test[key].append([players['player']['id'], result,len(result), position, players['rating']])\n",
    "                    player_game_test[players['player']['id']].append([key, result, len(result), position, players['rating']])\n"
   ]
  },
  {
   "cell_type": "code",
   "execution_count": 10,
   "metadata": {},
   "outputs": [],
   "source": [
    "player_ids_total = []\n",
    "game_player_total = defaultdict(list)\n",
    "player_game_total = defaultdict(list)\n",
    "for key, value in total.items():\n",
    "    for teams in value:\n",
    "        for team in teams:\n",
    "            if team == 'mask':\n",
    "                result = teams[team]\n",
    "            if team == 'position':\n",
    "                position = teams[team]\n",
    "            if team == 'teamMembers':\n",
    "                for players in teams[team]:\n",
    "                    player_ids_total.append([players['player']['id'], players['player']['surname'], players['player']['name'], players['rating']])\n",
    "                    game_player_total[key].append([players['player']['id'], result,len(result), position, players['rating']])\n",
    "                    player_game_total[players['player']['id']].append([key, result, len(result), position, players['rating']])\n",
    "\n",
    "\n"
   ]
  },
  {
   "cell_type": "markdown",
   "metadata": {},
   "source": [
    "Перебросим данные по участникам в Пандас, потом можно будет глянуть, какие игроки попали в ТОП-10."
   ]
  },
  {
   "cell_type": "code",
   "execution_count": 11,
   "metadata": {},
   "outputs": [],
   "source": [
    "details = pd.DataFrame(player_ids)\n",
    "details_test = pd.DataFrame(player_ids_test)\n",
    "details_total = pd.DataFrame(player_ids_total)"
   ]
  },
  {
   "cell_type": "code",
   "execution_count": 12,
   "metadata": {},
   "outputs": [],
   "source": [
    "columns = ['id', 'surname', 'name', 'rating']\n",
    "details.columns = columns\n",
    "details_test.columns = columns"
   ]
  },
  {
   "cell_type": "markdown",
   "metadata": {},
   "source": [
    "Поскольку участники ииграли больше одного раза, удалим дубликаты"
   ]
  },
  {
   "cell_type": "code",
   "execution_count": 13,
   "metadata": {},
   "outputs": [],
   "source": [
    "details = details.drop_duplicates(subset='id', keep='last')\n",
    "details = details.sort_values(by=['id'])\n",
    "details_test = details_test.drop_duplicates(subset='id', keep='last')\n",
    "details_test = details_test.sort_values(by=['id'])"
   ]
  },
  {
   "cell_type": "markdown",
   "metadata": {},
   "source": [
    "2 method"
   ]
  },
  {
   "cell_type": "code",
   "execution_count": 14,
   "metadata": {},
   "outputs": [],
   "source": [
    "vocab = {}\n",
    "\n",
    "for key, value in player_game_total.items():\n",
    "    count = 0\n",
    "    for i in value:\n",
    "        count += 1\n",
    "    vocab[key] = count"
   ]
  },
  {
   "cell_type": "code",
   "execution_count": 15,
   "metadata": {},
   "outputs": [
    {
     "data": {
      "image/png": "[encoded data removed]",
      "text/plain": [
       "<Figure size 432x288 with 1 Axes>"
      ]
     },
     "metadata": {
      "needs_background": "light"
     },
     "output_type": "display_data"
    }
   ],
   "source": [
    "plt.hist(vocab.values(), bins=10)\n",
    "plt.show()"
   ]
  },
  {
   "cell_type": "code",
   "execution_count": 16,
   "metadata": {},
   "outputs": [],
   "source": [
    "d = dict((k, v) for k, v in vocab.items() if v >= 7)"
   ]
  },
  {
   "cell_type": "code",
   "execution_count": 17,
   "metadata": {},
   "outputs": [],
   "source": [
    "vocab = d"
   ]
  },
  {
   "cell_type": "code",
   "execution_count": 18,
   "metadata": {},
   "outputs": [
    {
     "data": {
      "text/plain": [
       "17563"
      ]
     },
     "execution_count": 18,
     "metadata": {},
     "output_type": "execute_result"
    }
   ],
   "source": [
    "len(vocab)"
   ]
  },
  {
   "cell_type": "code",
   "execution_count": 19,
   "metadata": {},
   "outputs": [],
   "source": [
    "cour = {}\n",
    "player_ids = defaultdict(list)\n",
    "for key, value in train.items():\n",
    "    teams = {}\n",
    "    current = 0\n",
    "    for team_members in value:\n",
    "        for i in team_members:\n",
    "            if i == 'teamMembers':\n",
    "                if key in teams.keys():\n",
    "                    teams[key] += 1\n",
    "                    current  += 1\n",
    "                else:\n",
    "                    teams[key] = 1\n",
    "                    current  += 1\n",
    "    cour[key] = current\n",
    "        "
   ]
  },
  {
   "cell_type": "code",
   "execution_count": 20,
   "metadata": {},
   "outputs": [],
   "source": [
    "def games_to_user(game):\n",
    "    start = timer()\n",
    "    team_amount = cour[game]\n",
    "    inf = train[game]\n",
    "    game_rows = np.full((team_amount, len(vocab)), np.zeros(len(vocab)))\n",
    "    row_counter = 0\n",
    "    for teams in inf:\n",
    "        for team in teams:\n",
    "            if team == 'teamMembers':\n",
    "                for players in teams[team]:\n",
    "                    if players['player']['id'] in vocab.keys():\n",
    "                        game_rows[row_counter][vocab[players['player']['id']]] += 1\n",
    "        row_counter += 1\n",
    "    end = timer()\n",
    "    return game_rows"
   ]
  },
  {
   "cell_type": "code",
   "execution_count": 21,
   "metadata": {},
   "outputs": [],
   "source": [
    "total_game_mask = defaultdict(list)\n",
    "for key, i in data.items(): #номер игры\n",
    "    if key in train_ids:\n",
    "        for j in i: # команды\n",
    "            if 'mask' in j and j['mask'] is not None :\n",
    "                total_game_mask[key].append(j['mask'])\n",
    "    #if key in test_ids:\n",
    "    #    for j in i: # команды\n",
    "    #        if 'mask' in j and j['mask'] is not None :\n",
    "    #            total_game_mask[key].append(j['mask'])"
   ]
  },
  {
   "cell_type": "code",
   "execution_count": 22,
   "metadata": {},
   "outputs": [],
   "source": [
    "def pred(game):\n",
    "    inf = total_game_mask[game]\n",
    "    game_rows = np.full((len(inf), 1), 0.0)\n",
    "    counter = 0\n",
    "    for row in inf:\n",
    "        sum_list_of_answers = 0.0\n",
    "        count = 0.0\n",
    "        for value in row:\n",
    "            if value not in [\"?\", \"X\"]:\n",
    "                sum_list_of_answers += int(value)\n",
    "                count += 1\n",
    "        game_rows[counter] = sum_list_of_answers / count\n",
    "        counter += 1\n",
    "    return game_rows"
   ]
  },
  {
   "cell_type": "markdown",
   "metadata": {},
   "source": [
    "count = 0\n",
    "train_ridge = {}\n",
    "for i, value in train.items():\n",
    "    count += 1\n",
    "    if count % 4 == 0:\n",
    "        train_ridge[i] = value\n",
    "print(count)"
   ]
  },
  {
   "cell_type": "markdown",
   "metadata": {},
   "source": [
    "count = 0\n",
    "for i, value in train_ridge.items():\n",
    "    for j in value:\n",
    "        count += 1\n",
    "print (count)"
   ]
  },
  {
   "cell_type": "code",
   "execution_count": 25,
   "metadata": {},
   "outputs": [],
   "source": [
    "X_train_user = np.vstack(list(map(games_to_user, train.keys())))"
   ]
  },
  {
   "cell_type": "code",
   "execution_count": 26,
   "metadata": {},
   "outputs": [],
   "source": [
    "y_train_user = np.vstack(list(map(pred, train.keys())))"
   ]
  },
  {
   "cell_type": "code",
   "execution_count": 27,
   "metadata": {},
   "outputs": [
    {
     "name": "stdout",
     "output_type": "stream",
     "text": [
      "3344.7203913810004\n"
     ]
    }
   ],
   "source": [
    "start = timer()\n",
    "model = LinearRegression()\n",
    "y_train_user = np.clip(y_train_user, 1e-8, 1 - 1e-8)\n",
    "inv_sig_y = np.log(y_train_user / (1 - y_train_user))  \n",
    "model.fit(X_train_user, inv_sig_y)\n",
    "end = timer()\n",
    "print(end - start)"
   ]
  },
  {
   "cell_type": "code",
   "execution_count": 29,
   "metadata": {},
   "outputs": [],
   "source": [
    "def sigmoid(x):\n",
    "    ex = np.exp(x)\n",
    "    return ex / (1 + ex)\n",
    "\n",
    "preds = sigmoid(model.predict(X_train_user))"
   ]
  },
  {
   "cell_type": "code",
   "execution_count": 30,
   "metadata": {},
   "outputs": [],
   "source": [
    "diff = y_train_user - preds"
   ]
  },
  {
   "cell_type": "code",
   "execution_count": 31,
   "metadata": {},
   "outputs": [],
   "source": [
    "res = model.coef_.reshape(-1, 1)"
   ]
  },
  {
   "cell_type": "code",
   "execution_count": 32,
   "metadata": {},
   "outputs": [],
   "source": [
    "total = {}\n",
    "for i, j in enumerate(vocab.keys()):\n",
    "    total[j] = res[i]"
   ]
  },
  {
   "cell_type": "code",
   "execution_count": 33,
   "metadata": {},
   "outputs": [],
   "source": [
    "for_pd = dict(Counter(total).most_common(10))"
   ]
  },
  {
   "cell_type": "code",
   "execution_count": 34,
   "metadata": {},
   "outputs": [
    {
     "data": {
      "text/html": [
       "<div>\n",
       "<style scoped>\n",
       "    .dataframe tbody tr th:only-of-type {\n",
       "        vertical-align: middle;\n",
       "    }\n",
       "\n",
       "    .dataframe tbody tr th {\n",
       "        vertical-align: top;\n",
       "    }\n",
       "\n",
       "    .dataframe thead th {\n",
       "        text-align: right;\n",
       "    }\n",
       "</style>\n",
       "<table border=\"1\" class=\"dataframe\">\n",
       "  <thead>\n",
       "    <tr style=\"text-align: right;\">\n",
       "      <th></th>\n",
       "      <th>id</th>\n",
       "      <th>surname</th>\n",
       "      <th>name</th>\n",
       "      <th>rating</th>\n",
       "    </tr>\n",
       "  </thead>\n",
       "  <tbody>\n",
       "    <tr>\n",
       "      <th>439913</th>\n",
       "      <td>18332</td>\n",
       "      <td>Либер</td>\n",
       "      <td>Александр</td>\n",
       "      <td>14464</td>\n",
       "    </tr>\n",
       "    <tr>\n",
       "      <th>447681</th>\n",
       "      <td>1585</td>\n",
       "      <td>Архангельская</td>\n",
       "      <td>Юлия</td>\n",
       "      <td>13618</td>\n",
       "    </tr>\n",
       "    <tr>\n",
       "      <th>439823</th>\n",
       "      <td>110920</td>\n",
       "      <td>Дворянчиков</td>\n",
       "      <td>Алексей</td>\n",
       "      <td>13436</td>\n",
       "    </tr>\n",
       "    <tr>\n",
       "      <th>439821</th>\n",
       "      <td>47521</td>\n",
       "      <td>Декалов</td>\n",
       "      <td>Владислав</td>\n",
       "      <td>13113</td>\n",
       "    </tr>\n",
       "    <tr>\n",
       "      <th>443111</th>\n",
       "      <td>27009</td>\n",
       "      <td>Рождествин</td>\n",
       "      <td>Александр</td>\n",
       "      <td>11933</td>\n",
       "    </tr>\n",
       "    <tr>\n",
       "      <th>447934</th>\n",
       "      <td>54574</td>\n",
       "      <td>Карясов</td>\n",
       "      <td>Александр</td>\n",
       "      <td>11181</td>\n",
       "    </tr>\n",
       "    <tr>\n",
       "      <th>440101</th>\n",
       "      <td>20397</td>\n",
       "      <td>Мачевский</td>\n",
       "      <td>Александр</td>\n",
       "      <td>10984</td>\n",
       "    </tr>\n",
       "    <tr>\n",
       "      <th>440792</th>\n",
       "      <td>94673</td>\n",
       "      <td>Липодат</td>\n",
       "      <td>Борис</td>\n",
       "      <td>9967</td>\n",
       "    </tr>\n",
       "    <tr>\n",
       "      <th>188999</th>\n",
       "      <td>21374</td>\n",
       "      <td>Мозолевский</td>\n",
       "      <td>Михаил</td>\n",
       "      <td>9578</td>\n",
       "    </tr>\n",
       "    <tr>\n",
       "      <th>446928</th>\n",
       "      <td>64776</td>\n",
       "      <td>Попова</td>\n",
       "      <td>Александра</td>\n",
       "      <td>5734</td>\n",
       "    </tr>\n",
       "  </tbody>\n",
       "</table>\n",
       "</div>"
      ],
      "text/plain": [
       "            id        surname        name  rating\n",
       "439913   18332          Либер   Александр   14464\n",
       "447681    1585  Архангельская        Юлия   13618\n",
       "439823  110920    Дворянчиков     Алексей   13436\n",
       "439821   47521        Декалов   Владислав   13113\n",
       "443111   27009     Рождествин   Александр   11933\n",
       "447934   54574        Карясов   Александр   11181\n",
       "440101   20397      Мачевский   Александр   10984\n",
       "440792   94673        Липодат       Борис    9967\n",
       "188999   21374    Мозолевский      Михаил    9578\n",
       "446928   64776         Попова  Александра    5734"
      ]
     },
     "execution_count": 34,
     "metadata": {},
     "output_type": "execute_result"
    }
   ],
   "source": [
    "details[details['id'].isin(for_pd.keys())].sort_values(by='rating', ascending = False)"
   ]
  },
  {
   "cell_type": "code",
   "execution_count": 36,
   "metadata": {},
   "outputs": [],
   "source": [
    "cour_test = {}\n",
    "player_ids = defaultdict(list)\n",
    "for key, value in test.items():\n",
    "    teams = {}\n",
    "    current = 0\n",
    "    for team_members in value:\n",
    "        for i in team_members:\n",
    "            if i == 'teamMembers':\n",
    "                if key in teams.keys():\n",
    "                    teams[key] += 1\n",
    "                    current  += 1\n",
    "                else:\n",
    "                    teams[key] = 1\n",
    "                    current  += 1\n",
    "    cour_test[key] = current\n",
    "def games_to_user(game):\n",
    "    start = timer()\n",
    "    team_amount = cour_test[game]\n",
    "    inf = test[game]\n",
    "    game_rows = np.full((team_amount, len(vocab)), np.zeros(len(vocab)))\n",
    "    row_counter = 0\n",
    "    team_position = np.full((team_amount, 1), 0)\n",
    "    for teams in inf:\n",
    "        for team in teams:\n",
    "            if team == 'teamMembers':\n",
    "                for players in teams[team]:\n",
    "                    if players['player']['id'] in vocab.keys():\n",
    "                        game_rows[row_counter][vocab[players['player']['id']]] += 1\n",
    "        row_counter += 1\n",
    "    end = timer()\n",
    "    return game_rows\n",
    "total_game_mask = defaultdict(list)\n",
    "for key, i in data.items(): #номер игры\n",
    "    #if key in train_ids:\n",
    "    #    for j in i: # команды\n",
    "    #        if 'mask' in j and j['mask'] is not None :\n",
    "    #            total_game_mask[key].append(j['mask'])\n",
    "    if key in test_ids:\n",
    "        for j in i: # команды\n",
    "            if 'mask' in j and j['mask'] is not None :\n",
    "                total_game_mask[key].append(j['mask'])\n",
    "def games_ranking(game):\n",
    "    start = timer()\n",
    "    team_amount = cour_test[game]\n",
    "    inf = test[game]\n",
    "    game_rows = np.full((team_amount, len(vocab)), np.zeros(len(vocab)))\n",
    "    row_counter = 0\n",
    "    team_position = np.full((team_amount, 1), 0)\n",
    "    for teams in inf:\n",
    "        for team in teams:\n",
    "            if team == 'teamMembers':\n",
    "                for players in teams[team]:\n",
    "                    if players['player']['id'] in vocab.keys():\n",
    "                        game_rows[row_counter][vocab[players['player']['id']]] += 1\n",
    "            if team == 'position':\n",
    "                team_position[row_counter] = teams[team]\n",
    "                #print (teams[team])\n",
    "        row_counter += 1\n",
    "    end = timer()\n",
    "    current_ranking = np.dot(game_rows, res)\n",
    "    return current_ranking,  team_position\n",
    "total_game_mask = defaultdict(list)\n",
    "for key, i in data.items(): #номер игры\n",
    "    #if key in train_ids:\n",
    "    #    for j in i: # команды\n",
    "    #        if 'mask' in j and j['mask'] is not None :\n",
    "    #            total_game_mask[key].append(j['mask'])\n",
    "    if key in test_ids:\n",
    "        for j in i: # команды\n",
    "            if 'mask' in j and j['mask'] is not None :\n",
    "                total_game_mask[key].append(j['mask'])"
   ]
  },
  {
   "cell_type": "code",
   "execution_count": 37,
   "metadata": {},
   "outputs": [
    {
     "name": "stdout",
     "output_type": "stream",
     "text": [
      "0.6033579289592746\n"
     ]
    }
   ],
   "source": [
    "total = 0\n",
    "count = 0\n",
    "for i in test.keys():\n",
    "    ranking, actual_pos = np.vstack(list(map(games_ranking, [i])))\n",
    "    spear_stst = stats.spearmanr(ranking, actual_pos)\n",
    "    if math.isnan(spear_stst.correlation) == False:\n",
    "        total += spear_stst.correlation\n",
    "        count +=1\n",
    "print (abs(total/count))"
   ]
  },
  {
   "cell_type": "code",
   "execution_count": 38,
   "metadata": {},
   "outputs": [
    {
     "name": "stdout",
     "output_type": "stream",
     "text": [
      "0.4535306380641268\n"
     ]
    }
   ],
   "source": [
    "total = 0\n",
    "count = 0\n",
    "for i in test.keys():\n",
    "    ranking, actual_pos = np.vstack(list(map(games_ranking, [i])))\n",
    "    kendall_stst = stats.kendalltau(ranking, actual_pos)\n",
    "    if math.isnan(kendall_stst.correlation) == False:\n",
    "        total += kendall_stst.correlation\n",
    "        count +=1\n",
    "print (abs(total/count))"
   ]
  },
  {
   "cell_type": "markdown",
   "metadata": {},
   "source": [
    "http://karlrosaen.com/ml/notebooks/em-coin-flips/"
   ]
  },
  {
   "cell_type": "code",
   "execution_count": 63,
   "metadata": {},
   "outputs": [],
   "source": [
    "\n",
    "def coin_em(rolls, theta_A=None, theta_B=None, theta_C=None, theta_D=None,theta_E=None, theta_F=None, maxiter=10):\n",
    "    theta_A = theta_A or random.random()\n",
    "    theta_B = theta_B or random.random()\n",
    "    theta_С = theta_A or random.random()\n",
    "    theta_В = theta_B or random.random()\n",
    "    theta_E = theta_B or random.random()\n",
    "    theta_F = theta_B or random.random()\n",
    "    thetas = [(theta_A, theta_B, theta_C, theta_D, theta_E, theta_E)]\n",
    "    for c in range(maxiter):\n",
    "        print(\"#%d:\\t%0.2f %0.2f\" % (c, theta_A, theta_B))\n",
    "        heads_A, tails_A, heads_B, tails_B, heads_C, tails_C, heads_D, tails_D, heads_E, tails_E, heads_F, tails_F = e_step(rolls, theta_A, theta_B, theta_C, theta_D, theta_E, theta_F)\n",
    "        theta_A, theta_B, theta_C, theta_D, theta_E, theta_F = m_step(heads_A, tails_A, heads_B, tails_B, heads_C, tails_C, heads_D, tails_D, heads_E, tails_E, heads_F, tails_F)\n",
    "        \n",
    "    thetas.append((theta_A, theta_B, theta_C, theta_D, theta_E, theta_E))    \n",
    "    return theta_A, theta_B, theta_C, theta_D, theta_E, theta_E\n",
    "\n",
    "def e_step(rolls, theta_A, theta_B, theta_C, theta_D, theta_E, theta_F):\n",
    "    \"\"\"Produce the expected value for heads_A, tails_A, heads_B, tails_B \n",
    "    over the rolls given the coin biases\"\"\"\n",
    "    \n",
    "    heads_A, tails_A = 0,0\n",
    "    heads_B, tails_B = 0,0\n",
    "    heads_C, tails_C = 0,0\n",
    "    heads_D, tails_D = 0,0\n",
    "    heads_E, tails_E = 0,0\n",
    "    heads_F, tails_F = 0,0\n",
    "    for trial in rolls:\n",
    "        likelihood_A = coin_likelihood(trial, theta_A)\n",
    "        likelihood_B = coin_likelihood(trial, theta_B)\n",
    "        likelihood_C = coin_likelihood(trial, theta_C)\n",
    "        likelihood_D = coin_likelihood(trial, theta_D)\n",
    "        likelihood_E = coin_likelihood(trial, theta_E)\n",
    "        likelihood_F = coin_likelihood(trial, theta_F)\n",
    "        p_A = likelihood_A / (likelihood_A + likelihood_B + likelihood_B + likelihood_C + likelihood_D + likelihood_E + likelihood_F)\n",
    "        p_B = likelihood_B / (likelihood_A + likelihood_B + likelihood_B + likelihood_C + likelihood_D + likelihood_E + likelihood_F)\n",
    "        p_C = likelihood_C / (likelihood_A + likelihood_B + likelihood_B + likelihood_C + likelihood_D + likelihood_E + likelihood_F)\n",
    "        p_D = likelihood_D / (likelihood_A + likelihood_B + likelihood_B + likelihood_C + likelihood_D + likelihood_E + likelihood_F)\n",
    "        p_E = likelihood_E / (likelihood_A + likelihood_B + likelihood_B + likelihood_C + likelihood_D + likelihood_E + likelihood_F)\n",
    "        p_F = likelihood_F / (likelihood_A + likelihood_B + likelihood_B + likelihood_C + likelihood_D + likelihood_E + likelihood_F)\n",
    "        heads_A += p_A * trial.count(\"1\")\n",
    "        tails_A += p_A * trial.count(\"0\")\n",
    "        heads_B += p_B * trial.count(\"1\")\n",
    "        tails_B += p_B * trial.count(\"0\")\n",
    "        heads_C += p_C * trial.count(\"1\")\n",
    "        tails_C += p_C * trial.count(\"0\")\n",
    "        heads_D += p_D * trial.count(\"1\")\n",
    "        tails_D += p_D * trial.count(\"0\") \n",
    "        heads_E += p_E * trial.count(\"1\")\n",
    "        tails_E += p_E * trial.count(\"0\")\n",
    "        heads_F += p_F * trial.count(\"1\")\n",
    "        tails_F += p_F * trial.count(\"0\") \n",
    "    return heads_A, tails_A, heads_B, tails_B, heads_C, tails_C, heads_D, tails_D, heads_E, tails_E, heads_F, tails_F\n",
    "\n",
    "def m_step(heads_A, tails_A, heads_B, tails_B, heads_C, tails_C, heads_D, tails_D, heads_E, tails_E, heads_F, tails_F):\n",
    "    \"\"\"Produce the values for theta that maximize the expected number of heads/tails\"\"\"\n",
    "\n",
    "    # Replace dummy values with your implementation\n",
    "    theta_A = heads_A / (heads_A + tails_A)\n",
    "    theta_B = heads_B / (heads_B + tails_B)\n",
    "    theta_C = heads_C / (heads_C + tails_C)\n",
    "    theta_D = heads_D / (heads_D + tails_D)\n",
    "    theta_E = heads_E / (heads_E + tails_E)\n",
    "    theta_F = heads_F / (heads_F + tails_F)\n",
    "    return theta_A, theta_B, theta_C, theta_D, theta_E, theta_F\n",
    "\n",
    "def coin_likelihood(roll, bias):\n",
    "    # P(X | Z, theta)\n",
    "    numHeads = roll.count(\"1\")\n",
    "    flips = len(roll)\n",
    "    return pow(bias, numHeads) * pow(1-bias, flips-numHeads)"
   ]
  },
  {
   "cell_type": "code",
   "execution_count": 64,
   "metadata": {},
   "outputs": [
    {
     "name": "stdout",
     "output_type": "stream",
     "text": [
      "#0:\t0.60 0.50\n",
      "#1:\t0.72 0.63\n",
      "#2:\t0.72 0.63\n",
      "#3:\t0.72 0.63\n",
      "#4:\t0.72 0.63\n"
     ]
    }
   ],
   "source": [
    "rolls = [ \"1\", \"0\", \"1\", \n",
    "          \"1\", \"0\" ]\n",
    "A, B, C, D, E, F = coin_em(rolls, 0.6, 0.5, 0.4, 0.3, 0.4, 0.5, maxiter=5)"
   ]
  },
  {
   "cell_type": "code",
   "execution_count": null,
   "metadata": {},
   "outputs": [],
   "source": []
  },
  {
   "cell_type": "code",
   "execution_count": null,
   "metadata": {},
   "outputs": [],
   "source": []
  },
  {
   "cell_type": "code",
   "execution_count": null,
   "metadata": {},
   "outputs": [],
   "source": []
  },
  {
   "cell_type": "code",
   "execution_count": null,
   "metadata": {},
   "outputs": [],
   "source": []
  },
  {
   "cell_type": "code",
   "execution_count": null,
   "metadata": {},
   "outputs": [],
   "source": []
  },
  {
   "cell_type": "code",
   "execution_count": null,
   "metadata": {},
   "outputs": [],
   "source": []
  },
  {
   "cell_type": "code",
   "execution_count": 170,
   "metadata": {},
   "outputs": [],
   "source": [
    "X_test_user = np.vstack(list(map(games_to_user, test.keys())))"
   ]
  },
  {
   "cell_type": "code",
   "execution_count": 171,
   "metadata": {},
   "outputs": [],
   "source": [
    "y_test_user = np.vstack(list(map(pred, test.keys())))"
   ]
  },
  {
   "cell_type": "code",
   "execution_count": 172,
   "metadata": {},
   "outputs": [],
   "source": [
    "preds = sigmoid(model.predict(X_test_user))"
   ]
  },
  {
   "cell_type": "code",
   "execution_count": 173,
   "metadata": {},
   "outputs": [],
   "source": [
    "vocab_test = {}\n",
    "\n",
    "for key, value in player_game_test.items():\n",
    "    count = 0\n",
    "    for i in value:\n",
    "        count += 1\n",
    "    vocab_test[key] = count"
   ]
  },
  {
   "cell_type": "code",
   "execution_count": 174,
   "metadata": {},
   "outputs": [],
   "source": [
    "d = dict((k, v) for k, v in vocab_test.items() if v >= 10)"
   ]
  },
  {
   "cell_type": "code",
   "execution_count": 175,
   "metadata": {},
   "outputs": [],
   "source": [
    "vocab_test = d"
   ]
  },
  {
   "cell_type": "code",
   "execution_count": 187,
   "metadata": {},
   "outputs": [
    {
     "data": {
      "text/plain": [
       "13178"
      ]
     },
     "execution_count": 187,
     "metadata": {},
     "output_type": "execute_result"
    }
   ],
   "source": [
    "len(vocab)"
   ]
  },
  {
   "cell_type": "code",
   "execution_count": 188,
   "metadata": {},
   "outputs": [],
   "source": [
    "total = {}\n",
    "for i, j in enumerate(vocab.keys()):\n",
    "    total[j] = res[i]"
   ]
  },
  {
   "cell_type": "code",
   "execution_count": 195,
   "metadata": {},
   "outputs": [],
   "source": [
    "for_pd = dict(Counter(total).most_common(200))"
   ]
  },
  {
   "cell_type": "code",
   "execution_count": 193,
   "metadata": {},
   "outputs": [
    {
     "data": {
      "text/plain": [
       "{1585: array([2.7752488e+13]),\n",
       " 26089: array([1.90097246e+13]),\n",
       " 15456: array([6.31986737e+12]),\n",
       " 18332: array([5.15682356e+12]),\n",
       " 12313: array([3.55946426e+12]),\n",
       " 17230: array([2.83179488e+12]),\n",
       " 18036: array([5.0579343e+11]),\n",
       " 96642: array([3.87535828e+11]),\n",
       " 12747: array([1.94706071e+11]),\n",
       " 31190: array([9.66355381e+10])}"
      ]
     },
     "execution_count": 193,
     "metadata": {},
     "output_type": "execute_result"
    }
   ],
   "source": [
    "dict(Counter(total).most_common(10))"
   ]
  },
  {
   "cell_type": "code",
   "execution_count": 196,
   "metadata": {},
   "outputs": [
    {
     "data": {
      "text/html": [
       "<div>\n",
       "<style scoped>\n",
       "    .dataframe tbody tr th:only-of-type {\n",
       "        vertical-align: middle;\n",
       "    }\n",
       "\n",
       "    .dataframe tbody tr th {\n",
       "        vertical-align: top;\n",
       "    }\n",
       "\n",
       "    .dataframe thead th {\n",
       "        text-align: right;\n",
       "    }\n",
       "</style>\n",
       "<table border=\"1\" class=\"dataframe\">\n",
       "  <thead>\n",
       "    <tr style=\"text-align: right;\">\n",
       "      <th></th>\n",
       "      <th>id</th>\n",
       "      <th>surname</th>\n",
       "      <th>name</th>\n",
       "      <th>rating</th>\n",
       "    </tr>\n",
       "  </thead>\n",
       "  <tbody>\n",
       "    <tr>\n",
       "      <th>447403</th>\n",
       "      <td>30152</td>\n",
       "      <td>Сорожкин</td>\n",
       "      <td>Артём</td>\n",
       "      <td>14578</td>\n",
       "    </tr>\n",
       "    <tr>\n",
       "      <th>439913</th>\n",
       "      <td>18332</td>\n",
       "      <td>Либер</td>\n",
       "      <td>Александр</td>\n",
       "      <td>14464</td>\n",
       "    </tr>\n",
       "    <tr>\n",
       "      <th>442615</th>\n",
       "      <td>33620</td>\n",
       "      <td>Хаиткулов</td>\n",
       "      <td>Руслан</td>\n",
       "      <td>14151</td>\n",
       "    </tr>\n",
       "    <tr>\n",
       "      <th>447681</th>\n",
       "      <td>1585</td>\n",
       "      <td>Архангельская</td>\n",
       "      <td>Юлия</td>\n",
       "      <td>13618</td>\n",
       "    </tr>\n",
       "    <tr>\n",
       "      <th>442617</th>\n",
       "      <td>70750</td>\n",
       "      <td>Галиакберов</td>\n",
       "      <td>Денис</td>\n",
       "      <td>13615</td>\n",
       "    </tr>\n",
       "    <tr>\n",
       "      <th>...</th>\n",
       "      <td>...</td>\n",
       "      <td>...</td>\n",
       "      <td>...</td>\n",
       "      <td>...</td>\n",
       "    </tr>\n",
       "    <tr>\n",
       "      <th>449325</th>\n",
       "      <td>43686</td>\n",
       "      <td>Лурье</td>\n",
       "      <td>Эдуард</td>\n",
       "      <td>5295</td>\n",
       "    </tr>\n",
       "    <tr>\n",
       "      <th>443562</th>\n",
       "      <td>32767</td>\n",
       "      <td>Утикеев</td>\n",
       "      <td>Максимилиан</td>\n",
       "      <td>5236</td>\n",
       "    </tr>\n",
       "    <tr>\n",
       "      <th>443560</th>\n",
       "      <td>8159</td>\n",
       "      <td>Гриневич</td>\n",
       "      <td>Анна</td>\n",
       "      <td>5047</td>\n",
       "    </tr>\n",
       "    <tr>\n",
       "      <th>443564</th>\n",
       "      <td>67274</td>\n",
       "      <td>Вознесенская</td>\n",
       "      <td>Елена</td>\n",
       "      <td>4536</td>\n",
       "    </tr>\n",
       "    <tr>\n",
       "      <th>301392</th>\n",
       "      <td>3386</td>\n",
       "      <td>Билик</td>\n",
       "      <td>Дмитрий</td>\n",
       "      <td>4520</td>\n",
       "    </tr>\n",
       "  </tbody>\n",
       "</table>\n",
       "<p>200 rows × 4 columns</p>\n",
       "</div>"
      ],
      "text/plain": [
       "           id        surname         name  rating\n",
       "447403  30152       Сорожкин        Артём   14578\n",
       "439913  18332          Либер    Александр   14464\n",
       "442615  33620      Хаиткулов       Руслан   14151\n",
       "447681   1585  Архангельская         Юлия   13618\n",
       "442617  70750    Галиакберов        Денис   13615\n",
       "...       ...            ...          ...     ...\n",
       "449325  43686          Лурье       Эдуард    5295\n",
       "443562  32767        Утикеев  Максимилиан    5236\n",
       "443560   8159       Гриневич         Анна    5047\n",
       "443564  67274   Вознесенская        Елена    4536\n",
       "301392   3386          Билик      Дмитрий    4520\n",
       "\n",
       "[200 rows x 4 columns]"
      ]
     },
     "execution_count": 196,
     "metadata": {},
     "output_type": "execute_result"
    }
   ],
   "source": [
    "details[details['id'].isin(for_pd.keys())].sort_values(by='rating', ascending = False)"
   ]
  },
  {
   "cell_type": "code",
   "execution_count": 181,
   "metadata": {},
   "outputs": [
    {
     "data": {
      "text/plain": [
       "2850"
      ]
     },
     "execution_count": 181,
     "metadata": {},
     "output_type": "execute_result"
    }
   ],
   "source": [
    "len(vocab_test.keys())"
   ]
  },
  {
   "cell_type": "code",
   "execution_count": null,
   "metadata": {},
   "outputs": [],
   "source": []
  },
  {
   "cell_type": "code",
   "execution_count": null,
   "metadata": {},
   "outputs": [],
   "source": []
  },
  {
   "cell_type": "code",
   "execution_count": null,
   "metadata": {},
   "outputs": [],
   "source": []
  },
  {
   "cell_type": "code",
   "execution_count": 19,
   "metadata": {},
   "outputs": [
    {
     "name": "stdout",
     "output_type": "stream",
     "text": [
      "451783\n"
     ]
    }
   ],
   "source": [
    "a = 0\n",
    "for i in game_player.values():\n",
    "    a += len(i)\n",
    "print (a)"
   ]
  },
  {
   "cell_type": "code",
   "execution_count": 21,
   "metadata": {},
   "outputs": [
    {
     "data": {
      "text/plain": [
       "418"
      ]
     },
     "execution_count": 21,
     "metadata": {},
     "output_type": "execute_result"
    }
   ],
   "source": [
    "len(test_ids)"
   ]
  },
  {
   "cell_type": "code",
   "execution_count": 37,
   "metadata": {},
   "outputs": [],
   "source": [
    "X_train = np.stack(list(map(predict, details['id'].sort_values())))"
   ]
  },
  {
   "cell_type": "code",
   "execution_count": 38,
   "metadata": {},
   "outputs": [],
   "source": [
    "details['probability'] = X_train"
   ]
  },
  {
   "cell_type": "code",
   "execution_count": 39,
   "metadata": {},
   "outputs": [
    {
     "data": {
      "text/html": [
       "<div>\n",
       "<style scoped>\n",
       "    .dataframe tbody tr th:only-of-type {\n",
       "        vertical-align: middle;\n",
       "    }\n",
       "\n",
       "    .dataframe tbody tr th {\n",
       "        vertical-align: top;\n",
       "    }\n",
       "\n",
       "    .dataframe thead th {\n",
       "        text-align: right;\n",
       "    }\n",
       "</style>\n",
       "<table border=\"1\" class=\"dataframe\">\n",
       "  <thead>\n",
       "    <tr style=\"text-align: right;\">\n",
       "      <th></th>\n",
       "      <th>id</th>\n",
       "      <th>surname</th>\n",
       "      <th>name</th>\n",
       "      <th>rating</th>\n",
       "      <th>probability</th>\n",
       "    </tr>\n",
       "  </thead>\n",
       "  <tbody>\n",
       "    <tr>\n",
       "      <th>423138</th>\n",
       "      <td>15</td>\n",
       "      <td>Абарников</td>\n",
       "      <td>Олег</td>\n",
       "      <td>7841</td>\n",
       "      <td>0.360714</td>\n",
       "    </tr>\n",
       "    <tr>\n",
       "      <th>404455</th>\n",
       "      <td>16</td>\n",
       "      <td>Абасалиев</td>\n",
       "      <td>Азер</td>\n",
       "      <td>3301</td>\n",
       "      <td>0.551282</td>\n",
       "    </tr>\n",
       "    <tr>\n",
       "      <th>3763</th>\n",
       "      <td>23</td>\n",
       "      <td>Абащенко</td>\n",
       "      <td>Андрей</td>\n",
       "      <td>791</td>\n",
       "      <td>0.500000</td>\n",
       "    </tr>\n",
       "    <tr>\n",
       "      <th>443177</th>\n",
       "      <td>31</td>\n",
       "      <td>Абасова</td>\n",
       "      <td>Ситара</td>\n",
       "      <td>5752</td>\n",
       "      <td>0.444444</td>\n",
       "    </tr>\n",
       "    <tr>\n",
       "      <th>444079</th>\n",
       "      <td>35</td>\n",
       "      <td>Абгарян</td>\n",
       "      <td>Нарек</td>\n",
       "      <td>6717</td>\n",
       "      <td>0.520607</td>\n",
       "    </tr>\n",
       "    <tr>\n",
       "      <th>...</th>\n",
       "      <td>...</td>\n",
       "      <td>...</td>\n",
       "      <td>...</td>\n",
       "      <td>...</td>\n",
       "      <td>...</td>\n",
       "    </tr>\n",
       "    <tr>\n",
       "      <th>274000</th>\n",
       "      <td>7002</td>\n",
       "      <td>Гиззатуллин</td>\n",
       "      <td>Рафаэль</td>\n",
       "      <td>0</td>\n",
       "      <td>0.556025</td>\n",
       "    </tr>\n",
       "    <tr>\n",
       "      <th>448063</th>\n",
       "      <td>7006</td>\n",
       "      <td>Гиззатуллина</td>\n",
       "      <td>Гульнара</td>\n",
       "      <td>9841</td>\n",
       "      <td>0.520579</td>\n",
       "    </tr>\n",
       "    <tr>\n",
       "      <th>439909</th>\n",
       "      <td>7008</td>\n",
       "      <td>Гилёв</td>\n",
       "      <td>Алексей</td>\n",
       "      <td>13998</td>\n",
       "      <td>0.745618</td>\n",
       "    </tr>\n",
       "    <tr>\n",
       "      <th>45630</th>\n",
       "      <td>7014</td>\n",
       "      <td>Гиленко</td>\n",
       "      <td>Дмитрий</td>\n",
       "      <td>0</td>\n",
       "      <td>0.457143</td>\n",
       "    </tr>\n",
       "    <tr>\n",
       "      <th>341266</th>\n",
       "      <td>7021</td>\n",
       "      <td>Гильманов</td>\n",
       "      <td>Руслан</td>\n",
       "      <td>1001</td>\n",
       "      <td>0.191667</td>\n",
       "    </tr>\n",
       "  </tbody>\n",
       "</table>\n",
       "<p>1000 rows × 5 columns</p>\n",
       "</div>"
      ],
      "text/plain": [
       "          id       surname      name  rating  probability\n",
       "423138    15     Абарников      Олег    7841     0.360714\n",
       "404455    16     Абасалиев      Азер    3301     0.551282\n",
       "3763      23      Абащенко    Андрей     791     0.500000\n",
       "443177    31       Абасова    Ситара    5752     0.444444\n",
       "444079    35       Абгарян     Нарек    6717     0.520607\n",
       "...      ...           ...       ...     ...          ...\n",
       "274000  7002   Гиззатуллин   Рафаэль       0     0.556025\n",
       "448063  7006  Гиззатуллина  Гульнара    9841     0.520579\n",
       "439909  7008         Гилёв   Алексей   13998     0.745618\n",
       "45630   7014       Гиленко   Дмитрий       0     0.457143\n",
       "341266  7021     Гильманов    Руслан    1001     0.191667\n",
       "\n",
       "[1000 rows x 5 columns]"
      ]
     },
     "execution_count": 39,
     "metadata": {},
     "output_type": "execute_result"
    }
   ],
   "source": [
    "details.head(1000)"
   ]
  },
  {
   "cell_type": "code",
   "execution_count": null,
   "metadata": {},
   "outputs": [],
   "source": [
    "vocab = {}\n",
    "count = 0\n",
    "for key, value in game_player.items():\n",
    "    max_ln = 0\n",
    "    for i in value:\n",
    "        max_ln = max(max_ln, i[2])\n",
    "    for ind in range(0, max_ln):\n",
    "        vocab[str(key) + \" \" + str(ind)] = count\n",
    "        count += 1\n",
    "print (count)"
   ]
  },
  {
   "cell_type": "code",
   "execution_count": null,
   "metadata": {},
   "outputs": [],
   "source": [
    "def user_to_bow(user_id):\n",
    "    start = timer()\n",
    "    user_row = np.zeros(len(vocab))\n",
    "    inf = player_game[user_id]\n",
    "    for row in inf:\n",
    "        for i, value in enumerate(row[1]):\n",
    "            if value not in [\"?\", \"X\"]:\n",
    "                #print (i, value, len(row[1]), user_id, row[0])\n",
    "                user_row[vocab[str(row[0]) + \" \" + str(i)]] += int(value)\n",
    "    end = timer()\n",
    "    #print(end - start)\n",
    "    return user_row"
   ]
  },
  {
   "cell_type": "code",
   "execution_count": 575,
   "metadata": {},
   "outputs": [
    {
     "name": "stdout",
     "output_type": "stream",
     "text": [
      "<class 'pandas.core.frame.DataFrame'>\n",
      "Int64Index: 59101 entries, 56 to 451782\n",
      "Data columns (total 4 columns):\n",
      " #   Column   Non-Null Count  Dtype \n",
      "---  ------   --------------  ----- \n",
      " 0   id       59101 non-null  int64 \n",
      " 1   surname  59101 non-null  object\n",
      " 2   name     59101 non-null  object\n",
      " 3   rating   59101 non-null  int64 \n",
      "dtypes: int64(2), object(2)\n",
      "memory usage: 2.3+ MB\n"
     ]
    }
   ],
   "source": [
    "total.info()"
   ]
  },
  {
   "cell_type": "code",
   "execution_count": 579,
   "metadata": {},
   "outputs": [],
   "source": [
    "y_train = total['rating'].values"
   ]
  },
  {
   "cell_type": "code",
   "execution_count": 581,
   "metadata": {},
   "outputs": [],
   "source": [
    "X_train_tt, X_test_tt, y_train_val, y_test_val = train_test_split(\n",
    "X_train, y_train, test_size=0.33, random_state=42)"
   ]
  },
  {
   "cell_type": "code",
   "execution_count": null,
   "metadata": {},
   "outputs": [],
   "source": [
    "model = LogisticRegression()\n",
    "model.fit(X_train_tt, y_train_val)"
   ]
  },
  {
   "cell_type": "code",
   "execution_count": 82,
   "metadata": {},
   "outputs": [
    {
     "data": {
      "image/png": "[encoded data removed]",
      "text/plain": [
       "<Figure size 432x288 with 1 Axes>"
      ]
     },
     "metadata": {
      "needs_background": "light"
     },
     "output_type": "display_data"
    }
   ],
   "source": [
    "plt.hist(player_ids_games_amount.values())\n",
    "plt.show()"
   ]
  },
  {
   "cell_type": "markdown",
   "metadata": {},
   "source": [
    "train = defaultdict(list)\n",
    "test = defaultdict(list)\n",
    "for key, i in data.items(): #номер игры\n",
    "    if key == a:\n",
    "        print ('heu')\n",
    "        for j in i: # команды\n",
    "            print (j)\n",
    "            if 'mask' in j:\n",
    "                train[key].append(j)"
   ]
  },
  {
   "cell_type": "markdown",
   "metadata": {},
   "source": [
    "APPENDIX.\n",
    "Ниже представлена еще одна попытка построить вероятность ответа игрока правильно на вопрос через другие параметры,\n",
    "такие как количество сыгранных игр, процент правильно отвеченных вопросов, рейтинг игрока и рейтинг (позиция) команды в сыгранной игре"
   ]
  },
  {
   "cell_type": "code",
   "execution_count": 39,
   "metadata": {},
   "outputs": [],
   "source": [
    "def predict(user_id):\n",
    "    inf = player_game[user_id]\n",
    "    counter = 0\n",
    "    list_of_answers = []\n",
    "    user_answer = 0\n",
    "    for row in inf:\n",
    "        for i, value in enumerate(row[1]):\n",
    "            if value not in [\"?\", \"X\"]:\n",
    "                counter += 1\n",
    "                user_answer += int(value)\n",
    "                list_of_answers.append(int(value))\n",
    "    return user_answer/counter"
   ]
  },
  {
   "cell_type": "code",
   "execution_count": 40,
   "metadata": {},
   "outputs": [],
   "source": [
    "def predict_1(user_id):\n",
    "    inf = player_game[user_id]\n",
    "    counter = 0\n",
    "    list_of_answers = []\n",
    "    user_answer = 0\n",
    "    game_counter = 0\n",
    "    for row in inf:\n",
    "        game_counter +=1\n",
    "        for i, value in enumerate(row[1]):\n",
    "            if value not in [\"?\", \"X\"]:\n",
    "                counter += 1\n",
    "                user_answer += int(value)\n",
    "                list_of_answers.append(int(value))\n",
    "    return game_counter, row[3], user_answer/counter, list_of_answers, row[4]"
   ]
  },
  {
   "cell_type": "code",
   "execution_count": 41,
   "metadata": {},
   "outputs": [],
   "source": [
    "def predict_2(user_id):\n",
    "    inf = player_game_test[user_id]\n",
    "    counter = 0\n",
    "    list_of_answers = []\n",
    "    user_answer = 0\n",
    "    game_counter = 0\n",
    "    for row in inf:\n",
    "        game_counter +=1\n",
    "        for i, value in enumerate(row[1]):\n",
    "            if value not in [\"?\", \"X\"]:\n",
    "                counter += 1\n",
    "                user_answer += int(value)\n",
    "                list_of_answers.append(int(value))\n",
    "    return game_counter, row[3], user_answer/counter, list_of_answers, row[4]"
   ]
  },
  {
   "cell_type": "code",
   "execution_count": 42,
   "metadata": {},
   "outputs": [],
   "source": [
    "def cases_user_x(user_id):\n",
    "    x_y_labels = predict_1(user_id)\n",
    "    y_train = np.array(x_y_labels[3]).reshape(-1,1)\n",
    "    x_train = np.full((len(y_train), 4), [x_y_labels[0],x_y_labels[1],x_y_labels[2], x_y_labels[4]])\n",
    "    return x_train\n",
    "def cases_user_y(user_id):\n",
    "    x_y_labels = predict_1(user_id)\n",
    "    y_train = np.array(x_y_labels[3]).reshape(-1,1)\n",
    "    return y_train\n",
    "def cases_user_x_1(user_id):\n",
    "    x_y_labels = predict_1(user_id)\n",
    "    y_train = np.mean(x_y_labels[3])\n",
    "    x_train = np.full((1, 4), [x_y_labels[0],x_y_labels[1],x_y_labels[2], x_y_labels[4]])\n",
    "    return x_train\n",
    "def cases_user_y_1(user_id):\n",
    "    x_y_labels = predict_1(user_id)\n",
    "    y_train = np.mean(x_y_labels[3])\n",
    "    return y_train\n",
    "def cases_user_x_2(user_id):\n",
    "    x_y_labels = predict_2(user_id)\n",
    "    y_train = np.mean(x_y_labels[3])\n",
    "    x_train = np.full((1, 4), [x_y_labels[0],x_y_labels[1],x_y_labels[2], x_y_labels[4]])\n",
    "    return x_train\n",
    "def cases_user_y_2(user_id):\n",
    "    x_y_labels = predict_2(user_id)\n",
    "    y_train = np.mean(x_y_labels[3])\n",
    "    return y_train"
   ]
  },
  {
   "cell_type": "code",
   "execution_count": 43,
   "metadata": {},
   "outputs": [],
   "source": [
    "X = np.vstack(list(map(cases_user_x_1, details['id'].sort_values())))\n",
    "y = np.vstack(list(map(cases_user_y_1, details['id'].sort_values())))"
   ]
  },
  {
   "cell_type": "code",
   "execution_count": 44,
   "metadata": {},
   "outputs": [],
   "source": [
    "X_test = np.vstack(list(map(cases_user_x_2, details_test['id'].sort_values())))\n",
    "y_test = np.vstack(list(map(cases_user_y_2, details_test['id'].sort_values())))"
   ]
  },
  {
   "cell_type": "code",
   "execution_count": 47,
   "metadata": {},
   "outputs": [],
   "source": [
    "scaler = StandardScaler()"
   ]
  },
  {
   "cell_type": "code",
   "execution_count": 48,
   "metadata": {},
   "outputs": [],
   "source": [
    "X_norm = scaler.fit_transform(X)\n",
    "X_norm_test = scaler.fit_transform(X_test)"
   ]
  },
  {
   "cell_type": "code",
   "execution_count": 49,
   "metadata": {},
   "outputs": [
    {
     "name": "stdout",
     "output_type": "stream",
     "text": [
      "0.026735257000382262\n"
     ]
    }
   ],
   "source": [
    "start = timer()\n",
    "model_0 = LinearRegression()\n",
    "y = np.clip(y, 1e-8, 1 - 1e-8)\n",
    "inv_sig_y = np.log(y / (1 - y))  \n",
    "model_0.fit(X_norm, inv_sig_y)\n",
    "end = timer()\n",
    "print(end - start)"
   ]
  },
  {
   "cell_type": "code",
   "execution_count": 67,
   "metadata": {},
   "outputs": [],
   "source": [
    "def sigmoid(x):\n",
    "    ex = np.exp(x)\n",
    "    return ex / (1 + ex)\n",
    "\n",
    "preds = sigmoid(model_0.predict(X_norm_test))"
   ]
  },
  {
   "cell_type": "code",
   "execution_count": 68,
   "metadata": {},
   "outputs": [],
   "source": [
    "diff = y_test - preds"
   ]
  },
  {
   "cell_type": "code",
   "execution_count": 69,
   "metadata": {},
   "outputs": [
    {
     "data": {
      "image/png": "[encoded data removed]",
      "text/plain": [
       "<Figure size 432x288 with 1 Axes>"
      ]
     },
     "metadata": {
      "needs_background": "light"
     },
     "output_type": "display_data"
    }
   ],
   "source": [
    "diff\n",
    "plt.hist(diff)\n",
    "plt.show()"
   ]
  },
  {
   "cell_type": "code",
   "execution_count": 76,
   "metadata": {},
   "outputs": [],
   "source": [
    "details_test['res'] = preds"
   ]
  },
  {
   "cell_type": "code",
   "execution_count": 77,
   "metadata": {},
   "outputs": [
    {
     "data": {
      "text/html": [
       "<div>\n",
       "<style scoped>\n",
       "    .dataframe tbody tr th:only-of-type {\n",
       "        vertical-align: middle;\n",
       "    }\n",
       "\n",
       "    .dataframe tbody tr th {\n",
       "        vertical-align: top;\n",
       "    }\n",
       "\n",
       "    .dataframe thead th {\n",
       "        text-align: right;\n",
       "    }\n",
       "</style>\n",
       "<table border=\"1\" class=\"dataframe\">\n",
       "  <thead>\n",
       "    <tr style=\"text-align: right;\">\n",
       "      <th></th>\n",
       "      <th>id</th>\n",
       "      <th>surname</th>\n",
       "      <th>name</th>\n",
       "      <th>rating</th>\n",
       "      <th>res</th>\n",
       "    </tr>\n",
       "  </thead>\n",
       "  <tbody>\n",
       "    <tr>\n",
       "      <th>21619</th>\n",
       "      <td>36844</td>\n",
       "      <td>Щербина</td>\n",
       "      <td>Павел</td>\n",
       "      <td>855</td>\n",
       "      <td>0.951208</td>\n",
       "    </tr>\n",
       "    <tr>\n",
       "      <th>21625</th>\n",
       "      <td>51717</td>\n",
       "      <td>Джапаров</td>\n",
       "      <td>Ержан</td>\n",
       "      <td>2761</td>\n",
       "      <td>0.937103</td>\n",
       "    </tr>\n",
       "    <tr>\n",
       "      <th>21618</th>\n",
       "      <td>76264</td>\n",
       "      <td>Иваницкий</td>\n",
       "      <td>Илья</td>\n",
       "      <td>8125</td>\n",
       "      <td>0.934724</td>\n",
       "    </tr>\n",
       "    <tr>\n",
       "      <th>9513</th>\n",
       "      <td>224660</td>\n",
       "      <td>Байдуков</td>\n",
       "      <td>Валентин</td>\n",
       "      <td>0</td>\n",
       "      <td>0.932786</td>\n",
       "    </tr>\n",
       "    <tr>\n",
       "      <th>6696</th>\n",
       "      <td>108228</td>\n",
       "      <td>Резонтова</td>\n",
       "      <td>Наталья</td>\n",
       "      <td>286</td>\n",
       "      <td>0.932046</td>\n",
       "    </tr>\n",
       "    <tr>\n",
       "      <th>45348</th>\n",
       "      <td>32585</td>\n",
       "      <td>Улахович</td>\n",
       "      <td>Владимир</td>\n",
       "      <td>7590</td>\n",
       "      <td>0.923893</td>\n",
       "    </tr>\n",
       "    <tr>\n",
       "      <th>106480</th>\n",
       "      <td>73090</td>\n",
       "      <td>Третьяков</td>\n",
       "      <td>Кирилл</td>\n",
       "      <td>4675</td>\n",
       "      <td>0.919330</td>\n",
       "    </tr>\n",
       "    <tr>\n",
       "      <th>86969</th>\n",
       "      <td>169948</td>\n",
       "      <td>Павлов</td>\n",
       "      <td>Степан</td>\n",
       "      <td>75</td>\n",
       "      <td>0.915689</td>\n",
       "    </tr>\n",
       "    <tr>\n",
       "      <th>97218</th>\n",
       "      <td>201697</td>\n",
       "      <td>Бардин</td>\n",
       "      <td>Александр</td>\n",
       "      <td>1530</td>\n",
       "      <td>0.915094</td>\n",
       "    </tr>\n",
       "    <tr>\n",
       "      <th>4107</th>\n",
       "      <td>184250</td>\n",
       "      <td>Гудзь</td>\n",
       "      <td>Анна</td>\n",
       "      <td>1822</td>\n",
       "      <td>0.914087</td>\n",
       "    </tr>\n",
       "  </tbody>\n",
       "</table>\n",
       "</div>"
      ],
      "text/plain": [
       "            id    surname       name  rating       res\n",
       "21619    36844    Щербина      Павел     855  0.951208\n",
       "21625    51717   Джапаров      Ержан    2761  0.937103\n",
       "21618    76264  Иваницкий       Илья    8125  0.934724\n",
       "9513    224660   Байдуков   Валентин       0  0.932786\n",
       "6696    108228  Резонтова    Наталья     286  0.932046\n",
       "45348    32585   Улахович   Владимир    7590  0.923893\n",
       "106480   73090  Третьяков     Кирилл    4675  0.919330\n",
       "86969   169948     Павлов     Степан      75  0.915689\n",
       "97218   201697     Бардин  Александр    1530  0.915094\n",
       "4107    184250      Гудзь       Анна    1822  0.914087"
      ]
     },
     "execution_count": 77,
     "metadata": {},
     "output_type": "execute_result"
    }
   ],
   "source": [
    "final = details_test.sort_values(['res'], ascending = False)\n",
    "final.head(10)"
   ]
  },
  {
   "cell_type": "markdown",
   "metadata": {},
   "source": [
    "результаты как-то не сильно вдохновили:)"
   ]
  },
  {
   "cell_type": "code",
   "execution_count": null,
   "metadata": {},
   "outputs": [],
   "source": []
  }
 ],
 "metadata": {
  "kernelspec": {
   "display_name": "Python 3",
   "language": "python",
   "name": "python3"
  },
  "language_info": {
   "codemirror_mode": {
    "name": "ipython",
    "version": 3
   },
   "file_extension": ".py",
   "mimetype": "text/x-python",
   "name": "python",
   "nbconvert_exporter": "python",
   "pygments_lexer": "ipython3",
   "version": "3.7.6"
  }
 },
 "nbformat": 4,
 "nbformat_minor": 2
}
