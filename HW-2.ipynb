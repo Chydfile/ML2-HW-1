{
 "cells": [
  {
   "cell_type": "code",
   "execution_count": 1,
   "metadata": {},
   "outputs": [],
   "source": [
    "import plotly\n",
    "import math\n",
    "import plotly.graph_objs as go\n",
    "import plotly.express as px\n",
    "import matplotlib.pyplot as plt\n",
    "from plotly.subplots import make_subplots\n",
    "from collections import Counter, defaultdict\n",
    "import pandas as pd\n",
    "import numpy as np\n",
    "from timeit import default_timer as timer\n",
    "from sklearn.linear_model import LinearRegression\n",
    "from sklearn.linear_model import Ridge\n",
    "from pandas.io.json import json_normalize\n",
    "import warnings\n",
    "from sklearn.linear_model import LogisticRegression\n",
    "warnings.filterwarnings('ignore')"
   ]
  },
  {
   "cell_type": "code",
   "execution_count": 2,
   "metadata": {},
   "outputs": [],
   "source": [
    "import pickle\n",
    "with open('results.pkl', 'rb') as f:\n",
    "    data = pickle.load(f)"
   ]
  },
  {
   "cell_type": "code",
   "execution_count": 3,
   "metadata": {},
   "outputs": [],
   "source": [
    "tours = pd.read_pickle('tournaments.pkl')"
   ]
  },
  {
   "cell_type": "code",
   "execution_count": 4,
   "metadata": {},
   "outputs": [],
   "source": [
    "train_ids = []\n",
    "for key, value in tours.items():\n",
    "    if 'dateStart' in value and value['dateStart'][0:4] == '2019':\n",
    "        train_ids.append(key)"
   ]
  },
  {
   "cell_type": "code",
   "execution_count": 5,
   "metadata": {},
   "outputs": [],
   "source": [
    "test_ids = []\n",
    "for key, value in tours.items():\n",
    "    if 'dateStart' in value and value['dateStart'][0:4] == '2020':\n",
    "        test_ids.append(key)"
   ]
  },
  {
   "cell_type": "code",
   "execution_count": 6,
   "metadata": {},
   "outputs": [],
   "source": [
    "train = defaultdict(list)\n",
    "test = defaultdict(list)\n",
    "total = defaultdict(list)\n",
    "for key, i in data.items(): #номер игры\n",
    "    if key in train_ids:\n",
    "        for j in i: # команды\n",
    "            if 'mask' in j and j['mask'] is not None :\n",
    "                train[key].append(j)\n",
    "                total[key].append(j)\n",
    "    if key in test_ids:\n",
    "        for j in i: # команды\n",
    "            if 'mask' in j and j['mask'] is not None :\n",
    "                test[key].append(j)\n",
    "                total[key].append(j)"
   ]
  },
  {
   "cell_type": "code",
   "execution_count": 7,
   "metadata": {},
   "outputs": [],
   "source": [
    "cour = []\n",
    "player_ids = defaultdict(list)\n",
    "for key, value in train.items():\n",
    "    teams = {}\n",
    "    current = 0\n",
    "    for team_members in value:\n",
    "        for i in team_members:\n",
    "            if i == 'teamMembers':\n",
    "                if key in teams.keys():\n",
    "                    teams[key] += 1\n",
    "                    current  += 1\n",
    "                else:\n",
    "                    teams[key] = 1\n",
    "                    current  += 1\n",
    "    cour.append(current)\n",
    "        \n",
    "    "
   ]
  },
  {
   "cell_type": "markdown",
   "metadata": {},
   "source": [
    "player_ids = []\n",
    "for key, value in train.items():\n",
    "    for team_members in value:\n",
    "        for i in team_members:\n",
    "    for i in value['teamMembers']:\n",
    "        player_ids.append(i['player']['id'])\n",
    "player_ids_games_amount = Counter(player_ids)"
   ]
  },
  {
   "cell_type": "markdown",
   "metadata": {},
   "source": [
    "def split(word):\n",
    "    return [char for char in word]\n",
    "player_ids = []\n",
    "player_game = defaultdict(list)\n",
    "for key, value in train.items():\n",
    "    for teams in value:\n",
    "        for team in teams:\n",
    "            if team == 'mask':\n",
    "                result = teams[team]\n",
    "            if team == 'teamMembers':\n",
    "                for players in teams[team]:                \n",
    "                    player_ids.append(players['player'])\n",
    "                    player_game[key].append([players['player']['id'], result, len(result)])\n",
    "\n"
   ]
  },
  {
   "cell_type": "code",
   "execution_count": 8,
   "metadata": {},
   "outputs": [],
   "source": [
    "player_ids = []\n",
    "game_player = defaultdict(list)\n",
    "player_game = defaultdict(list)\n",
    "for key, value in train.items():\n",
    "    for teams in value:\n",
    "        for team in teams:\n",
    "            if team == 'mask':\n",
    "                result = teams[team]\n",
    "            if team == 'position':\n",
    "                position = teams[team]\n",
    "            if team == 'teamMembers':\n",
    "                for players in teams[team]:\n",
    "                    player_ids.append([players['player']['id'], players['player']['surname'], players['player']['name'], players['rating']])\n",
    "                    game_player[key].append([players['player']['id'], result,len(result), position, players['rating']])\n",
    "                    player_game[players['player']['id']].append([key, result, len(result), position, players['rating']])\n"
   ]
  },
  {
   "cell_type": "code",
   "execution_count": 9,
   "metadata": {},
   "outputs": [],
   "source": [
    "player_ids_test = []\n",
    "game_player_test = defaultdict(list)\n",
    "player_game_test = defaultdict(list)\n",
    "for key, value in test.items():\n",
    "    for teams in value:\n",
    "        for team in teams:\n",
    "            if team == 'mask':\n",
    "                result = teams[team]\n",
    "            if team == 'position':\n",
    "                position = teams[team]\n",
    "            if team == 'teamMembers':\n",
    "                for players in teams[team]:\n",
    "                    player_ids_test.append([players['player']['id'], players['player']['surname'], players['player']['name'], players['rating']])\n",
    "                    game_player_test[key].append([players['player']['id'], result,len(result), position, players['rating']])\n",
    "                    player_game_test[players['player']['id']].append([key, result, len(result), position, players['rating']])\n"
   ]
  },
  {
   "cell_type": "code",
   "execution_count": 10,
   "metadata": {},
   "outputs": [],
   "source": [
    "player_ids_total = []\n",
    "game_player_total = defaultdict(list)\n",
    "player_game_total = defaultdict(list)\n",
    "for key, value in total.items():\n",
    "    for teams in value:\n",
    "        for team in teams:\n",
    "            if team == 'mask':\n",
    "                result = teams[team]\n",
    "            if team == 'position':\n",
    "                position = teams[team]\n",
    "            if team == 'teamMembers':\n",
    "                for players in teams[team]:\n",
    "                    player_ids_total.append([players['player']['id'], players['player']['surname'], players['player']['name'], players['rating']])\n",
    "                    game_player_total[key].append([players['player']['id'], result,len(result), position, players['rating']])\n",
    "                    player_game_total[players['player']['id']].append([key, result, len(result), position, players['rating']])\n",
    "\n",
    "\n"
   ]
  },
  {
   "cell_type": "code",
   "execution_count": 11,
   "metadata": {},
   "outputs": [],
   "source": [
    "details = pd.DataFrame(player_ids)\n",
    "details_test = pd.DataFrame(player_ids_test)\n",
    "#details_total = pd.DataFrame(player_ids_total)"
   ]
  },
  {
   "cell_type": "code",
   "execution_count": 12,
   "metadata": {},
   "outputs": [],
   "source": [
    "columns = ['id', 'surname', 'name', 'rating']\n",
    "details.columns = columns\n",
    "details_test.columns = columns"
   ]
  },
  {
   "cell_type": "code",
   "execution_count": 13,
   "metadata": {},
   "outputs": [],
   "source": [
    "details = details.drop_duplicates(subset='id', keep='last')\n",
    "details = details.sort_values(by=['id'])\n",
    "details_test = details_test.drop_duplicates(subset='id', keep='last')\n",
    "details_test = details_test.sort_values(by=['id'])"
   ]
  },
  {
   "cell_type": "markdown",
   "metadata": {},
   "source": [
    "def predict(user_id):\n",
    "    inf = player_game[user_id]\n",
    "    counter = 0\n",
    "    list_of_answers = []\n",
    "    user_answer = 0\n",
    "    for row in inf:\n",
    "        for i, value in enumerate(row[1]):\n",
    "            if value not in [\"?\", \"X\"]:\n",
    "                counter += 1\n",
    "                user_answer += int(value)\n",
    "                list_of_answers.append(int(value))\n",
    "    return user_answer/counter"
   ]
  },
  {
   "cell_type": "code",
   "execution_count": 14,
   "metadata": {},
   "outputs": [],
   "source": [
    "def predict_1(user_id):\n",
    "    inf = player_game[user_id]\n",
    "    counter = 0\n",
    "    list_of_answers = []\n",
    "    user_answer = 0\n",
    "    game_counter = 0\n",
    "    for row in inf:\n",
    "        game_counter +=1\n",
    "        for i, value in enumerate(row[1]):\n",
    "            if value not in [\"?\", \"X\"]:\n",
    "                counter += 1\n",
    "                user_answer += int(value)\n",
    "                list_of_answers.append(int(value))\n",
    "    return game_counter, row[3], user_answer/counter, list_of_answers, row[4]"
   ]
  },
  {
   "cell_type": "code",
   "execution_count": 15,
   "metadata": {},
   "outputs": [],
   "source": [
    "def predict_2(user_id):\n",
    "    inf = player_game_test[user_id]\n",
    "    counter = 0\n",
    "    list_of_answers = []\n",
    "    user_answer = 0\n",
    "    game_counter = 0\n",
    "    for row in inf:\n",
    "        game_counter +=1\n",
    "        for i, value in enumerate(row[1]):\n",
    "            if value not in [\"?\", \"X\"]:\n",
    "                counter += 1\n",
    "                user_answer += int(value)\n",
    "                list_of_answers.append(int(value))\n",
    "    return game_counter, row[3], user_answer/counter, list_of_answers, row[4]"
   ]
  },
  {
   "cell_type": "code",
   "execution_count": 16,
   "metadata": {},
   "outputs": [],
   "source": [
    "def cases_user_x(user_id):\n",
    "    x_y_labels = predict_1(user_id)\n",
    "    y_train = np.array(x_y_labels[3]).reshape(-1,1)\n",
    "    #x_games = np.full((len(y_train), 1), x_y_labels[0])\n",
    "    #x_counter = np.full((len(y_train), 1), x_y_labels[1])\n",
    "    #x_prod = np.full((len(y_train), 1), x_y_labels[2])\n",
    "    x_train = np.full((len(y_train), 4), [x_y_labels[0],x_y_labels[1],x_y_labels[2], x_y_labels[4]])\n",
    "    return x_train\n",
    "def cases_user_y(user_id):\n",
    "    x_y_labels = predict_1(user_id)\n",
    "    y_train = np.array(x_y_labels[3]).reshape(-1,1)\n",
    "    return y_train\n",
    "##try only with probability of predicted values\n",
    "def cases_user_x_1(user_id):\n",
    "    x_y_labels = predict_1(user_id)\n",
    "    y_train = np.mean(x_y_labels[3])\n",
    "    #x_games = np.full((len(y_train), 1), x_y_labels[0])\n",
    "    #x_counter = np.full((len(y_train), 1), x_y_labels[1])\n",
    "    #x_prod = np.full((len(y_train), 1), x_y_labels[2])\n",
    "    x_train = np.full((1, 4), [x_y_labels[0],x_y_labels[1],x_y_labels[2], x_y_labels[4]])\n",
    "    return x_train\n",
    "def cases_user_y_1(user_id):\n",
    "    x_y_labels = predict_1(user_id)\n",
    "    y_train = np.mean(x_y_labels[3])\n",
    "    return y_train\n",
    "def cases_user_x_2(user_id):\n",
    "    x_y_labels = predict_2(user_id)\n",
    "    y_train = np.mean(x_y_labels[3])\n",
    "    #x_games = np.full((len(y_train), 1), x_y_labels[0])\n",
    "    #x_counter = np.full((len(y_train), 1), x_y_labels[1])\n",
    "    #x_prod = np.full((len(y_train), 1), x_y_labels[2])\n",
    "    x_train = np.full((1, 4), [x_y_labels[0],x_y_labels[1],x_y_labels[2], x_y_labels[4]])\n",
    "    return x_train\n",
    "def cases_user_y_2(user_id):\n",
    "    x_y_labels = predict_2(user_id)\n",
    "    y_train = np.mean(x_y_labels[3])\n",
    "    return y_train"
   ]
  },
  {
   "cell_type": "code",
   "execution_count": null,
   "metadata": {},
   "outputs": [],
   "source": [
    "X = np.vstack(list(map(cases_user_x_1, details['id'].sort_values())))\n",
    "y = np.vstack(list(map(cases_user_y_1, details['id'].sort_values())))"
   ]
  },
  {
   "cell_type": "code",
   "execution_count": null,
   "metadata": {},
   "outputs": [],
   "source": [
    "X_test = np.vstack(list(map(cases_user_x_2, details_test['id'].sort_values())))\n",
    "y_test = np.vstack(list(map(cases_user_y_2, details_test['id'].sort_values())))"
   ]
  },
  {
   "cell_type": "code",
   "execution_count": null,
   "metadata": {},
   "outputs": [],
   "source": [
    "from sklearn.preprocessing import StandardScaler"
   ]
  },
  {
   "cell_type": "code",
   "execution_count": null,
   "metadata": {},
   "outputs": [],
   "source": [
    "from sklearn.model_selection import train_test_split"
   ]
  },
  {
   "cell_type": "code",
   "execution_count": null,
   "metadata": {},
   "outputs": [],
   "source": [
    "scaler = StandardScaler()"
   ]
  },
  {
   "cell_type": "code",
   "execution_count": null,
   "metadata": {},
   "outputs": [],
   "source": [
    "X_norm = scaler.fit_transform(X)\n",
    "X_norm_test = scaler.fit_transform(X_test)"
   ]
  },
  {
   "cell_type": "code",
   "execution_count": null,
   "metadata": {},
   "outputs": [],
   "source": [
    "start = timer()\n",
    "model = LinearRegression()\n",
    "y = np.clip(y, 1e-8, 1 - 1e-8)\n",
    "inv_sig_y = np.log(y / (1 - y))  \n",
    "model.fit(X_norm, inv_sig_y)\n",
    "end = timer()\n",
    "print(end - start)"
   ]
  },
  {
   "cell_type": "code",
   "execution_count": null,
   "metadata": {},
   "outputs": [],
   "source": [
    "def sigmoid(x):\n",
    "    ex = np.exp(x)\n",
    "    return ex / (1 + ex)\n",
    "\n",
    "preds = sigmoid(model.predict(X_norm_test))"
   ]
  },
  {
   "cell_type": "code",
   "execution_count": null,
   "metadata": {},
   "outputs": [],
   "source": [
    "print (preds.shape)"
   ]
  },
  {
   "cell_type": "code",
   "execution_count": null,
   "metadata": {},
   "outputs": [],
   "source": [
    "y_test.shape"
   ]
  },
  {
   "cell_type": "code",
   "execution_count": null,
   "metadata": {},
   "outputs": [],
   "source": [
    "diff = y_test - preds\n"
   ]
  },
  {
   "cell_type": "code",
   "execution_count": 37,
   "metadata": {},
   "outputs": [
    {
     "data": {
      "image/png": "[encoded data removed]",
      "text/plain": [
       "<Figure size 432x288 with 1 Axes>"
      ]
     },
     "metadata": {
      "needs_background": "light"
     },
     "output_type": "display_data"
    }
   ],
   "source": [
    "diff\n",
    "plt.hist(diff)\n",
    "plt.show()"
   ]
  },
  {
   "cell_type": "code",
   "execution_count": 60,
   "metadata": {},
   "outputs": [
    {
     "data": {
      "text/html": [
       "<div>\n",
       "<style scoped>\n",
       "    .dataframe tbody tr th:only-of-type {\n",
       "        vertical-align: middle;\n",
       "    }\n",
       "\n",
       "    .dataframe tbody tr th {\n",
       "        vertical-align: top;\n",
       "    }\n",
       "\n",
       "    .dataframe thead th {\n",
       "        text-align: right;\n",
       "    }\n",
       "</style>\n",
       "<table border=\"1\" class=\"dataframe\">\n",
       "  <thead>\n",
       "    <tr style=\"text-align: right;\">\n",
       "      <th></th>\n",
       "      <th>id</th>\n",
       "      <th>surname</th>\n",
       "      <th>name</th>\n",
       "      <th>rating</th>\n",
       "      <th>res</th>\n",
       "    </tr>\n",
       "  </thead>\n",
       "  <tbody>\n",
       "    <tr>\n",
       "      <th>21619</th>\n",
       "      <td>36844</td>\n",
       "      <td>Щербина</td>\n",
       "      <td>Павел</td>\n",
       "      <td>855</td>\n",
       "      <td>0.951208</td>\n",
       "    </tr>\n",
       "    <tr>\n",
       "      <th>21625</th>\n",
       "      <td>51717</td>\n",
       "      <td>Джапаров</td>\n",
       "      <td>Ержан</td>\n",
       "      <td>2761</td>\n",
       "      <td>0.937103</td>\n",
       "    </tr>\n",
       "    <tr>\n",
       "      <th>21618</th>\n",
       "      <td>76264</td>\n",
       "      <td>Иваницкий</td>\n",
       "      <td>Илья</td>\n",
       "      <td>8125</td>\n",
       "      <td>0.934724</td>\n",
       "    </tr>\n",
       "    <tr>\n",
       "      <th>9513</th>\n",
       "      <td>224660</td>\n",
       "      <td>Байдуков</td>\n",
       "      <td>Валентин</td>\n",
       "      <td>0</td>\n",
       "      <td>0.932786</td>\n",
       "    </tr>\n",
       "    <tr>\n",
       "      <th>6696</th>\n",
       "      <td>108228</td>\n",
       "      <td>Резонтова</td>\n",
       "      <td>Наталья</td>\n",
       "      <td>286</td>\n",
       "      <td>0.932046</td>\n",
       "    </tr>\n",
       "    <tr>\n",
       "      <th>45348</th>\n",
       "      <td>32585</td>\n",
       "      <td>Улахович</td>\n",
       "      <td>Владимир</td>\n",
       "      <td>7590</td>\n",
       "      <td>0.923893</td>\n",
       "    </tr>\n",
       "    <tr>\n",
       "      <th>106480</th>\n",
       "      <td>73090</td>\n",
       "      <td>Третьяков</td>\n",
       "      <td>Кирилл</td>\n",
       "      <td>4675</td>\n",
       "      <td>0.919330</td>\n",
       "    </tr>\n",
       "    <tr>\n",
       "      <th>86969</th>\n",
       "      <td>169948</td>\n",
       "      <td>Павлов</td>\n",
       "      <td>Степан</td>\n",
       "      <td>75</td>\n",
       "      <td>0.915689</td>\n",
       "    </tr>\n",
       "    <tr>\n",
       "      <th>97218</th>\n",
       "      <td>201697</td>\n",
       "      <td>Бардин</td>\n",
       "      <td>Александр</td>\n",
       "      <td>1530</td>\n",
       "      <td>0.915094</td>\n",
       "    </tr>\n",
       "    <tr>\n",
       "      <th>4107</th>\n",
       "      <td>184250</td>\n",
       "      <td>Гудзь</td>\n",
       "      <td>Анна</td>\n",
       "      <td>1822</td>\n",
       "      <td>0.914087</td>\n",
       "    </tr>\n",
       "  </tbody>\n",
       "</table>\n",
       "</div>"
      ],
      "text/plain": [
       "            id    surname       name  rating       res\n",
       "21619    36844    Щербина      Павел     855  0.951208\n",
       "21625    51717   Джапаров      Ержан    2761  0.937103\n",
       "21618    76264  Иваницкий       Илья    8125  0.934724\n",
       "9513    224660   Байдуков   Валентин       0  0.932786\n",
       "6696    108228  Резонтова    Наталья     286  0.932046\n",
       "45348    32585   Улахович   Владимир    7590  0.923893\n",
       "106480   73090  Третьяков     Кирилл    4675  0.919330\n",
       "86969   169948     Павлов     Степан      75  0.915689\n",
       "97218   201697     Бардин  Александр    1530  0.915094\n",
       "4107    184250      Гудзь       Анна    1822  0.914087"
      ]
     },
     "execution_count": 60,
     "metadata": {},
     "output_type": "execute_result"
    }
   ],
   "source": [
    "final = details_test.sort_values(['res'], ascending = False)\n",
    "final.head(10)"
   ]
  },
  {
   "cell_type": "markdown",
   "metadata": {},
   "source": [
    "2 method"
   ]
  },
  {
   "cell_type": "code",
   "execution_count": 25,
   "metadata": {},
   "outputs": [],
   "source": [
    "vocab = {}\n",
    "\n",
    "for key, value in player_game_total.items():\n",
    "    count = 0\n",
    "    for i in value:\n",
    "        count += 1\n",
    "    vocab[key] = count"
   ]
  },
  {
   "cell_type": "code",
   "execution_count": 26,
   "metadata": {},
   "outputs": [
    {
     "data": {
      "image/png": "[encoded data removed]",
      "text/plain": [
       "<Figure size 432x288 with 1 Axes>"
      ]
     },
     "metadata": {
      "needs_background": "light"
     },
     "output_type": "display_data"
    }
   ],
   "source": [
    "plt.hist(vocab.values(), bins=10)\n",
    "plt.show()"
   ]
  },
  {
   "cell_type": "code",
   "execution_count": 27,
   "metadata": {},
   "outputs": [],
   "source": [
    "d = dict((k, v) for k, v in vocab.items() if v >= 10)"
   ]
  },
  {
   "cell_type": "code",
   "execution_count": 28,
   "metadata": {},
   "outputs": [],
   "source": [
    "vocab = d"
   ]
  },
  {
   "cell_type": "code",
   "execution_count": 29,
   "metadata": {},
   "outputs": [
    {
     "data": {
      "text/plain": [
       "13178"
      ]
     },
     "execution_count": 29,
     "metadata": {},
     "output_type": "execute_result"
    }
   ],
   "source": [
    "len(vocab)"
   ]
  },
  {
   "cell_type": "code",
   "execution_count": 30,
   "metadata": {},
   "outputs": [],
   "source": [
    "cour = {}\n",
    "player_ids = defaultdict(list)\n",
    "for key, value in train.items():\n",
    "    teams = {}\n",
    "    current = 0\n",
    "    for team_members in value:\n",
    "        for i in team_members:\n",
    "            if i == 'teamMembers':\n",
    "                if key in teams.keys():\n",
    "                    teams[key] += 1\n",
    "                    current  += 1\n",
    "                else:\n",
    "                    teams[key] = 1\n",
    "                    current  += 1\n",
    "    cour[key] = current\n",
    "        "
   ]
  },
  {
   "cell_type": "code",
   "execution_count": 31,
   "metadata": {},
   "outputs": [],
   "source": [
    "def games_to_user(game):\n",
    "    start = timer()\n",
    "    team_amount = cour[game]\n",
    "    inf = train[game]\n",
    "    game_rows = np.full((team_amount, len(vocab)), np.zeros(len(vocab)))\n",
    "    row_counter = 0\n",
    "    for teams in inf:\n",
    "        for team in teams:\n",
    "            if team == 'teamMembers':\n",
    "                for players in teams[team]:\n",
    "                    if players['player']['id'] in vocab.keys():\n",
    "                        game_rows[row_counter][vocab[players['player']['id']]] += 1\n",
    "        row_counter += 1\n",
    "    end = timer()\n",
    "    return game_rows"
   ]
  },
  {
   "cell_type": "code",
   "execution_count": 48,
   "metadata": {},
   "outputs": [],
   "source": [
    "total_game_mask = defaultdict(list)\n",
    "for key, i in data.items(): #номер игры\n",
    "    if key in train_ids:\n",
    "        for j in i: # команды\n",
    "            if 'mask' in j and j['mask'] is not None :\n",
    "                total_game_mask[key].append(j['mask'])\n",
    "    #if key in test_ids:\n",
    "    #    for j in i: # команды\n",
    "    #        if 'mask' in j and j['mask'] is not None :\n",
    "    #            total_game_mask[key].append(j['mask'])"
   ]
  },
  {
   "cell_type": "code",
   "execution_count": 33,
   "metadata": {},
   "outputs": [],
   "source": [
    "def pred(game):\n",
    "    inf = total_game_mask[game]\n",
    "    game_rows = np.full((len(inf), 1), 0.0)\n",
    "    counter = 0\n",
    "    for row in inf:\n",
    "        sum_list_of_answers = 0.0\n",
    "        count = 0.0\n",
    "        for value in row:\n",
    "            if value not in [\"?\", \"X\"]:\n",
    "                sum_list_of_answers += int(value)\n",
    "                count += 1\n",
    "        game_rows[counter] = sum_list_of_answers / count\n",
    "        counter += 1\n",
    "    return game_rows"
   ]
  },
  {
   "cell_type": "code",
   "execution_count": 34,
   "metadata": {},
   "outputs": [],
   "source": [
    "X_train_user = np.vstack(list(map(games_to_user, train.keys())))"
   ]
  },
  {
   "cell_type": "code",
   "execution_count": 35,
   "metadata": {},
   "outputs": [],
   "source": [
    "y_train_user = np.vstack(list(map(pred, train.keys())))"
   ]
  },
  {
   "cell_type": "code",
   "execution_count": 36,
   "metadata": {},
   "outputs": [
    {
     "name": "stdout",
     "output_type": "stream",
     "text": [
      "1344.55299408\n"
     ]
    }
   ],
   "source": [
    "start = timer()\n",
    "model = LinearRegression()\n",
    "y_train_user = np.clip(y_train_user, 1e-8, 1 - 1e-8)\n",
    "inv_sig_y = np.log(y_train_user / (1 - y_train_user))  \n",
    "model.fit(X_train_user, inv_sig_y)\n",
    "end = timer()\n",
    "print(end - start)"
   ]
  },
  {
   "cell_type": "code",
   "execution_count": 37,
   "metadata": {},
   "outputs": [],
   "source": [
    "def sigmoid(x):\n",
    "    ex = np.exp(x)\n",
    "    return ex / (1 + ex)\n",
    "\n",
    "preds = sigmoid(model.predict(X_train_user))"
   ]
  },
  {
   "cell_type": "code",
   "execution_count": 38,
   "metadata": {},
   "outputs": [],
   "source": [
    "diff = y_train_user - preds"
   ]
  },
  {
   "cell_type": "code",
   "execution_count": 58,
   "metadata": {},
   "outputs": [],
   "source": [
    "res = model.coef_.reshape(-1, 1)"
   ]
  },
  {
   "cell_type": "code",
   "execution_count": 41,
   "metadata": {},
   "outputs": [],
   "source": [
    "total = {}\n",
    "for i, j in enumerate(vocab.keys()):\n",
    "    total[j] = res[i]"
   ]
  },
  {
   "cell_type": "code",
   "execution_count": 44,
   "metadata": {},
   "outputs": [],
   "source": [
    "for_pd = dict(Counter(total).most_common(10))"
   ]
  },
  {
   "cell_type": "code",
   "execution_count": 45,
   "metadata": {},
   "outputs": [
    {
     "data": {
      "text/html": [
       "<div>\n",
       "<style scoped>\n",
       "    .dataframe tbody tr th:only-of-type {\n",
       "        vertical-align: middle;\n",
       "    }\n",
       "\n",
       "    .dataframe tbody tr th {\n",
       "        vertical-align: top;\n",
       "    }\n",
       "\n",
       "    .dataframe thead th {\n",
       "        text-align: right;\n",
       "    }\n",
       "</style>\n",
       "<table border=\"1\" class=\"dataframe\">\n",
       "  <thead>\n",
       "    <tr style=\"text-align: right;\">\n",
       "      <th></th>\n",
       "      <th>id</th>\n",
       "      <th>surname</th>\n",
       "      <th>name</th>\n",
       "      <th>rating</th>\n",
       "    </tr>\n",
       "  </thead>\n",
       "  <tbody>\n",
       "    <tr>\n",
       "      <th>439913</th>\n",
       "      <td>18332</td>\n",
       "      <td>Либер</td>\n",
       "      <td>Александр</td>\n",
       "      <td>14464</td>\n",
       "    </tr>\n",
       "    <tr>\n",
       "      <th>447681</th>\n",
       "      <td>1585</td>\n",
       "      <td>Архангельская</td>\n",
       "      <td>Юлия</td>\n",
       "      <td>13618</td>\n",
       "    </tr>\n",
       "    <tr>\n",
       "      <th>428107</th>\n",
       "      <td>15456</td>\n",
       "      <td>Коновалов</td>\n",
       "      <td>Сергей</td>\n",
       "      <td>13572</td>\n",
       "    </tr>\n",
       "    <tr>\n",
       "      <th>423332</th>\n",
       "      <td>18036</td>\n",
       "      <td>Левандовский</td>\n",
       "      <td>Михаил</td>\n",
       "      <td>13351</td>\n",
       "    </tr>\n",
       "    <tr>\n",
       "      <th>439818</th>\n",
       "      <td>12313</td>\n",
       "      <td>Иванченко</td>\n",
       "      <td>Сергей</td>\n",
       "      <td>13274</td>\n",
       "    </tr>\n",
       "    <tr>\n",
       "      <th>420715</th>\n",
       "      <td>26089</td>\n",
       "      <td>Прокофьева</td>\n",
       "      <td>Ирина</td>\n",
       "      <td>12877</td>\n",
       "    </tr>\n",
       "    <tr>\n",
       "      <th>445127</th>\n",
       "      <td>12747</td>\n",
       "      <td>Исраэлит</td>\n",
       "      <td>Валентин</td>\n",
       "      <td>12815</td>\n",
       "    </tr>\n",
       "    <tr>\n",
       "      <th>445128</th>\n",
       "      <td>31190</td>\n",
       "      <td>Тальянский</td>\n",
       "      <td>Илья</td>\n",
       "      <td>12768</td>\n",
       "    </tr>\n",
       "    <tr>\n",
       "      <th>447585</th>\n",
       "      <td>96642</td>\n",
       "      <td>Макагонов</td>\n",
       "      <td>Алексей</td>\n",
       "      <td>11479</td>\n",
       "    </tr>\n",
       "    <tr>\n",
       "      <th>440100</th>\n",
       "      <td>17230</td>\n",
       "      <td>Куликов</td>\n",
       "      <td>Егор</td>\n",
       "      <td>10655</td>\n",
       "    </tr>\n",
       "  </tbody>\n",
       "</table>\n",
       "</div>"
      ],
      "text/plain": [
       "           id        surname       name  rating\n",
       "439913  18332          Либер  Александр   14464\n",
       "447681   1585  Архангельская       Юлия   13618\n",
       "428107  15456      Коновалов     Сергей   13572\n",
       "423332  18036   Левандовский     Михаил   13351\n",
       "439818  12313      Иванченко     Сергей   13274\n",
       "420715  26089     Прокофьева      Ирина   12877\n",
       "445127  12747       Исраэлит   Валентин   12815\n",
       "445128  31190     Тальянский       Илья   12768\n",
       "447585  96642      Макагонов    Алексей   11479\n",
       "440100  17230        Куликов       Егор   10655"
      ]
     },
     "execution_count": 45,
     "metadata": {},
     "output_type": "execute_result"
    }
   ],
   "source": [
    "details[details['id'].isin(for_pd.keys())].sort_values(by='rating', ascending = False)"
   ]
  },
  {
   "cell_type": "code",
   "execution_count": 52,
   "metadata": {},
   "outputs": [],
   "source": [
    "cour_test = {}\n",
    "player_ids = defaultdict(list)\n",
    "for key, value in test.items():\n",
    "    teams = {}\n",
    "    current = 0\n",
    "    for team_members in value:\n",
    "        for i in team_members:\n",
    "            if i == 'teamMembers':\n",
    "                if key in teams.keys():\n",
    "                    teams[key] += 1\n",
    "                    current  += 1\n",
    "                else:\n",
    "                    teams[key] = 1\n",
    "                    current  += 1\n",
    "    cour_test[key] = current\n",
    "def games_to_user(game):\n",
    "    start = timer()\n",
    "    team_amount = cour_test[game]\n",
    "    inf = test[game]\n",
    "    game_rows = np.full((team_amount, len(vocab)), np.zeros(len(vocab)))\n",
    "    row_counter = 0\n",
    "    for teams in inf:\n",
    "        for team in teams:\n",
    "            if team == 'teamMembers':\n",
    "                for players in teams[team]:\n",
    "                    if players['player']['id'] in vocab.keys():\n",
    "                        game_rows[row_counter][vocab[players['player']['id']]] += 1\n",
    "        row_counter += 1\n",
    "    end = timer()\n",
    "    return game_rows\n",
    "total_game_mask = defaultdict(list)\n",
    "for key, i in data.items(): #номер игры\n",
    "    #if key in train_ids:\n",
    "    #    for j in i: # команды\n",
    "    #        if 'mask' in j and j['mask'] is not None :\n",
    "    #            total_game_mask[key].append(j['mask'])\n",
    "    if key in test_ids:\n",
    "        for j in i: # команды\n",
    "            if 'mask' in j and j['mask'] is not None :\n",
    "                total_game_mask[key].append(j['mask'])"
   ]
  },
  {
   "cell_type": "code",
   "execution_count": 51,
   "metadata": {},
   "outputs": [],
   "source": [
    "X_test_user = np.vstack(list(map(games_to_user, test.keys())))"
   ]
  },
  {
   "cell_type": "code",
   "execution_count": 54,
   "metadata": {},
   "outputs": [],
   "source": [
    "y_test_user = np.vstack(list(map(pred, test.keys())))"
   ]
  },
  {
   "cell_type": "code",
   "execution_count": 55,
   "metadata": {},
   "outputs": [],
   "source": [
    "preds = sigmoid(model.predict(X_test_user))"
   ]
  },
  {
   "cell_type": "code",
   "execution_count": 56,
   "metadata": {},
   "outputs": [],
   "source": [
    "vocab_test = {}\n",
    "\n",
    "for key, value in player_game_test.items():\n",
    "    count = 0\n",
    "    for i in value:\n",
    "        count += 1\n",
    "    vocab_test[key] = count"
   ]
  },
  {
   "cell_type": "code",
   "execution_count": 62,
   "metadata": {},
   "outputs": [],
   "source": [
    "d = dict((k, v) for k, v in vocab_test.items() if v >= 10)"
   ]
  },
  {
   "cell_type": "code",
   "execution_count": 63,
   "metadata": {},
   "outputs": [],
   "source": [
    "vocab_test = d"
   ]
  },
  {
   "cell_type": "code",
   "execution_count": 64,
   "metadata": {},
   "outputs": [],
   "source": [
    "total = {}\n",
    "for i, j in enumerate(vocab_test.keys()):\n",
    "    total[j] = res[i]"
   ]
  },
  {
   "cell_type": "code",
   "execution_count": 65,
   "metadata": {},
   "outputs": [],
   "source": [
    "for_pd = dict(Counter(total).most_common(10))"
   ]
  },
  {
   "cell_type": "code",
   "execution_count": 66,
   "metadata": {},
   "outputs": [
    {
     "data": {
      "text/html": [
       "<div>\n",
       "<style scoped>\n",
       "    .dataframe tbody tr th:only-of-type {\n",
       "        vertical-align: middle;\n",
       "    }\n",
       "\n",
       "    .dataframe tbody tr th {\n",
       "        vertical-align: top;\n",
       "    }\n",
       "\n",
       "    .dataframe thead th {\n",
       "        text-align: right;\n",
       "    }\n",
       "</style>\n",
       "<table border=\"1\" class=\"dataframe\">\n",
       "  <thead>\n",
       "    <tr style=\"text-align: right;\">\n",
       "      <th></th>\n",
       "      <th>id</th>\n",
       "      <th>surname</th>\n",
       "      <th>name</th>\n",
       "      <th>rating</th>\n",
       "    </tr>\n",
       "  </thead>\n",
       "  <tbody>\n",
       "    <tr>\n",
       "      <th>443608</th>\n",
       "      <td>30270</td>\n",
       "      <td>Спешков</td>\n",
       "      <td>Сергей</td>\n",
       "      <td>14560</td>\n",
       "    </tr>\n",
       "    <tr>\n",
       "      <th>443606</th>\n",
       "      <td>27822</td>\n",
       "      <td>Савченков</td>\n",
       "      <td>Михаил</td>\n",
       "      <td>14514</td>\n",
       "    </tr>\n",
       "    <tr>\n",
       "      <th>425646</th>\n",
       "      <td>27403</td>\n",
       "      <td>Руссо</td>\n",
       "      <td>Максим</td>\n",
       "      <td>14440</td>\n",
       "    </tr>\n",
       "    <tr>\n",
       "      <th>448012</th>\n",
       "      <td>4270</td>\n",
       "      <td>Брутер</td>\n",
       "      <td>Александра</td>\n",
       "      <td>13615</td>\n",
       "    </tr>\n",
       "    <tr>\n",
       "      <th>448083</th>\n",
       "      <td>34936</td>\n",
       "      <td>Чернышёв</td>\n",
       "      <td>Кирилл</td>\n",
       "      <td>13610</td>\n",
       "    </tr>\n",
       "    <tr>\n",
       "      <th>445456</th>\n",
       "      <td>89287</td>\n",
       "      <td>Середа</td>\n",
       "      <td>Алексей</td>\n",
       "      <td>12131</td>\n",
       "    </tr>\n",
       "    <tr>\n",
       "      <th>445591</th>\n",
       "      <td>39596</td>\n",
       "      <td>Лавренов</td>\n",
       "      <td>Александр</td>\n",
       "      <td>12126</td>\n",
       "    </tr>\n",
       "    <tr>\n",
       "      <th>440522</th>\n",
       "      <td>43356</td>\n",
       "      <td>Васильченко</td>\n",
       "      <td>Сергей</td>\n",
       "      <td>11857</td>\n",
       "    </tr>\n",
       "    <tr>\n",
       "      <th>417574</th>\n",
       "      <td>40390</td>\n",
       "      <td>Гордынец</td>\n",
       "      <td>Елена</td>\n",
       "      <td>10508</td>\n",
       "    </tr>\n",
       "    <tr>\n",
       "      <th>447024</th>\n",
       "      <td>148884</td>\n",
       "      <td>Скотт</td>\n",
       "      <td>Таня</td>\n",
       "      <td>8366</td>\n",
       "    </tr>\n",
       "  </tbody>\n",
       "</table>\n",
       "</div>"
      ],
      "text/plain": [
       "            id      surname        name  rating\n",
       "443608   30270      Спешков      Сергей   14560\n",
       "443606   27822    Савченков      Михаил   14514\n",
       "425646   27403        Руссо      Максим   14440\n",
       "448012    4270       Брутер  Александра   13615\n",
       "448083   34936     Чернышёв      Кирилл   13610\n",
       "445456   89287       Середа     Алексей   12131\n",
       "445591   39596     Лавренов   Александр   12126\n",
       "440522   43356  Васильченко      Сергей   11857\n",
       "417574   40390     Гордынец       Елена   10508\n",
       "447024  148884        Скотт        Таня    8366"
      ]
     },
     "execution_count": 66,
     "metadata": {},
     "output_type": "execute_result"
    }
   ],
   "source": [
    "details[details['id'].isin(for_pd.keys())].sort_values(by='rating', ascending = False)"
   ]
  },
  {
   "cell_type": "code",
   "execution_count": null,
   "metadata": {},
   "outputs": [],
   "source": []
  },
  {
   "cell_type": "code",
   "execution_count": null,
   "metadata": {},
   "outputs": [],
   "source": []
  },
  {
   "cell_type": "code",
   "execution_count": null,
   "metadata": {},
   "outputs": [],
   "source": []
  },
  {
   "cell_type": "code",
   "execution_count": null,
   "metadata": {},
   "outputs": [],
   "source": []
  },
  {
   "cell_type": "code",
   "execution_count": null,
   "metadata": {},
   "outputs": [],
   "source": []
  },
  {
   "cell_type": "code",
   "execution_count": 19,
   "metadata": {},
   "outputs": [
    {
     "name": "stdout",
     "output_type": "stream",
     "text": [
      "451783\n"
     ]
    }
   ],
   "source": [
    "a = 0\n",
    "for i in game_player.values():\n",
    "    a += len(i)\n",
    "print (a)"
   ]
  },
  {
   "cell_type": "code",
   "execution_count": 21,
   "metadata": {},
   "outputs": [
    {
     "data": {
      "text/plain": [
       "418"
      ]
     },
     "execution_count": 21,
     "metadata": {},
     "output_type": "execute_result"
    }
   ],
   "source": [
    "len(test_ids)"
   ]
  },
  {
   "cell_type": "code",
   "execution_count": 37,
   "metadata": {},
   "outputs": [],
   "source": [
    "X_train = np.stack(list(map(predict, details['id'].sort_values())))"
   ]
  },
  {
   "cell_type": "code",
   "execution_count": 38,
   "metadata": {},
   "outputs": [],
   "source": [
    "details['probability'] = X_train"
   ]
  },
  {
   "cell_type": "code",
   "execution_count": 39,
   "metadata": {},
   "outputs": [
    {
     "data": {
      "text/html": [
       "<div>\n",
       "<style scoped>\n",
       "    .dataframe tbody tr th:only-of-type {\n",
       "        vertical-align: middle;\n",
       "    }\n",
       "\n",
       "    .dataframe tbody tr th {\n",
       "        vertical-align: top;\n",
       "    }\n",
       "\n",
       "    .dataframe thead th {\n",
       "        text-align: right;\n",
       "    }\n",
       "</style>\n",
       "<table border=\"1\" class=\"dataframe\">\n",
       "  <thead>\n",
       "    <tr style=\"text-align: right;\">\n",
       "      <th></th>\n",
       "      <th>id</th>\n",
       "      <th>surname</th>\n",
       "      <th>name</th>\n",
       "      <th>rating</th>\n",
       "      <th>probability</th>\n",
       "    </tr>\n",
       "  </thead>\n",
       "  <tbody>\n",
       "    <tr>\n",
       "      <th>423138</th>\n",
       "      <td>15</td>\n",
       "      <td>Абарников</td>\n",
       "      <td>Олег</td>\n",
       "      <td>7841</td>\n",
       "      <td>0.360714</td>\n",
       "    </tr>\n",
       "    <tr>\n",
       "      <th>404455</th>\n",
       "      <td>16</td>\n",
       "      <td>Абасалиев</td>\n",
       "      <td>Азер</td>\n",
       "      <td>3301</td>\n",
       "      <td>0.551282</td>\n",
       "    </tr>\n",
       "    <tr>\n",
       "      <th>3763</th>\n",
       "      <td>23</td>\n",
       "      <td>Абащенко</td>\n",
       "      <td>Андрей</td>\n",
       "      <td>791</td>\n",
       "      <td>0.500000</td>\n",
       "    </tr>\n",
       "    <tr>\n",
       "      <th>443177</th>\n",
       "      <td>31</td>\n",
       "      <td>Абасова</td>\n",
       "      <td>Ситара</td>\n",
       "      <td>5752</td>\n",
       "      <td>0.444444</td>\n",
       "    </tr>\n",
       "    <tr>\n",
       "      <th>444079</th>\n",
       "      <td>35</td>\n",
       "      <td>Абгарян</td>\n",
       "      <td>Нарек</td>\n",
       "      <td>6717</td>\n",
       "      <td>0.520607</td>\n",
       "    </tr>\n",
       "    <tr>\n",
       "      <th>...</th>\n",
       "      <td>...</td>\n",
       "      <td>...</td>\n",
       "      <td>...</td>\n",
       "      <td>...</td>\n",
       "      <td>...</td>\n",
       "    </tr>\n",
       "    <tr>\n",
       "      <th>274000</th>\n",
       "      <td>7002</td>\n",
       "      <td>Гиззатуллин</td>\n",
       "      <td>Рафаэль</td>\n",
       "      <td>0</td>\n",
       "      <td>0.556025</td>\n",
       "    </tr>\n",
       "    <tr>\n",
       "      <th>448063</th>\n",
       "      <td>7006</td>\n",
       "      <td>Гиззатуллина</td>\n",
       "      <td>Гульнара</td>\n",
       "      <td>9841</td>\n",
       "      <td>0.520579</td>\n",
       "    </tr>\n",
       "    <tr>\n",
       "      <th>439909</th>\n",
       "      <td>7008</td>\n",
       "      <td>Гилёв</td>\n",
       "      <td>Алексей</td>\n",
       "      <td>13998</td>\n",
       "      <td>0.745618</td>\n",
       "    </tr>\n",
       "    <tr>\n",
       "      <th>45630</th>\n",
       "      <td>7014</td>\n",
       "      <td>Гиленко</td>\n",
       "      <td>Дмитрий</td>\n",
       "      <td>0</td>\n",
       "      <td>0.457143</td>\n",
       "    </tr>\n",
       "    <tr>\n",
       "      <th>341266</th>\n",
       "      <td>7021</td>\n",
       "      <td>Гильманов</td>\n",
       "      <td>Руслан</td>\n",
       "      <td>1001</td>\n",
       "      <td>0.191667</td>\n",
       "    </tr>\n",
       "  </tbody>\n",
       "</table>\n",
       "<p>1000 rows × 5 columns</p>\n",
       "</div>"
      ],
      "text/plain": [
       "          id       surname      name  rating  probability\n",
       "423138    15     Абарников      Олег    7841     0.360714\n",
       "404455    16     Абасалиев      Азер    3301     0.551282\n",
       "3763      23      Абащенко    Андрей     791     0.500000\n",
       "443177    31       Абасова    Ситара    5752     0.444444\n",
       "444079    35       Абгарян     Нарек    6717     0.520607\n",
       "...      ...           ...       ...     ...          ...\n",
       "274000  7002   Гиззатуллин   Рафаэль       0     0.556025\n",
       "448063  7006  Гиззатуллина  Гульнара    9841     0.520579\n",
       "439909  7008         Гилёв   Алексей   13998     0.745618\n",
       "45630   7014       Гиленко   Дмитрий       0     0.457143\n",
       "341266  7021     Гильманов    Руслан    1001     0.191667\n",
       "\n",
       "[1000 rows x 5 columns]"
      ]
     },
     "execution_count": 39,
     "metadata": {},
     "output_type": "execute_result"
    }
   ],
   "source": [
    "details.head(1000)"
   ]
  },
  {
   "cell_type": "code",
   "execution_count": null,
   "metadata": {},
   "outputs": [],
   "source": [
    "vocab = {}\n",
    "count = 0\n",
    "for key, value in game_player.items():\n",
    "    max_ln = 0\n",
    "    for i in value:\n",
    "        max_ln = max(max_ln, i[2])\n",
    "    for ind in range(0, max_ln):\n",
    "        vocab[str(key) + \" \" + str(ind)] = count\n",
    "        count += 1\n",
    "print (count)"
   ]
  },
  {
   "cell_type": "code",
   "execution_count": null,
   "metadata": {},
   "outputs": [],
   "source": [
    "def user_to_bow(user_id):\n",
    "    start = timer()\n",
    "    user_row = np.zeros(len(vocab))\n",
    "    inf = player_game[user_id]\n",
    "    for row in inf:\n",
    "        for i, value in enumerate(row[1]):\n",
    "            if value not in [\"?\", \"X\"]:\n",
    "                #print (i, value, len(row[1]), user_id, row[0])\n",
    "                user_row[vocab[str(row[0]) + \" \" + str(i)]] += int(value)\n",
    "    end = timer()\n",
    "    #print(end - start)\n",
    "    return user_row"
   ]
  },
  {
   "cell_type": "code",
   "execution_count": 575,
   "metadata": {},
   "outputs": [
    {
     "name": "stdout",
     "output_type": "stream",
     "text": [
      "<class 'pandas.core.frame.DataFrame'>\n",
      "Int64Index: 59101 entries, 56 to 451782\n",
      "Data columns (total 4 columns):\n",
      " #   Column   Non-Null Count  Dtype \n",
      "---  ------   --------------  ----- \n",
      " 0   id       59101 non-null  int64 \n",
      " 1   surname  59101 non-null  object\n",
      " 2   name     59101 non-null  object\n",
      " 3   rating   59101 non-null  int64 \n",
      "dtypes: int64(2), object(2)\n",
      "memory usage: 2.3+ MB\n"
     ]
    }
   ],
   "source": [
    "total.info()"
   ]
  },
  {
   "cell_type": "code",
   "execution_count": 579,
   "metadata": {},
   "outputs": [],
   "source": [
    "y_train = total['rating'].values"
   ]
  },
  {
   "cell_type": "code",
   "execution_count": 581,
   "metadata": {},
   "outputs": [],
   "source": [
    "X_train_tt, X_test_tt, y_train_val, y_test_val = train_test_split(\n",
    "X_train, y_train, test_size=0.33, random_state=42)"
   ]
  },
  {
   "cell_type": "code",
   "execution_count": null,
   "metadata": {},
   "outputs": [],
   "source": [
    "model = LogisticRegression()\n",
    "model.fit(X_train_tt, y_train_val)"
   ]
  },
  {
   "cell_type": "code",
   "execution_count": 82,
   "metadata": {},
   "outputs": [
    {
     "data": {
      "image/png": "[encoded data removed]",
      "text/plain": [
       "<Figure size 432x288 with 1 Axes>"
      ]
     },
     "metadata": {
      "needs_background": "light"
     },
     "output_type": "display_data"
    }
   ],
   "source": [
    "plt.hist(player_ids_games_amount.values())\n",
    "plt.show()"
   ]
  },
  {
   "cell_type": "markdown",
   "metadata": {},
   "source": [
    "train = defaultdict(list)\n",
    "test = defaultdict(list)\n",
    "for key, i in data.items(): #номер игры\n",
    "    if key == a:\n",
    "        print ('heu')\n",
    "        for j in i: # команды\n",
    "            print (j)\n",
    "            if 'mask' in j:\n",
    "                train[key].append(j)"
   ]
  },
  {
   "cell_type": "code",
   "execution_count": null,
   "metadata": {},
   "outputs": [],
   "source": []
  }
 ],
 "metadata": {
  "kernelspec": {
   "display_name": "Python 3",
   "language": "python",
   "name": "python3"
  },
  "language_info": {
   "codemirror_mode": {
    "name": "ipython",
    "version": 3
   },
   "file_extension": ".py",
   "mimetype": "text/x-python",
   "name": "python",
   "nbconvert_exporter": "python",
   "pygments_lexer": "ipython3",
   "version": "3.7.6"
  }
 },
 "nbformat": 4,
 "nbformat_minor": 2
}
