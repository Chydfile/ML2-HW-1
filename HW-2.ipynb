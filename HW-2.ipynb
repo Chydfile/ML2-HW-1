{
 "cells": [
  {
   "cell_type": "markdown",
   "metadata": {},
   "source": [
    "Импортируем библиотеки, считываем данные"
   ]
  },
  {
   "cell_type": "code",
   "execution_count": 1,
   "metadata": {},
   "outputs": [],
   "source": [
    "import plotly\n",
    "import math\n",
    "import plotly.graph_objs as go\n",
    "import plotly.express as px\n",
    "import matplotlib.pyplot as plt\n",
    "from plotly.subplots import make_subplots\n",
    "from collections import Counter, defaultdict\n",
    "import pandas as pd\n",
    "import numpy as np\n",
    "from timeit import default_timer as timer\n",
    "from sklearn.linear_model import LinearRegression\n",
    "from sklearn.linear_model import Ridge\n",
    "from pandas.io.json import json_normalize\n",
    "from scipy import stats\n",
    "from sklearn.preprocessing import StandardScaler\n",
    "from sklearn.model_selection import train_test_split\n",
    "import warnings\n",
    "from sklearn.linear_model import LogisticRegression\n",
    "warnings.filterwarnings('ignore')"
   ]
  },
  {
   "cell_type": "code",
   "execution_count": 2,
   "metadata": {},
   "outputs": [],
   "source": [
    "import pickle\n",
    "with open('results.pkl', 'rb') as f:\n",
    "    data = pickle.load(f)"
   ]
  },
  {
   "cell_type": "code",
   "execution_count": 3,
   "metadata": {},
   "outputs": [],
   "source": [
    "tours = pd.read_pickle('tournaments.pkl')"
   ]
  },
  {
   "cell_type": "markdown",
   "metadata": {},
   "source": [
    "Выбираем номера тестовых турниров и трейновых турниров в соответствии с годом"
   ]
  },
  {
   "cell_type": "markdown",
   "metadata": {},
   "source": [
    "# 1. Прочитайте и проанализируйте данные, выберите турниры, в которых есть данные о составах команд и повопросных результатах (поле mask в results.pkl). Для унификации предлагаю:\n",
    "взять в тренировочный набор турниры с dateStart из 2019 года; \n",
    "в тестовый — турниры с dateStart из 2020 года.\n"
   ]
  },
  {
   "cell_type": "code",
   "execution_count": 4,
   "metadata": {},
   "outputs": [],
   "source": [
    "train_ids = []\n",
    "for key, value in tours.items():\n",
    "    if 'dateStart' in value and value['dateStart'][0:4] == '2019':\n",
    "        train_ids.append(key)"
   ]
  },
  {
   "cell_type": "code",
   "execution_count": 5,
   "metadata": {},
   "outputs": [],
   "source": [
    "test_ids = []\n",
    "for key, value in tours.items():\n",
    "    if 'dateStart' in value and value['dateStart'][0:4] == '2020':\n",
    "        test_ids.append(key)"
   ]
  },
  {
   "cell_type": "markdown",
   "metadata": {},
   "source": [
    "Составляем словарь для тестовых и трейновых турниров, куда входят все команды, если у них сущестует информация о\n",
    "правильных/неправильных ответах:"
   ]
  },
  {
   "cell_type": "code",
   "execution_count": 6,
   "metadata": {},
   "outputs": [],
   "source": [
    "train = defaultdict(list)\n",
    "test = defaultdict(list)\n",
    "total = defaultdict(list)\n",
    "for key, i in data.items(): #номер игры\n",
    "    if key in train_ids:\n",
    "        for j in i: # команды\n",
    "            if 'mask' in j and j['mask'] is not None :\n",
    "                train[key].append(j)\n",
    "                total[key].append(j)\n",
    "    if key in test_ids:\n",
    "        for j in i: # команды\n",
    "            if 'mask' in j and j['mask'] is not None :\n",
    "                test[key].append(j)\n",
    "                total[key].append(j)"
   ]
  },
  {
   "cell_type": "markdown",
   "metadata": {},
   "source": [
    "Посчитаем сколько команд принимает участие в каждом турнире (при необходимости, выводится список)"
   ]
  },
  {
   "cell_type": "code",
   "execution_count": null,
   "metadata": {},
   "outputs": [],
   "source": [
    "cour = []\n",
    "player_ids = defaultdict(list)\n",
    "for key, value in train.items():\n",
    "    teams = {}\n",
    "    current = 0\n",
    "    for team_members in value:\n",
    "        for i in team_members:\n",
    "            if i == 'teamMembers':\n",
    "                if key in teams.keys():\n",
    "                    teams[key] += 1\n",
    "                    current  += 1\n",
    "                else:\n",
    "                    teams[key] = 1\n",
    "                    current  += 1\n",
    "    cour.append(current)\n",
    "        \n",
    "    "
   ]
  },
  {
   "cell_type": "markdown",
   "metadata": {},
   "source": [
    "Составим для трех выборок (трейн, тест, общий (тест + трейн)) список и два словаря. В списке ведется информация\n",
    "об игроках (позже конвертируется в пандас), в словарях ведется информация по 1) каждому игроку, в каких турнирах принимал\n",
    "участие, какие ответы дала его команда 2) каждой игре, играющих в ней игроках и ответы этих игроков"
   ]
  },
  {
   "cell_type": "code",
   "execution_count": 8,
   "metadata": {},
   "outputs": [],
   "source": [
    "player_ids = []\n",
    "game_player = defaultdict(list)\n",
    "player_game = defaultdict(list)\n",
    "for key, value in train.items():\n",
    "    for teams in value:\n",
    "        for team in teams:\n",
    "            if team == 'mask':\n",
    "                result = teams[team]\n",
    "            if team == 'position':\n",
    "                position = teams[team]\n",
    "            if team == 'teamMembers':\n",
    "                for players in teams[team]:\n",
    "                    player_ids.append([players['player']['id'], players['player']['surname'], players['player']['name'], players['rating']])\n",
    "                    game_player[key].append([players['player']['id'], result,len(result), position, players['rating']])\n",
    "                    player_game[players['player']['id']].append([key, result, len(result), position, players['rating']])\n"
   ]
  },
  {
   "cell_type": "code",
   "execution_count": 9,
   "metadata": {},
   "outputs": [],
   "source": [
    "player_ids_test = []\n",
    "game_player_test = defaultdict(list)\n",
    "player_game_test = defaultdict(list)\n",
    "for key, value in test.items():\n",
    "    for teams in value:\n",
    "        for team in teams:\n",
    "            if team == 'mask':\n",
    "                result = teams[team]\n",
    "            if team == 'position':\n",
    "                position = teams[team]\n",
    "            if team == 'teamMembers':\n",
    "                for players in teams[team]:\n",
    "                    player_ids_test.append([players['player']['id'], players['player']['surname'], players['player']['name'], players['rating']])\n",
    "                    game_player_test[key].append([players['player']['id'], result,len(result), position, players['rating']])\n",
    "                    player_game_test[players['player']['id']].append([key, result, len(result), position, players['rating']])\n"
   ]
  },
  {
   "cell_type": "code",
   "execution_count": 10,
   "metadata": {},
   "outputs": [],
   "source": [
    "player_ids_total = []\n",
    "game_player_total = defaultdict(list)\n",
    "player_game_total = defaultdict(list)\n",
    "for key, value in total.items():\n",
    "    for teams in value:\n",
    "        for team in teams:\n",
    "            if team == 'mask':\n",
    "                result = teams[team]\n",
    "            if team == 'position':\n",
    "                position = teams[team]\n",
    "            if team == 'teamMembers':\n",
    "                for players in teams[team]:\n",
    "                    player_ids_total.append([players['player']['id'], players['player']['surname'], players['player']['name'], players['rating']])\n",
    "                    game_player_total[key].append([players['player']['id'], result,len(result), position, players['rating']])\n",
    "                    player_game_total[players['player']['id']].append([key, result, len(result), position, players['rating']])\n",
    "\n",
    "\n"
   ]
  },
  {
   "cell_type": "markdown",
   "metadata": {},
   "source": [
    "Перебросим данные по участникам в Пандас, потом можно будет глянуть, какие игроки попали в ТОП-15."
   ]
  },
  {
   "cell_type": "code",
   "execution_count": 11,
   "metadata": {},
   "outputs": [],
   "source": [
    "details = pd.DataFrame(player_ids)\n",
    "details_test = pd.DataFrame(player_ids_test)\n",
    "details_total = pd.DataFrame(player_ids_total)"
   ]
  },
  {
   "cell_type": "code",
   "execution_count": 12,
   "metadata": {},
   "outputs": [],
   "source": [
    "columns = ['id', 'surname', 'name', 'rating']\n",
    "details.columns = columns\n",
    "details_test.columns = columns"
   ]
  },
  {
   "cell_type": "markdown",
   "metadata": {},
   "source": [
    "Поскольку участники играли больше одного раза, удалим дубликаты"
   ]
  },
  {
   "cell_type": "code",
   "execution_count": 13,
   "metadata": {},
   "outputs": [],
   "source": [
    "details = details.drop_duplicates(subset='id', keep='last')\n",
    "details = details.sort_values(by=['id'])\n",
    "details_test = details_test.drop_duplicates(subset='id', keep='last')\n",
    "details_test = details_test.sort_values(by=['id'])"
   ]
  },
  {
   "cell_type": "markdown",
   "metadata": {},
   "source": [
    "# 2. Постройте baseline-модель на основе линейной или логистической регрессии, которая будет обучать рейтинг-лист игроков. Замечания и подсказки:\n"
   ]
  },
  {
   "cell_type": "markdown",
   "metadata": {},
   "source": [
    "Составим словарь всех участников"
   ]
  },
  {
   "cell_type": "code",
   "execution_count": 14,
   "metadata": {},
   "outputs": [],
   "source": [
    "vocab = {}\n",
    "\n",
    "for key, value in player_game_total.items():\n",
    "    count = 0\n",
    "    for i in value:\n",
    "        count += 1\n",
    "    vocab[key] = count"
   ]
  },
  {
   "cell_type": "markdown",
   "metadata": {},
   "source": [
    "Вот тут будет нехорошая вещь, но мне пришлось обрезать список фич, иначе модель умирала при подсчетах. Да,\n",
    "правильнее решение было бы урезать объем выборки, но это, к сожалению не помогало, модель умирала во время подсчета \n",
    "при полном словаре участников. Поэтому я взяла участников, которые сыграли как минимум 7 раз за 2 года"
   ]
  },
  {
   "cell_type": "code",
   "execution_count": 16,
   "metadata": {},
   "outputs": [],
   "source": [
    "d = dict((k, v) for k, v in vocab.items() if v >= 7)"
   ]
  },
  {
   "cell_type": "code",
   "execution_count": 17,
   "metadata": {},
   "outputs": [],
   "source": [
    "vocab = d"
   ]
  },
  {
   "cell_type": "code",
   "execution_count": 18,
   "metadata": {},
   "outputs": [
    {
     "data": {
      "text/plain": [
       "17563"
      ]
     },
     "execution_count": 18,
     "metadata": {},
     "output_type": "execute_result"
    }
   ],
   "source": [
    "len(vocab)"
   ]
  },
  {
   "cell_type": "markdown",
   "metadata": {},
   "source": [
    "Составим словарь из количества команд и количества сыгранных игр, понадобится при будущих расчетах:"
   ]
  },
  {
   "cell_type": "code",
   "execution_count": 19,
   "metadata": {},
   "outputs": [],
   "source": [
    "cour = {}\n",
    "player_ids = defaultdict(list)\n",
    "for key, value in train.items():\n",
    "    teams = {}\n",
    "    current = 0\n",
    "    for team_members in value:\n",
    "        for i in team_members:\n",
    "            if i == 'teamMembers':\n",
    "                if key in teams.keys():\n",
    "                    teams[key] += 1\n",
    "                    current  += 1\n",
    "                else:\n",
    "                    teams[key] = 1\n",
    "                    current  += 1\n",
    "    cour[key] = current\n",
    "        "
   ]
  },
  {
   "cell_type": "markdown",
   "metadata": {},
   "source": [
    "Несколько вспомогательных функций, чтобы построить \"мешок\" участников, подробности чуть ниже"
   ]
  },
  {
   "cell_type": "code",
   "execution_count": 20,
   "metadata": {},
   "outputs": [],
   "source": [
    "def games_to_user(game):\n",
    "    start = timer()\n",
    "    team_amount = cour[game]\n",
    "    inf = train[game]\n",
    "    game_rows = np.full((team_amount, len(vocab)), np.zeros(len(vocab)))\n",
    "    row_counter = 0\n",
    "    for teams in inf:\n",
    "        for team in teams:\n",
    "            if team == 'teamMembers':\n",
    "                for players in teams[team]:\n",
    "                    if players['player']['id'] in vocab.keys():\n",
    "                        game_rows[row_counter][vocab[players['player']['id']]] += 1\n",
    "        row_counter += 1\n",
    "    end = timer()\n",
    "    return game_rows"
   ]
  },
  {
   "cell_type": "code",
   "execution_count": 21,
   "metadata": {},
   "outputs": [],
   "source": [
    "total_game_mask = defaultdict(list)\n",
    "for key, i in data.items(): #номер игры\n",
    "    if key in train_ids:\n",
    "        for j in i: # команды\n",
    "            if 'mask' in j and j['mask'] is not None :\n",
    "                total_game_mask[key].append(j['mask'])"
   ]
  },
  {
   "cell_type": "code",
   "execution_count": 22,
   "metadata": {},
   "outputs": [],
   "source": [
    "def pred(game):\n",
    "    inf = total_game_mask[game]\n",
    "    game_rows = np.full((len(inf), 1), 0.0)\n",
    "    counter = 0\n",
    "    for row in inf:\n",
    "        sum_list_of_answers = 0.0\n",
    "        count = 0.0\n",
    "        for value in row:\n",
    "            if value not in [\"?\", \"X\"]:\n",
    "                sum_list_of_answers += int(value)\n",
    "                count += 1\n",
    "        game_rows[counter] = sum_list_of_answers / count\n",
    "        counter += 1\n",
    "    return game_rows"
   ]
  },
  {
   "cell_type": "markdown",
   "metadata": {},
   "source": [
    "Дальше составим матрицу Х - признаков. В колонках - участники (17653), по строкам идут игры в команде. То есть,\n",
    "в одной строке имеем единицы для участников, которые играли в этой команде в этом турните. В остальных местах - 0. \n",
    "Матрица размерности (количество участников * количество комбинаций команда - игра)"
   ]
  },
  {
   "cell_type": "code",
   "execution_count": 25,
   "metadata": {},
   "outputs": [],
   "source": [
    "X_train_user = np.vstack(list(map(games_to_user, train.keys())))"
   ]
  },
  {
   "cell_type": "markdown",
   "metadata": {},
   "source": [
    "В качестве у мы возьмем долю правильных ответов команды в соответствующей игре"
   ]
  },
  {
   "cell_type": "code",
   "execution_count": 26,
   "metadata": {},
   "outputs": [],
   "source": [
    "y_train_user = np.vstack(list(map(pred, train.keys())))"
   ]
  },
  {
   "cell_type": "markdown",
   "metadata": {},
   "source": [
    "Запускаем линейную регрессию, преобразовываем ее выход, чтобы при предсказании Х выдавалась вероятность (сейчас\n",
    "это не так важно, важно было бы, если бы хотели оценить ошибку предсказнных вероятностей) "
   ]
  },
  {
   "cell_type": "code",
   "execution_count": 27,
   "metadata": {},
   "outputs": [
    {
     "name": "stdout",
     "output_type": "stream",
     "text": [
      "3344.7203913810004\n"
     ]
    }
   ],
   "source": [
    "start = timer()\n",
    "model = LinearRegression()\n",
    "y_train_user = np.clip(y_train_user, 1e-8, 1 - 1e-8)\n",
    "inv_sig_y = np.log(y_train_user / (1 - y_train_user))  \n",
    "model.fit(X_train_user, inv_sig_y)\n",
    "end = timer()\n",
    "print(end - start)"
   ]
  },
  {
   "cell_type": "code",
   "execution_count": 29,
   "metadata": {},
   "outputs": [],
   "source": [
    "def sigmoid(x):\n",
    "    ex = np.exp(x)\n",
    "    return ex / (1 + ex)\n",
    "\n",
    "preds = sigmoid(model.predict(X_train_user))"
   ]
  },
  {
   "cell_type": "code",
   "execution_count": 30,
   "metadata": {},
   "outputs": [],
   "source": [
    "diff = y_train_user - preds"
   ]
  },
  {
   "cell_type": "markdown",
   "metadata": {},
   "source": [
    "А вот коэффициенты регрессии важны для нас в этой задаче, поскольку под ними подразумевается \"сила\" игрока:\n",
    "чем больше коэффициент, тем сильнее игрок (и больше вероятность ответа на вопрос)"
   ]
  },
  {
   "cell_type": "code",
   "execution_count": 100,
   "metadata": {},
   "outputs": [],
   "source": [
    "res = model.coef_.reshape(-1, 1)"
   ]
  },
  {
   "cell_type": "code",
   "execution_count": 116,
   "metadata": {},
   "outputs": [],
   "source": [
    "tot = {}\n",
    "for i, j in enumerate(vocab.keys()):\n",
    "    tot[j] = res[i]"
   ]
  },
  {
   "cell_type": "markdown",
   "metadata": {},
   "source": [
    "Найдем 15 самых сильных игроков по версии нашей модели, добавим их в пандас, посмотрим для интереса на рейтинг\n",
    "соответствующих участников. Результаты не идеальны, есть куда стремиться. Но я понимаю, что как минимум убрала большое\n",
    "количество участников из рассмотрения."
   ]
  },
  {
   "cell_type": "code",
   "execution_count": 117,
   "metadata": {},
   "outputs": [],
   "source": [
    "for_pd = dict(Counter(tot).most_common(15))"
   ]
  },
  {
   "cell_type": "code",
   "execution_count": 118,
   "metadata": {},
   "outputs": [
    {
     "data": {
      "text/html": [
       "<div>\n",
       "<style scoped>\n",
       "    .dataframe tbody tr th:only-of-type {\n",
       "        vertical-align: middle;\n",
       "    }\n",
       "\n",
       "    .dataframe tbody tr th {\n",
       "        vertical-align: top;\n",
       "    }\n",
       "\n",
       "    .dataframe thead th {\n",
       "        text-align: right;\n",
       "    }\n",
       "</style>\n",
       "<table border=\"1\" class=\"dataframe\">\n",
       "  <thead>\n",
       "    <tr style=\"text-align: right;\">\n",
       "      <th></th>\n",
       "      <th>id</th>\n",
       "      <th>surname</th>\n",
       "      <th>name</th>\n",
       "      <th>rating</th>\n",
       "    </tr>\n",
       "  </thead>\n",
       "  <tbody>\n",
       "    <tr>\n",
       "      <th>439913</th>\n",
       "      <td>18332</td>\n",
       "      <td>Либер</td>\n",
       "      <td>Александр</td>\n",
       "      <td>14464</td>\n",
       "    </tr>\n",
       "    <tr>\n",
       "      <th>447681</th>\n",
       "      <td>1585</td>\n",
       "      <td>Архангельская</td>\n",
       "      <td>Юлия</td>\n",
       "      <td>13618</td>\n",
       "    </tr>\n",
       "    <tr>\n",
       "      <th>428436</th>\n",
       "      <td>6212</td>\n",
       "      <td>Выменец</td>\n",
       "      <td>Юрий</td>\n",
       "      <td>13572</td>\n",
       "    </tr>\n",
       "    <tr>\n",
       "      <th>439823</th>\n",
       "      <td>110920</td>\n",
       "      <td>Дворянчиков</td>\n",
       "      <td>Алексей</td>\n",
       "      <td>13436</td>\n",
       "    </tr>\n",
       "    <tr>\n",
       "      <th>439821</th>\n",
       "      <td>47521</td>\n",
       "      <td>Декалов</td>\n",
       "      <td>Владислав</td>\n",
       "      <td>13113</td>\n",
       "    </tr>\n",
       "    <tr>\n",
       "      <th>443111</th>\n",
       "      <td>27009</td>\n",
       "      <td>Рождествин</td>\n",
       "      <td>Александр</td>\n",
       "      <td>11933</td>\n",
       "    </tr>\n",
       "    <tr>\n",
       "      <th>447459</th>\n",
       "      <td>15152</td>\n",
       "      <td>Колмаков</td>\n",
       "      <td>Игорь</td>\n",
       "      <td>11559</td>\n",
       "    </tr>\n",
       "    <tr>\n",
       "      <th>447934</th>\n",
       "      <td>54574</td>\n",
       "      <td>Карясов</td>\n",
       "      <td>Александр</td>\n",
       "      <td>11181</td>\n",
       "    </tr>\n",
       "    <tr>\n",
       "      <th>440101</th>\n",
       "      <td>20397</td>\n",
       "      <td>Мачевский</td>\n",
       "      <td>Александр</td>\n",
       "      <td>10984</td>\n",
       "    </tr>\n",
       "    <tr>\n",
       "      <th>440792</th>\n",
       "      <td>94673</td>\n",
       "      <td>Липодат</td>\n",
       "      <td>Борис</td>\n",
       "      <td>9967</td>\n",
       "    </tr>\n",
       "    <tr>\n",
       "      <th>188999</th>\n",
       "      <td>21374</td>\n",
       "      <td>Мозолевский</td>\n",
       "      <td>Михаил</td>\n",
       "      <td>9578</td>\n",
       "    </tr>\n",
       "    <tr>\n",
       "      <th>443786</th>\n",
       "      <td>22438</td>\n",
       "      <td>Некипелов</td>\n",
       "      <td>Дмитрий</td>\n",
       "      <td>9279</td>\n",
       "    </tr>\n",
       "    <tr>\n",
       "      <th>440988</th>\n",
       "      <td>125147</td>\n",
       "      <td>Крупин</td>\n",
       "      <td>Сергей</td>\n",
       "      <td>8057</td>\n",
       "    </tr>\n",
       "    <tr>\n",
       "      <th>440996</th>\n",
       "      <td>188880</td>\n",
       "      <td>Касимов</td>\n",
       "      <td>Ильяс</td>\n",
       "      <td>6139</td>\n",
       "    </tr>\n",
       "    <tr>\n",
       "      <th>446928</th>\n",
       "      <td>64776</td>\n",
       "      <td>Попова</td>\n",
       "      <td>Александра</td>\n",
       "      <td>5734</td>\n",
       "    </tr>\n",
       "  </tbody>\n",
       "</table>\n",
       "</div>"
      ],
      "text/plain": [
       "            id        surname        name  rating\n",
       "439913   18332          Либер   Александр   14464\n",
       "447681    1585  Архангельская        Юлия   13618\n",
       "428436    6212        Выменец        Юрий   13572\n",
       "439823  110920    Дворянчиков     Алексей   13436\n",
       "439821   47521        Декалов   Владислав   13113\n",
       "443111   27009     Рождествин   Александр   11933\n",
       "447459   15152       Колмаков       Игорь   11559\n",
       "447934   54574        Карясов   Александр   11181\n",
       "440101   20397      Мачевский   Александр   10984\n",
       "440792   94673        Липодат       Борис    9967\n",
       "188999   21374    Мозолевский      Михаил    9578\n",
       "443786   22438      Некипелов     Дмитрий    9279\n",
       "440988  125147         Крупин      Сергей    8057\n",
       "440996  188880        Касимов       Ильяс    6139\n",
       "446928   64776         Попова  Александра    5734"
      ]
     },
     "execution_count": 118,
     "metadata": {},
     "output_type": "execute_result"
    }
   ],
   "source": [
    "details[details['id'].isin(for_pd.keys())].sort_values(by='rating', ascending = False)"
   ]
  },
  {
   "cell_type": "markdown",
   "metadata": {},
   "source": [
    "# 3. Качество рейтинг-системы оценивается качеством предсказаний результатов турниров. Но сами повопросные результаты наши модели предсказывать вряд ли смогут, ведь неизвестно, насколько сложными окажутся вопросы в будущих турнирах; да и не нужны эти предсказания сами по себе. Поэтому:\n",
    "предложите способ предсказать результаты нового турнира с известными составами, но неизвестными вопросами, в виде ранжирования команд;\n"
   ]
  },
  {
   "cell_type": "markdown",
   "metadata": {},
   "source": [
    "Вспомогательные функции, чтобы для 2020 года взять команды, сложить силы их игроков (соответствующие коэффициенты\n",
    "регрессии) и сравнить с действительным результатами по позициям для данной игры (поле position в results)"
   ]
  },
  {
   "cell_type": "code",
   "execution_count": 106,
   "metadata": {},
   "outputs": [],
   "source": [
    "cour_test = {}\n",
    "player_ids = defaultdict(list)\n",
    "for key, value in test.items():\n",
    "    teams = {}\n",
    "    current = 0\n",
    "    for team_members in value:\n",
    "        for i in team_members:\n",
    "            if i == 'teamMembers':\n",
    "                if key in teams.keys():\n",
    "                    teams[key] += 1\n",
    "                    current  += 1\n",
    "                else:\n",
    "                    teams[key] = 1\n",
    "                    current  += 1\n",
    "    cour_test[key] = current\n",
    "def games_to_user(game):\n",
    "    start = timer()\n",
    "    team_amount = cour_test[game]\n",
    "    inf = test[game]\n",
    "    game_rows = np.full((team_amount, len(vocab)), np.zeros(len(vocab)))\n",
    "    row_counter = 0\n",
    "    team_position = np.full((team_amount, 1), 0)\n",
    "    for teams in inf:\n",
    "        for team in teams:\n",
    "            if team == 'teamMembers':\n",
    "                for players in teams[team]:\n",
    "                    if players['player']['id'] in vocab.keys():\n",
    "                        game_rows[row_counter][vocab[players['player']['id']]] += 1\n",
    "        row_counter += 1\n",
    "    end = timer()\n",
    "    return game_rows\n",
    "total_game_mask = defaultdict(list)\n",
    "for key, i in data.items(): #номер игры\n",
    "    if key in test_ids:\n",
    "        for j in i: # команды\n",
    "            if 'mask' in j and j['mask'] is not None :\n",
    "                total_game_mask[key].append(j['mask'])\n",
    "def games_ranking(game):\n",
    "    start = timer()\n",
    "    team_amount = cour_test[game]\n",
    "    inf = test[game]\n",
    "    game_rows = np.full((team_amount, len(vocab)), np.zeros(len(vocab)))\n",
    "    row_counter = 0\n",
    "    team_position = np.full((team_amount, 1), 0)\n",
    "    for teams in inf:\n",
    "        for team in teams:\n",
    "            if team == 'teamMembers':\n",
    "                for players in teams[team]:\n",
    "                    if players['player']['id'] in vocab.keys():\n",
    "                        game_rows[row_counter][vocab[players['player']['id']]] += 1\n",
    "            if team == 'position':\n",
    "                team_position[row_counter] = teams[team]\n",
    "                #print (teams[team])\n",
    "        row_counter += 1\n",
    "    end = timer()\n",
    "    current_ranking = np.dot(game_rows, res)\n",
    "    return current_ranking,  team_position\n",
    "total_game_mask = defaultdict(list)\n",
    "for key, i in data.items(): #номер игры\n",
    "    if key in test_ids:\n",
    "        for j in i: # команды\n",
    "            if 'mask' in j and j['mask'] is not None :\n",
    "                total_game_mask[key].append(j['mask'])"
   ]
  },
  {
   "cell_type": "markdown",
   "metadata": {},
   "source": [
    "усредненная корреляция Спирмена"
   ]
  },
  {
   "cell_type": "code",
   "execution_count": 125,
   "metadata": {},
   "outputs": [
    {
     "name": "stdout",
     "output_type": "stream",
     "text": [
      "0.6033579289592746\n"
     ]
    }
   ],
   "source": [
    "total = 0\n",
    "count = 0\n",
    "for i in test.keys():\n",
    "    ranking, actual_pos = np.vstack(list(map(games_ranking, [i])))\n",
    "    spear_stst = stats.spearmanr(ranking, actual_pos)\n",
    "    if math.isnan(spear_stst.correlation) == False:\n",
    "        total += spear_stst.correlation\n",
    "        count +=1\n",
    "print (abs(total/count))"
   ]
  },
  {
   "cell_type": "markdown",
   "metadata": {},
   "source": [
    "усредненная корреляция Кендалла"
   ]
  },
  {
   "cell_type": "code",
   "execution_count": 108,
   "metadata": {},
   "outputs": [
    {
     "name": "stdout",
     "output_type": "stream",
     "text": [
      "0.4535306380641268\n"
     ]
    }
   ],
   "source": [
    "total = 0\n",
    "count = 0\n",
    "for i in test.keys():\n",
    "    ranking, actual_pos = np.vstack(list(map(games_ranking, [i])))\n",
    "    kendall_stst = stats.kendalltau(ranking, actual_pos)\n",
    "    if math.isnan(kendall_stst.correlation) == False:\n",
    "        total += kendall_stst.correlation\n",
    "        count +=1\n",
    "print (abs(total/count))"
   ]
  },
  {
   "cell_type": "markdown",
   "metadata": {},
   "source": [
    "Средний результат. Но тут опять же надо понимать, что я убрала определенных игроков из списка фич, поэтому данный \n",
    "игрок не вносит вклад в команду, и это приводит к смещениям."
   ]
  },
  {
   "cell_type": "markdown",
   "metadata": {},
   "source": [
    "# 4.Теперь главное: ЧГК — это всё-таки командная игра. Поэтому:\n",
    "предложите способ учитывать то, что на вопрос отвечают сразу несколько игроков;"
   ]
  },
  {
   "cell_type": "markdown",
   "metadata": {},
   "source": [
    "Для меня основная идея была схожа с игрой с подбрасыванием монетки, когда есть несколько монет (они могут быть\n",
    "ассиметричными), и нам на основании полученных серий необходимо понять, какую именно монетку подбрасывали.\n",
    "В нашем случае получается, что в 1 серии только 1 подброс монетки - ответ на вопрос, а монеток по факту у нас 6 шесть\n",
    "(шесть игроков в ЧГК). Таким образом, с помощью ЕМ алгоритма можно попробовать предсказать вероятность ответа игрока на\n",
    "данный вопрос. А череда вопросов - одна игра - это итерации, после которых можно получить обновленные вероятности того, что игрок правильно ответит на следующий вопрос"
   ]
  },
  {
   "cell_type": "markdown",
   "metadata": {},
   "source": [
    "http://karlrosaen.com/ml/notebooks/em-coin-flips/ - за основу брался код из этой статьи с допущением, что в нашем случае монеток (игроков) 6. А в каждой серии всего один бросок монетки (т.е. один вопрос)."
   ]
  },
  {
   "cell_type": "code",
   "execution_count": 109,
   "metadata": {},
   "outputs": [],
   "source": [
    "\n",
    "def coin_em(rolls, theta_A=None, theta_B=None, theta_C=None, theta_D=None,theta_E=None, theta_F=None, maxiter=10):\n",
    "    theta_A = theta_A or random.random()\n",
    "    theta_B = theta_B or random.random()\n",
    "    theta_С = theta_A or random.random()\n",
    "    theta_В = theta_B or random.random()\n",
    "    theta_E = theta_B or random.random()\n",
    "    theta_F = theta_B or random.random()\n",
    "    thetas = [(theta_A, theta_B, theta_C, theta_D, theta_E, theta_E)]\n",
    "    for c in range(maxiter):\n",
    "        print(\"#%d:\\t%0.2f  %0.2f %0.2f %0.2f %0.2f %0.2f\" % (c, theta_A, theta_B, theta_C, theta_D, theta_E, theta_E))\n",
    "        heads_A, tails_A, heads_B, tails_B, heads_C, tails_C, heads_D, tails_D, heads_E, tails_E, heads_F, tails_F = e_step(rolls, theta_A, theta_B, theta_C, theta_D, theta_E, theta_F)\n",
    "        theta_A, theta_B, theta_C, theta_D, theta_E, theta_F = m_step(heads_A, tails_A, heads_B, tails_B, heads_C, tails_C, heads_D, tails_D, heads_E, tails_E, heads_F, tails_F)\n",
    "        \n",
    "    thetas.append((theta_A, theta_B, theta_C, theta_D, theta_E, theta_E))    \n",
    "    return theta_A, theta_B, theta_C, theta_D, theta_E, theta_E\n",
    "\n",
    "def e_step(rolls, theta_A, theta_B, theta_C, theta_D, theta_E, theta_F):\n",
    "    \"\"\"Produce the expected value for heads_A, tails_A, heads_B, tails_B \n",
    "    over the rolls given the coin biases\"\"\"\n",
    "    \n",
    "    heads_A, tails_A = 0,0\n",
    "    heads_B, tails_B = 0,0\n",
    "    heads_C, tails_C = 0,0\n",
    "    heads_D, tails_D = 0,0\n",
    "    heads_E, tails_E = 0,0\n",
    "    heads_F, tails_F = 0,0\n",
    "    for trial in rolls:\n",
    "        likelihood_A = coin_likelihood(trial, theta_A)\n",
    "        likelihood_B = coin_likelihood(trial, theta_B)\n",
    "        likelihood_C = coin_likelihood(trial, theta_C)\n",
    "        likelihood_D = coin_likelihood(trial, theta_D)\n",
    "        likelihood_E = coin_likelihood(trial, theta_E)\n",
    "        likelihood_F = coin_likelihood(trial, theta_F)\n",
    "        p_A = likelihood_A / (likelihood_A + likelihood_B + likelihood_B + likelihood_C + likelihood_D + likelihood_E + likelihood_F)\n",
    "        p_B = likelihood_B / (likelihood_A + likelihood_B + likelihood_B + likelihood_C + likelihood_D + likelihood_E + likelihood_F)\n",
    "        p_C = likelihood_C / (likelihood_A + likelihood_B + likelihood_B + likelihood_C + likelihood_D + likelihood_E + likelihood_F)\n",
    "        p_D = likelihood_D / (likelihood_A + likelihood_B + likelihood_B + likelihood_C + likelihood_D + likelihood_E + likelihood_F)\n",
    "        p_E = likelihood_E / (likelihood_A + likelihood_B + likelihood_B + likelihood_C + likelihood_D + likelihood_E + likelihood_F)\n",
    "        p_F = likelihood_F / (likelihood_A + likelihood_B + likelihood_B + likelihood_C + likelihood_D + likelihood_E + likelihood_F)\n",
    "        heads_A += p_A * trial.count(\"1\")\n",
    "        tails_A += p_A * trial.count(\"0\")\n",
    "        heads_B += p_B * trial.count(\"1\")\n",
    "        tails_B += p_B * trial.count(\"0\")\n",
    "        heads_C += p_C * trial.count(\"1\")\n",
    "        tails_C += p_C * trial.count(\"0\")\n",
    "        heads_D += p_D * trial.count(\"1\")\n",
    "        tails_D += p_D * trial.count(\"0\") \n",
    "        heads_E += p_E * trial.count(\"1\")\n",
    "        tails_E += p_E * trial.count(\"0\")\n",
    "        heads_F += p_F * trial.count(\"1\")\n",
    "        tails_F += p_F * trial.count(\"0\") \n",
    "    return heads_A, tails_A, heads_B, tails_B, heads_C, tails_C, heads_D, tails_D, heads_E, tails_E, heads_F, tails_F\n",
    "\n",
    "def m_step(heads_A, tails_A, heads_B, tails_B, heads_C, tails_C, heads_D, tails_D, heads_E, tails_E, heads_F, tails_F):\n",
    "    \"\"\"Produce the values for theta that maximize the expected number of heads/tails\"\"\"\n",
    "\n",
    "    # Replace dummy values with your implementation\n",
    "    theta_A = heads_A / (heads_A + tails_A)\n",
    "    theta_B = heads_B / (heads_B + tails_B)\n",
    "    theta_C = heads_C / (heads_C + tails_C)\n",
    "    theta_D = heads_D / (heads_D + tails_D)\n",
    "    theta_E = heads_E / (heads_E + tails_E)\n",
    "    theta_F = heads_F / (heads_F + tails_F)\n",
    "    return theta_A, theta_B, theta_C, theta_D, theta_E, theta_F\n",
    "\n",
    "def coin_likelihood(roll, bias):\n",
    "    # P(X | Z, theta)\n",
    "    numHeads = roll.count(\"1\")\n",
    "    flips = len(roll)\n",
    "    return pow(bias, numHeads) * pow(1-bias, flips-numHeads)"
   ]
  },
  {
   "cell_type": "markdown",
   "metadata": {},
   "source": [
    "Проверяем на последовательности вопросов и задаем вероятности, что участник ответит на вопрос"
   ]
  },
  {
   "cell_type": "code",
   "execution_count": 132,
   "metadata": {},
   "outputs": [
    {
     "name": "stdout",
     "output_type": "stream",
     "text": [
      "#0:\t0.60  0.70 0.60 0.40 0.70 0.70\n",
      "#1:\t0.25  0.25 0.25 0.25 0.25 0.25\n",
      "#2:\t0.25  0.25 0.25 0.25 0.25 0.25\n",
      "#3:\t0.25  0.25 0.25 0.25 0.25 0.25\n",
      "#4:\t0.25  0.25 0.25 0.25 0.25 0.25\n",
      "(0.25, 0.25, 0.25, 0.25, 0.25, 0.25)\n"
     ]
    }
   ],
   "source": [
    "rolls =\"\".join(\"1000\").split()\n",
    "coef = coin_em(rolls, 0.6, 0.7, 0.6, 0.4, 0.6, 0.3, maxiter=5)\n",
    "print (coef)"
   ]
  },
  {
   "cell_type": "markdown",
   "metadata": {},
   "source": [
    "Алгоритм по крайней мере идет в нужном направлении, но у меня есть стойкое чувство, что для случая 6 участников я не\n",
    "учла все необходимые изменения для EM шагов."
   ]
  },
  {
   "cell_type": "markdown",
   "metadata": {},
   "source": [
    "Дальнейшие шаги, к сожалению, реализовать не успеваю, есть только понимание, что для запуска EM алгоритма необходимо\n",
    "итерироваться по всем играм, в каждой игре подать на вход 6 участников, их вероятности правильно ответить на вопрос,\n",
    "и с помощью ЕМ алгоритма обновить эти вероятности. И так по всем играм."
   ]
  },
  {
   "cell_type": "markdown",
   "metadata": {},
   "source": [
    "# APPENDIX.\n",
    "Ниже представлена еще одна попытка построить вероятность ответа игрока правильно на вопрос через другие параметры,\n",
    "такие как количество сыгранных игр, процент правильно отвеченных вопросов, рейтинг игрока и рейтинг (позиция) команды в сыгранной игре"
   ]
  },
  {
   "cell_type": "code",
   "execution_count": 39,
   "metadata": {},
   "outputs": [],
   "source": [
    "def predict(user_id):\n",
    "    inf = player_game[user_id]\n",
    "    counter = 0\n",
    "    list_of_answers = []\n",
    "    user_answer = 0\n",
    "    for row in inf:\n",
    "        for i, value in enumerate(row[1]):\n",
    "            if value not in [\"?\", \"X\"]:\n",
    "                counter += 1\n",
    "                user_answer += int(value)\n",
    "                list_of_answers.append(int(value))\n",
    "    return user_answer/counter"
   ]
  },
  {
   "cell_type": "code",
   "execution_count": 40,
   "metadata": {},
   "outputs": [],
   "source": [
    "def predict_1(user_id):\n",
    "    inf = player_game[user_id]\n",
    "    counter = 0\n",
    "    list_of_answers = []\n",
    "    user_answer = 0\n",
    "    game_counter = 0\n",
    "    for row in inf:\n",
    "        game_counter +=1\n",
    "        for i, value in enumerate(row[1]):\n",
    "            if value not in [\"?\", \"X\"]:\n",
    "                counter += 1\n",
    "                user_answer += int(value)\n",
    "                list_of_answers.append(int(value))\n",
    "    return game_counter, row[3], user_answer/counter, list_of_answers, row[4]"
   ]
  },
  {
   "cell_type": "code",
   "execution_count": 41,
   "metadata": {},
   "outputs": [],
   "source": [
    "def predict_2(user_id):\n",
    "    inf = player_game_test[user_id]\n",
    "    counter = 0\n",
    "    list_of_answers = []\n",
    "    user_answer = 0\n",
    "    game_counter = 0\n",
    "    for row in inf:\n",
    "        game_counter +=1\n",
    "        for i, value in enumerate(row[1]):\n",
    "            if value not in [\"?\", \"X\"]:\n",
    "                counter += 1\n",
    "                user_answer += int(value)\n",
    "                list_of_answers.append(int(value))\n",
    "    return game_counter, row[3], user_answer/counter, list_of_answers, row[4]"
   ]
  },
  {
   "cell_type": "code",
   "execution_count": 42,
   "metadata": {},
   "outputs": [],
   "source": [
    "def cases_user_x(user_id):\n",
    "    x_y_labels = predict_1(user_id)\n",
    "    y_train = np.array(x_y_labels[3]).reshape(-1,1)\n",
    "    x_train = np.full((len(y_train), 4), [x_y_labels[0],x_y_labels[1],x_y_labels[2], x_y_labels[4]])\n",
    "    return x_train\n",
    "def cases_user_y(user_id):\n",
    "    x_y_labels = predict_1(user_id)\n",
    "    y_train = np.array(x_y_labels[3]).reshape(-1,1)\n",
    "    return y_train\n",
    "def cases_user_x_1(user_id):\n",
    "    x_y_labels = predict_1(user_id)\n",
    "    y_train = np.mean(x_y_labels[3])\n",
    "    x_train = np.full((1, 4), [x_y_labels[0],x_y_labels[1],x_y_labels[2], x_y_labels[4]])\n",
    "    return x_train\n",
    "def cases_user_y_1(user_id):\n",
    "    x_y_labels = predict_1(user_id)\n",
    "    y_train = np.mean(x_y_labels[3])\n",
    "    return y_train\n",
    "def cases_user_x_2(user_id):\n",
    "    x_y_labels = predict_2(user_id)\n",
    "    y_train = np.mean(x_y_labels[3])\n",
    "    x_train = np.full((1, 4), [x_y_labels[0],x_y_labels[1],x_y_labels[2], x_y_labels[4]])\n",
    "    return x_train\n",
    "def cases_user_y_2(user_id):\n",
    "    x_y_labels = predict_2(user_id)\n",
    "    y_train = np.mean(x_y_labels[3])\n",
    "    return y_train"
   ]
  },
  {
   "cell_type": "code",
   "execution_count": 43,
   "metadata": {},
   "outputs": [],
   "source": [
    "X = np.vstack(list(map(cases_user_x_1, details['id'].sort_values())))\n",
    "y = np.vstack(list(map(cases_user_y_1, details['id'].sort_values())))"
   ]
  },
  {
   "cell_type": "code",
   "execution_count": 44,
   "metadata": {},
   "outputs": [],
   "source": [
    "X_test = np.vstack(list(map(cases_user_x_2, details_test['id'].sort_values())))\n",
    "y_test = np.vstack(list(map(cases_user_y_2, details_test['id'].sort_values())))"
   ]
  },
  {
   "cell_type": "code",
   "execution_count": 47,
   "metadata": {},
   "outputs": [],
   "source": [
    "scaler = StandardScaler()"
   ]
  },
  {
   "cell_type": "code",
   "execution_count": 48,
   "metadata": {},
   "outputs": [],
   "source": [
    "X_norm = scaler.fit_transform(X)\n",
    "X_norm_test = scaler.fit_transform(X_test)"
   ]
  },
  {
   "cell_type": "code",
   "execution_count": 49,
   "metadata": {},
   "outputs": [
    {
     "name": "stdout",
     "output_type": "stream",
     "text": [
      "0.026735257000382262\n"
     ]
    }
   ],
   "source": [
    "start = timer()\n",
    "model_0 = LinearRegression()\n",
    "y = np.clip(y, 1e-8, 1 - 1e-8)\n",
    "inv_sig_y = np.log(y / (1 - y))  \n",
    "model_0.fit(X_norm, inv_sig_y)\n",
    "end = timer()\n",
    "print(end - start)"
   ]
  },
  {
   "cell_type": "code",
   "execution_count": 67,
   "metadata": {},
   "outputs": [],
   "source": [
    "def sigmoid(x):\n",
    "    ex = np.exp(x)\n",
    "    return ex / (1 + ex)\n",
    "\n",
    "preds = sigmoid(model_0.predict(X_norm_test))"
   ]
  },
  {
   "cell_type": "code",
   "execution_count": 68,
   "metadata": {},
   "outputs": [],
   "source": [
    "diff = y_test - preds"
   ]
  },
  {
   "cell_type": "code",
   "execution_count": 69,
   "metadata": {},
   "outputs": [
    {
     "data": {
      "image/png": "[encoded data removed]",
      "text/plain": [
       "<Figure size 432x288 with 1 Axes>"
      ]
     },
     "metadata": {
      "needs_background": "light"
     },
     "output_type": "display_data"
    }
   ],
   "source": [
    "diff\n",
    "plt.hist(diff)\n",
    "plt.show()"
   ]
  },
  {
   "cell_type": "code",
   "execution_count": 76,
   "metadata": {},
   "outputs": [],
   "source": [
    "details_test['res'] = preds"
   ]
  },
  {
   "cell_type": "code",
   "execution_count": 77,
   "metadata": {},
   "outputs": [
    {
     "data": {
      "text/html": [
       "<div>\n",
       "<style scoped>\n",
       "    .dataframe tbody tr th:only-of-type {\n",
       "        vertical-align: middle;\n",
       "    }\n",
       "\n",
       "    .dataframe tbody tr th {\n",
       "        vertical-align: top;\n",
       "    }\n",
       "\n",
       "    .dataframe thead th {\n",
       "        text-align: right;\n",
       "    }\n",
       "</style>\n",
       "<table border=\"1\" class=\"dataframe\">\n",
       "  <thead>\n",
       "    <tr style=\"text-align: right;\">\n",
       "      <th></th>\n",
       "      <th>id</th>\n",
       "      <th>surname</th>\n",
       "      <th>name</th>\n",
       "      <th>rating</th>\n",
       "      <th>res</th>\n",
       "    </tr>\n",
       "  </thead>\n",
       "  <tbody>\n",
       "    <tr>\n",
       "      <th>21619</th>\n",
       "      <td>36844</td>\n",
       "      <td>Щербина</td>\n",
       "      <td>Павел</td>\n",
       "      <td>855</td>\n",
       "      <td>0.951208</td>\n",
       "    </tr>\n",
       "    <tr>\n",
       "      <th>21625</th>\n",
       "      <td>51717</td>\n",
       "      <td>Джапаров</td>\n",
       "      <td>Ержан</td>\n",
       "      <td>2761</td>\n",
       "      <td>0.937103</td>\n",
       "    </tr>\n",
       "    <tr>\n",
       "      <th>21618</th>\n",
       "      <td>76264</td>\n",
       "      <td>Иваницкий</td>\n",
       "      <td>Илья</td>\n",
       "      <td>8125</td>\n",
       "      <td>0.934724</td>\n",
       "    </tr>\n",
       "    <tr>\n",
       "      <th>9513</th>\n",
       "      <td>224660</td>\n",
       "      <td>Байдуков</td>\n",
       "      <td>Валентин</td>\n",
       "      <td>0</td>\n",
       "      <td>0.932786</td>\n",
       "    </tr>\n",
       "    <tr>\n",
       "      <th>6696</th>\n",
       "      <td>108228</td>\n",
       "      <td>Резонтова</td>\n",
       "      <td>Наталья</td>\n",
       "      <td>286</td>\n",
       "      <td>0.932046</td>\n",
       "    </tr>\n",
       "    <tr>\n",
       "      <th>45348</th>\n",
       "      <td>32585</td>\n",
       "      <td>Улахович</td>\n",
       "      <td>Владимир</td>\n",
       "      <td>7590</td>\n",
       "      <td>0.923893</td>\n",
       "    </tr>\n",
       "    <tr>\n",
       "      <th>106480</th>\n",
       "      <td>73090</td>\n",
       "      <td>Третьяков</td>\n",
       "      <td>Кирилл</td>\n",
       "      <td>4675</td>\n",
       "      <td>0.919330</td>\n",
       "    </tr>\n",
       "    <tr>\n",
       "      <th>86969</th>\n",
       "      <td>169948</td>\n",
       "      <td>Павлов</td>\n",
       "      <td>Степан</td>\n",
       "      <td>75</td>\n",
       "      <td>0.915689</td>\n",
       "    </tr>\n",
       "    <tr>\n",
       "      <th>97218</th>\n",
       "      <td>201697</td>\n",
       "      <td>Бардин</td>\n",
       "      <td>Александр</td>\n",
       "      <td>1530</td>\n",
       "      <td>0.915094</td>\n",
       "    </tr>\n",
       "    <tr>\n",
       "      <th>4107</th>\n",
       "      <td>184250</td>\n",
       "      <td>Гудзь</td>\n",
       "      <td>Анна</td>\n",
       "      <td>1822</td>\n",
       "      <td>0.914087</td>\n",
       "    </tr>\n",
       "  </tbody>\n",
       "</table>\n",
       "</div>"
      ],
      "text/plain": [
       "            id    surname       name  rating       res\n",
       "21619    36844    Щербина      Павел     855  0.951208\n",
       "21625    51717   Джапаров      Ержан    2761  0.937103\n",
       "21618    76264  Иваницкий       Илья    8125  0.934724\n",
       "9513    224660   Байдуков   Валентин       0  0.932786\n",
       "6696    108228  Резонтова    Наталья     286  0.932046\n",
       "45348    32585   Улахович   Владимир    7590  0.923893\n",
       "106480   73090  Третьяков     Кирилл    4675  0.919330\n",
       "86969   169948     Павлов     Степан      75  0.915689\n",
       "97218   201697     Бардин  Александр    1530  0.915094\n",
       "4107    184250      Гудзь       Анна    1822  0.914087"
      ]
     },
     "execution_count": 77,
     "metadata": {},
     "output_type": "execute_result"
    }
   ],
   "source": [
    "final = details_test.sort_values(['res'], ascending = False)\n",
    "final.head(10)"
   ]
  },
  {
   "cell_type": "markdown",
   "metadata": {},
   "source": [
    "результаты как-то не сильно вдохновили:)"
   ]
  }
 ],
 "metadata": {
  "kernelspec": {
   "display_name": "Python 3",
   "language": "python",
   "name": "python3"
  },
  "language_info": {
   "codemirror_mode": {
    "name": "ipython",
    "version": 3
   },
   "file_extension": ".py",
   "mimetype": "text/x-python",
   "name": "python",
   "nbconvert_exporter": "python",
   "pygments_lexer": "ipython3",
   "version": "3.7.6"
  }
 },
 "nbformat": 4,
 "nbformat_minor": 2
}
